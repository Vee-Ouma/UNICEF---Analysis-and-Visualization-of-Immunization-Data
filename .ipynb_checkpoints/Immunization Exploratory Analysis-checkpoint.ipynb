{
 "cells": [
  {
   "cell_type": "code",
   "execution_count": 1,
   "metadata": {},
   "outputs": [],
   "source": [
    "import pandas as pd\n",
    "import numpy as np\n",
    "import matplotlib.pyplot as plt\n",
    "from sklearn.feature_selection import RFE\n",
    "from sklearn.linear_model import LogisticRegression\n",
    "from sklearn import metrics\n",
    "from sklearn.model_selection import train_test_split\n",
    "from sklearn.linear_model import LogisticRegression"
   ]
  },
  {
   "cell_type": "code",
   "execution_count": 2,
   "metadata": {},
   "outputs": [
    {
     "name": "stderr",
     "output_type": "stream",
     "text": [
      "C:\\Users\\sneha\\Anaconda3\\lib\\site-packages\\IPython\\core\\interactiveshell.py:2698: DtypeWarning: Columns (107,116,118,121,122,123,125,128,130,138,153,158,167,168,169) have mixed types. Specify dtype option on import or set low_memory=False.\n",
      "  interactivity=interactivity, compiler=compiler, result=result)\n"
     ]
    }
   ],
   "source": [
    "df = pd.read_csv('ch.csv')"
   ]
  },
  {
   "cell_type": "code",
   "execution_count": 3,
   "metadata": {},
   "outputs": [
    {
     "data": {
      "text/plain": [
       "11245"
      ]
     },
     "execution_count": 3,
     "metadata": {},
     "output_type": "execute_result"
    }
   ],
   "source": [
    "len(df)"
   ]
  },
  {
   "cell_type": "code",
   "execution_count": 4,
   "metadata": {},
   "outputs": [
    {
     "name": "stdout",
     "output_type": "stream",
     "text": [
      "Index(['CA6M', 'CA11A', 'CA11C', 'CA11H', 'CA11I', 'CA11J', 'CA11L', 'CA11Q',\n",
      "       'CA11S', 'CA13R', 'ML6H', 'ML6R', 'ML9E', 'ML9F', 'ML9H'],\n",
      "      dtype='object')\n"
     ]
    }
   ],
   "source": [
    "colname = df.columns[[107,116,118,121,122,123,125,128,130,138,153,158,167,168,169]]\n",
    "print (colname)"
   ]
  },
  {
   "cell_type": "code",
   "execution_count": 5,
   "metadata": {},
   "outputs": [
    {
     "data": {
      "text/html": [
       "<div>\n",
       "<style>\n",
       "    .dataframe thead tr:only-child th {\n",
       "        text-align: right;\n",
       "    }\n",
       "\n",
       "    .dataframe thead th {\n",
       "        text-align: left;\n",
       "    }\n",
       "\n",
       "    .dataframe tbody tr th {\n",
       "        vertical-align: top;\n",
       "    }\n",
       "</style>\n",
       "<table border=\"1\" class=\"dataframe\">\n",
       "  <thead>\n",
       "    <tr style=\"text-align: right;\">\n",
       "      <th></th>\n",
       "      <th>HH1</th>\n",
       "      <th>HH2</th>\n",
       "      <th>LN</th>\n",
       "      <th>UF1</th>\n",
       "      <th>UF2</th>\n",
       "      <th>UF4</th>\n",
       "      <th>UF6</th>\n",
       "      <th>UF7</th>\n",
       "      <th>UF8D</th>\n",
       "      <th>UF8M</th>\n",
       "      <th>...</th>\n",
       "      <th>CDOI</th>\n",
       "      <th>CDOB</th>\n",
       "      <th>CAGE</th>\n",
       "      <th>CAGE_6</th>\n",
       "      <th>CAGE_11</th>\n",
       "      <th>melevel</th>\n",
       "      <th>religion</th>\n",
       "      <th>wscore</th>\n",
       "      <th>windex5</th>\n",
       "      <th>chweight</th>\n",
       "    </tr>\n",
       "  </thead>\n",
       "  <tbody>\n",
       "    <tr>\n",
       "      <th>0</th>\n",
       "      <td>1</td>\n",
       "      <td>1</td>\n",
       "      <td>3</td>\n",
       "      <td>1</td>\n",
       "      <td>1</td>\n",
       "      <td>3</td>\n",
       "      <td>2</td>\n",
       "      <td>A12</td>\n",
       "      <td>14</td>\n",
       "      <td>2</td>\n",
       "      <td>...</td>\n",
       "      <td>1322</td>\n",
       "      <td>NaN</td>\n",
       "      <td>NaN</td>\n",
       "      <td>NaN</td>\n",
       "      <td>NaN</td>\n",
       "      <td>3</td>\n",
       "      <td>1</td>\n",
       "      <td>0.0000</td>\n",
       "      <td>0</td>\n",
       "      <td>0.000000</td>\n",
       "    </tr>\n",
       "    <tr>\n",
       "      <th>1</th>\n",
       "      <td>1</td>\n",
       "      <td>1</td>\n",
       "      <td>4</td>\n",
       "      <td>1</td>\n",
       "      <td>1</td>\n",
       "      <td>4</td>\n",
       "      <td>2</td>\n",
       "      <td>A12</td>\n",
       "      <td>14</td>\n",
       "      <td>2</td>\n",
       "      <td>...</td>\n",
       "      <td>1322</td>\n",
       "      <td>NaN</td>\n",
       "      <td>NaN</td>\n",
       "      <td>NaN</td>\n",
       "      <td>NaN</td>\n",
       "      <td>3</td>\n",
       "      <td>1</td>\n",
       "      <td>0.0000</td>\n",
       "      <td>0</td>\n",
       "      <td>0.000000</td>\n",
       "    </tr>\n",
       "    <tr>\n",
       "      <th>2</th>\n",
       "      <td>1</td>\n",
       "      <td>21</td>\n",
       "      <td>6</td>\n",
       "      <td>1</td>\n",
       "      <td>21</td>\n",
       "      <td>6</td>\n",
       "      <td>1</td>\n",
       "      <td>A12</td>\n",
       "      <td>15</td>\n",
       "      <td>2</td>\n",
       "      <td>...</td>\n",
       "      <td>1322</td>\n",
       "      <td>1273.0</td>\n",
       "      <td>49.0</td>\n",
       "      <td>6.0</td>\n",
       "      <td>5.0</td>\n",
       "      <td>3</td>\n",
       "      <td>99</td>\n",
       "      <td>0.7822</td>\n",
       "      <td>5</td>\n",
       "      <td>1.096132</td>\n",
       "    </tr>\n",
       "    <tr>\n",
       "      <th>3</th>\n",
       "      <td>1</td>\n",
       "      <td>21</td>\n",
       "      <td>7</td>\n",
       "      <td>1</td>\n",
       "      <td>21</td>\n",
       "      <td>7</td>\n",
       "      <td>1</td>\n",
       "      <td>A12</td>\n",
       "      <td>15</td>\n",
       "      <td>2</td>\n",
       "      <td>...</td>\n",
       "      <td>1322</td>\n",
       "      <td>1301.0</td>\n",
       "      <td>21.0</td>\n",
       "      <td>3.0</td>\n",
       "      <td>2.0</td>\n",
       "      <td>3</td>\n",
       "      <td>99</td>\n",
       "      <td>0.7822</td>\n",
       "      <td>5</td>\n",
       "      <td>1.096132</td>\n",
       "    </tr>\n",
       "    <tr>\n",
       "      <th>4</th>\n",
       "      <td>1</td>\n",
       "      <td>21</td>\n",
       "      <td>8</td>\n",
       "      <td>1</td>\n",
       "      <td>21</td>\n",
       "      <td>8</td>\n",
       "      <td>1</td>\n",
       "      <td>A12</td>\n",
       "      <td>15</td>\n",
       "      <td>2</td>\n",
       "      <td>...</td>\n",
       "      <td>1322</td>\n",
       "      <td>1317.0</td>\n",
       "      <td>5.0</td>\n",
       "      <td>1.0</td>\n",
       "      <td>1.0</td>\n",
       "      <td>3</td>\n",
       "      <td>99</td>\n",
       "      <td>0.7822</td>\n",
       "      <td>5</td>\n",
       "      <td>1.096132</td>\n",
       "    </tr>\n",
       "  </tbody>\n",
       "</table>\n",
       "<p>5 rows × 298 columns</p>\n",
       "</div>"
      ],
      "text/plain": [
       "   HH1  HH2  LN  UF1  UF2  UF4  UF6  UF7  UF8D  UF8M    ...     CDOI    CDOB  \\\n",
       "0    1    1   3    1    1    3    2  A12    14     2    ...     1322     NaN   \n",
       "1    1    1   4    1    1    4    2  A12    14     2    ...     1322     NaN   \n",
       "2    1   21   6    1   21    6    1  A12    15     2    ...     1322  1273.0   \n",
       "3    1   21   7    1   21    7    1  A12    15     2    ...     1322  1301.0   \n",
       "4    1   21   8    1   21    8    1  A12    15     2    ...     1322  1317.0   \n",
       "\n",
       "   CAGE  CAGE_6  CAGE_11  melevel  religion  wscore  windex5  chweight  \n",
       "0   NaN     NaN      NaN        3         1  0.0000        0  0.000000  \n",
       "1   NaN     NaN      NaN        3         1  0.0000        0  0.000000  \n",
       "2  49.0     6.0      5.0        3        99  0.7822        5  1.096132  \n",
       "3  21.0     3.0      2.0        3        99  0.7822        5  1.096132  \n",
       "4   5.0     1.0      1.0        3        99  0.7822        5  1.096132  \n",
       "\n",
       "[5 rows x 298 columns]"
      ]
     },
     "execution_count": 5,
     "metadata": {},
     "output_type": "execute_result"
    }
   ],
   "source": [
    "df.iloc[:,[107,116,118,121,122,123,125,128,130,138,153,158,167,168,169]] = df.iloc[:,[107,116,118,121,122,123,125,128,130,138,153,158,167,168,169]].astype(object)\n",
    "#df.drop(df.columns[[107,116,118,121,122,123,125,128,130,138,153,158,167,168,169]], axis=1) \n",
    "df.head()"
   ]
  },
  {
   "cell_type": "code",
   "execution_count": 6,
   "metadata": {},
   "outputs": [
    {
     "data": {
      "text/plain": [
       "{dtype('int64'): Index(['HH1', 'HH2', 'LN', 'UF1', 'UF2', 'UF4', 'UF6', 'UF8D', 'UF8M', 'UF8Y',\n",
       "        'UF9', 'UF11', 'HH6', 'HH7', 'HL4', 'PSU', 'stratum', 'CDOI', 'melevel',\n",
       "        'religion', 'windex5'],\n",
       "       dtype='object'),\n",
       " dtype('float64'): Index(['UF12H', 'UF12M', 'UF13H', 'UF13M', 'AG1D', 'AG1M', 'AG1Y', 'AG2',\n",
       "        'BR1', 'BR1AD',\n",
       "        ...\n",
       "        'TN12_4', 'TN12A', 'ED4A', 'ED4B', 'CDOB', 'CAGE', 'CAGE_6', 'CAGE_11',\n",
       "        'wscore', 'chweight'],\n",
       "       dtype='object', length=188),\n",
       " dtype('O'): Index(['UF7', 'UF10', 'EC7AA', 'EC7AB', 'EC7AX', 'EC7AY', 'EC7BA', 'EC7BB',\n",
       "        'EC7BX', 'EC7BY', 'EC7CA', 'EC7CB', 'EC7CX', 'EC7CY', 'EC7DA', 'EC7DB',\n",
       "        'EC7DX', 'EC7DY', 'EC7EA', 'EC7EB', 'EC7EX', 'EC7EY', 'EC7FA', 'EC7FB',\n",
       "        'EC7FX', 'EC7FY', 'CA6A', 'CA6B', 'CA6C', 'CA6G', 'CA6H', 'CA6L',\n",
       "        'CA6M', 'CA6N', 'CA6O', 'CA6Q', 'CA6X', 'CA11A', 'CA11B', 'CA11C',\n",
       "        'CA11D', 'CA11H', 'CA11I', 'CA11J', 'CA11K', 'CA11L', 'CA11O', 'CA11P',\n",
       "        'CA11Q', 'CA11R', 'CA11S', 'CA11X', 'CA13A', 'CA13B', 'CA13M', 'CA13P',\n",
       "        'CA13Q', 'CA13R', 'CA13X', 'CA13Z', 'ML6A', 'ML6B', 'ML6C', 'ML6D',\n",
       "        'ML6E', 'ML6F', 'ML6H', 'ML6I', 'ML6J', 'ML6P', 'ML6Q', 'ML6R', 'ML6X',\n",
       "        'ML6Z', 'ML9A', 'ML9B', 'ML9C', 'ML9D', 'ML9E', 'ML9F', 'ML9H', 'ML9I',\n",
       "        'ML9J', 'ML9P', 'ML9Q', 'ML9R', 'ML9X', 'ML9Z', 'AN1'],\n",
       "       dtype='object')}"
      ]
     },
     "execution_count": 6,
     "metadata": {},
     "output_type": "execute_result"
    }
   ],
   "source": [
    "g = df.columns.to_series().groupby(df.dtypes).groups\n",
    "g"
   ]
  },
  {
   "cell_type": "code",
   "execution_count": 7,
   "metadata": {},
   "outputs": [],
   "source": [
    "df = df.loc[:, ~df.columns.str.startswith('UF')]\n",
    "df = df.loc[:, ~df.columns.str.startswith('HH')]\n",
    "df = df.loc[:, ~df.columns.str.startswith('LN')]\n",
    "df.drop('AN1', axis=1, inplace=True)"
   ]
  },
  {
   "cell_type": "code",
   "execution_count": 8,
   "metadata": {},
   "outputs": [],
   "source": [
    "target = df['IM6']\n",
    "df.drop('IM6', axis=1, inplace=True)"
   ]
  },
  {
   "cell_type": "code",
   "execution_count": 9,
   "metadata": {
    "collapsed": true
   },
   "outputs": [],
   "source": [
    "df = df.loc[:, ~df.columns.str.startswith('IM')]"
   ]
  },
  {
   "cell_type": "code",
   "execution_count": 10,
   "metadata": {},
   "outputs": [
    {
     "data": {
      "text/html": [
       "<div>\n",
       "<style>\n",
       "    .dataframe thead tr:only-child th {\n",
       "        text-align: right;\n",
       "    }\n",
       "\n",
       "    .dataframe thead th {\n",
       "        text-align: left;\n",
       "    }\n",
       "\n",
       "    .dataframe tbody tr th {\n",
       "        vertical-align: top;\n",
       "    }\n",
       "</style>\n",
       "<table border=\"1\" class=\"dataframe\">\n",
       "  <thead>\n",
       "    <tr style=\"text-align: right;\">\n",
       "      <th></th>\n",
       "      <th>AG1D</th>\n",
       "      <th>AG1M</th>\n",
       "      <th>AG1Y</th>\n",
       "      <th>AG2</th>\n",
       "      <th>BR1</th>\n",
       "      <th>BR1AD</th>\n",
       "      <th>BR1AM</th>\n",
       "      <th>BR1AY</th>\n",
       "      <th>BR2</th>\n",
       "      <th>BR2A</th>\n",
       "      <th>...</th>\n",
       "      <th>ML9P_?</th>\n",
       "      <th>ML9P_P</th>\n",
       "      <th>ML9Q_?</th>\n",
       "      <th>ML9Q_Q</th>\n",
       "      <th>ML9R_?</th>\n",
       "      <th>ML9R_R</th>\n",
       "      <th>ML9X_?</th>\n",
       "      <th>ML9X_X</th>\n",
       "      <th>ML9Z_?</th>\n",
       "      <th>ML9Z_Z</th>\n",
       "    </tr>\n",
       "  </thead>\n",
       "  <tbody>\n",
       "    <tr>\n",
       "      <th>0</th>\n",
       "      <td>NaN</td>\n",
       "      <td>NaN</td>\n",
       "      <td>NaN</td>\n",
       "      <td>NaN</td>\n",
       "      <td>NaN</td>\n",
       "      <td>NaN</td>\n",
       "      <td>NaN</td>\n",
       "      <td>NaN</td>\n",
       "      <td>NaN</td>\n",
       "      <td>NaN</td>\n",
       "      <td>...</td>\n",
       "      <td>0</td>\n",
       "      <td>0</td>\n",
       "      <td>0</td>\n",
       "      <td>0</td>\n",
       "      <td>0</td>\n",
       "      <td>0</td>\n",
       "      <td>0</td>\n",
       "      <td>0</td>\n",
       "      <td>0</td>\n",
       "      <td>0</td>\n",
       "    </tr>\n",
       "    <tr>\n",
       "      <th>1</th>\n",
       "      <td>NaN</td>\n",
       "      <td>NaN</td>\n",
       "      <td>NaN</td>\n",
       "      <td>NaN</td>\n",
       "      <td>NaN</td>\n",
       "      <td>NaN</td>\n",
       "      <td>NaN</td>\n",
       "      <td>NaN</td>\n",
       "      <td>NaN</td>\n",
       "      <td>NaN</td>\n",
       "      <td>...</td>\n",
       "      <td>0</td>\n",
       "      <td>0</td>\n",
       "      <td>0</td>\n",
       "      <td>0</td>\n",
       "      <td>0</td>\n",
       "      <td>0</td>\n",
       "      <td>0</td>\n",
       "      <td>0</td>\n",
       "      <td>0</td>\n",
       "      <td>0</td>\n",
       "    </tr>\n",
       "    <tr>\n",
       "      <th>2</th>\n",
       "      <td>4.0</td>\n",
       "      <td>1.0</td>\n",
       "      <td>2006.0</td>\n",
       "      <td>4.0</td>\n",
       "      <td>3.0</td>\n",
       "      <td>NaN</td>\n",
       "      <td>NaN</td>\n",
       "      <td>NaN</td>\n",
       "      <td>2.0</td>\n",
       "      <td>NaN</td>\n",
       "      <td>...</td>\n",
       "      <td>0</td>\n",
       "      <td>0</td>\n",
       "      <td>0</td>\n",
       "      <td>0</td>\n",
       "      <td>0</td>\n",
       "      <td>0</td>\n",
       "      <td>0</td>\n",
       "      <td>0</td>\n",
       "      <td>0</td>\n",
       "      <td>0</td>\n",
       "    </tr>\n",
       "    <tr>\n",
       "      <th>3</th>\n",
       "      <td>6.0</td>\n",
       "      <td>5.0</td>\n",
       "      <td>2008.0</td>\n",
       "      <td>1.0</td>\n",
       "      <td>3.0</td>\n",
       "      <td>NaN</td>\n",
       "      <td>NaN</td>\n",
       "      <td>NaN</td>\n",
       "      <td>2.0</td>\n",
       "      <td>NaN</td>\n",
       "      <td>...</td>\n",
       "      <td>0</td>\n",
       "      <td>0</td>\n",
       "      <td>0</td>\n",
       "      <td>1</td>\n",
       "      <td>0</td>\n",
       "      <td>0</td>\n",
       "      <td>0</td>\n",
       "      <td>0</td>\n",
       "      <td>0</td>\n",
       "      <td>0</td>\n",
       "    </tr>\n",
       "    <tr>\n",
       "      <th>4</th>\n",
       "      <td>4.0</td>\n",
       "      <td>9.0</td>\n",
       "      <td>2009.0</td>\n",
       "      <td>0.0</td>\n",
       "      <td>3.0</td>\n",
       "      <td>NaN</td>\n",
       "      <td>NaN</td>\n",
       "      <td>NaN</td>\n",
       "      <td>2.0</td>\n",
       "      <td>NaN</td>\n",
       "      <td>...</td>\n",
       "      <td>0</td>\n",
       "      <td>0</td>\n",
       "      <td>0</td>\n",
       "      <td>0</td>\n",
       "      <td>0</td>\n",
       "      <td>0</td>\n",
       "      <td>0</td>\n",
       "      <td>0</td>\n",
       "      <td>0</td>\n",
       "      <td>0</td>\n",
       "    </tr>\n",
       "  </tbody>\n",
       "</table>\n",
       "<p>5 rows × 264 columns</p>\n",
       "</div>"
      ],
      "text/plain": [
       "   AG1D  AG1M    AG1Y  AG2  BR1  BR1AD  BR1AM  BR1AY  BR2  BR2A   ...    \\\n",
       "0   NaN   NaN     NaN  NaN  NaN    NaN    NaN    NaN  NaN   NaN   ...     \n",
       "1   NaN   NaN     NaN  NaN  NaN    NaN    NaN    NaN  NaN   NaN   ...     \n",
       "2   4.0   1.0  2006.0  4.0  3.0    NaN    NaN    NaN  2.0   NaN   ...     \n",
       "3   6.0   5.0  2008.0  1.0  3.0    NaN    NaN    NaN  2.0   NaN   ...     \n",
       "4   4.0   9.0  2009.0  0.0  3.0    NaN    NaN    NaN  2.0   NaN   ...     \n",
       "\n",
       "   ML9P_?  ML9P_P  ML9Q_?  ML9Q_Q  ML9R_?  ML9R_R  ML9X_?  ML9X_X  ML9Z_?  \\\n",
       "0       0       0       0       0       0       0       0       0       0   \n",
       "1       0       0       0       0       0       0       0       0       0   \n",
       "2       0       0       0       0       0       0       0       0       0   \n",
       "3       0       0       0       1       0       0       0       0       0   \n",
       "4       0       0       0       0       0       0       0       0       0   \n",
       "\n",
       "   ML9Z_Z  \n",
       "0       0  \n",
       "1       0  \n",
       "2       0  \n",
       "3       0  \n",
       "4       0  \n",
       "\n",
       "[5 rows x 264 columns]"
      ]
     },
     "execution_count": 10,
     "metadata": {},
     "output_type": "execute_result"
    }
   ],
   "source": [
    "dummies = pd.get_dummies(df)\n",
    "dummies.head()"
   ]
  },
  {
   "cell_type": "code",
   "execution_count": 11,
   "metadata": {},
   "outputs": [
    {
     "data": {
      "text/plain": [
       "Index(['AG1D', 'AG1M', 'AG1Y', 'AG2', 'BR1', 'BR1AD', 'BR1AM', 'BR1AY', 'BR2',\n",
       "       'BR2A',\n",
       "       ...\n",
       "       'ML9P_?', 'ML9P_P', 'ML9Q_?', 'ML9Q_Q', 'ML9R_?', 'ML9R_R', 'ML9X_?',\n",
       "       'ML9X_X', 'ML9Z_?', 'ML9Z_Z'],\n",
       "      dtype='object', length=264)"
      ]
     },
     "execution_count": 11,
     "metadata": {},
     "output_type": "execute_result"
    }
   ],
   "source": [
    "dummies.columns"
   ]
  },
  {
   "cell_type": "code",
   "execution_count": 12,
   "metadata": {},
   "outputs": [],
   "source": [
    "#cols = [col for col in dummies if col.startswith('IM1_')]\n",
    "#cols\n",
    "dummies['recall'] = target"
   ]
  },
  {
   "cell_type": "code",
   "execution_count": 13,
   "metadata": {},
   "outputs": [
    {
     "data": {
      "text/plain": [
       "array([nan,  1.,  8.,  2.,  9.])"
      ]
     },
     "execution_count": 13,
     "metadata": {},
     "output_type": "execute_result"
    }
   ],
   "source": [
    "dummies['recall'].unique()"
   ]
  },
  {
   "cell_type": "code",
   "execution_count": 14,
   "metadata": {
    "collapsed": true
   },
   "outputs": [],
   "source": [
    "dummies['is_recall'] = dummies.recall.apply(lambda x: 1 if x == 1 else 0)\n",
    "dummies.drop('recall', axis=1, inplace=True)\n",
    "y=['is_recall']\n",
    "dummy_vars =dummies.columns.values.tolist()\n",
    "X=[i for i in dummy_vars if i not in y]"
   ]
  },
  {
   "cell_type": "code",
   "execution_count": 15,
   "metadata": {},
   "outputs": [],
   "source": [
    "dummies = dummies.fillna(0)"
   ]
  },
  {
   "cell_type": "code",
   "execution_count": 16,
   "metadata": {},
   "outputs": [
    {
     "name": "stdout",
     "output_type": "stream",
     "text": [
      "[False False False False False False False False False False False False\n",
      " False False False False False False False False False False False False\n",
      " False False False False False False False False False False False False\n",
      " False False False False False False False False False False False False\n",
      " False False False False False False False False False False False False\n",
      " False False False False False False False False False False False False\n",
      " False False False False False False False False False False False False\n",
      " False False False False False False False False False False False False\n",
      " False False  True False False False False False False False False False\n",
      " False False False False False False False False False False False False\n",
      " False False  True False False False False False False False  True False\n",
      "  True False False False False False False False False False False False\n",
      " False False False False False False False False False False False False\n",
      " False False False False False False False False False False False False\n",
      " False False False False False False False False False False False False\n",
      "  True False  True False False False False False False False  True False\n",
      " False False False False False False False False False  True  True False\n",
      "  True False False  True False False  True  True  True False False False\n",
      " False False False False False False False False False False  True  True\n",
      "  True False False False False False False False False False False  True\n",
      " False False False False False  True  True False False  True  True False\n",
      " False  True False False False False  True  True False False False False] [195 193 104 198 140 116 117 225 114 113 217 166  83 100 187  94 163 172\n",
      "  60 171  84 160 153  55  25 158  54  62 209 120 229 214 128  87  39 144\n",
      " 178 173 105 168  52 129  88 180  80 169 237 191 109 130 167 213 112 145\n",
      " 219  19  20  34  68  97 233 124 150 240  67 211 232  95 231 110 146  75\n",
      "  79 207  99 177 192 184 159 236 179 183 202 136 182 201 139 238  92 197\n",
      " 224 234 203 204   9  91  10 101   1  78 155 196 156 239 210 107  93 143\n",
      " 226 186 221 222 223  74 199 181 185 228 189 190 103 102   1  32  63 216\n",
      " 230 188 134  24   1  22   1  11 162  23 161  61  57  86  59  90  53  96\n",
      "  58 141 119 132 106 137 149 131  76 206  31 205  71 133 208 200 220 154\n",
      " 147 127 115 138   3 142 175 135 165 151  72 152  12 148  73  16  28  15\n",
      "   1  29   1  49  27  17  30  18  69  41   1  64  38  42  33  56 157  50\n",
      "  51  40  66   1   1 194   1 111   5   1  65  98   1   1   1  43 218  35\n",
      "   8 174  70 170  48 215  36   6  21 235   1   1   1  46  44  47  45 108\n",
      "  85 164 125  13 118   1  26  82 122  37   7   1   1  77  14   1   1 227\n",
      "   2   1 121 212   4  89   1   1 123  81 126 176]\n"
     ]
    }
   ],
   "source": [
    "logreg = LogisticRegression()\n",
    "rfe = RFE(logreg,n_features_to_select= 25)\n",
    "rfe = rfe.fit(dummies[X],dummies[y].values.ravel())\n",
    "print(rfe.support_,rfe.ranking_)"
   ]
  },
  {
   "cell_type": "code",
   "execution_count": 17,
   "metadata": {
    "scrolled": false
   },
   "outputs": [
    {
     "name": "stdout",
     "output_type": "stream",
     "text": [
      "98 True 1 WHZNOAGE\n",
      "122 True 1 CAGE_6\n",
      "130 True 1 EC7AA_A\n",
      "132 True 1 EC7AB_B\n",
      "180 True 1 CA6B_B\n",
      "182 True 1 CA6C_C\n",
      "190 True 1 CA6M_M\n",
      "201 True 1 CA11C_C\n",
      "202 True 1 CA11D_D\n",
      "204 True 1 CA11I_I\n",
      "207 True 1 CA11L_L\n",
      "210 True 1 CA11Q_Q\n",
      "211 True 1 CA11R_R\n",
      "212 True 1 CA11S_S\n",
      "226 True 1 ML6E_E\n",
      "227 True 1 ML6F_F\n",
      "228 True 1 ML6H_H\n",
      "239 True 1 ML9B_B\n",
      "245 True 1 ML9E_E\n",
      "246 True 1 ML9F_?\n",
      "249 True 1 ML9H_H\n",
      "250 True 1 ML9I_?\n",
      "253 True 1 ML9J_J\n",
      "258 True 1 ML9R_?\n",
      "259 True 1 ML9R_R\n"
     ]
    }
   ],
   "source": [
    "cols = []\n",
    "for i in range(len(rfe.ranking_)):\n",
    "    if rfe.ranking_[i] == 1:\n",
    "        print(i,rfe.support_[i],rfe.ranking_[i],dummies.columns[i])   \n",
    "        cols.append(dummies.columns[i])"
   ]
  },
  {
   "cell_type": "code",
   "execution_count": 18,
   "metadata": {
    "collapsed": true
   },
   "outputs": [],
   "source": [
    "X=dummies[cols]\n",
    "y=dummies['is_recall']"
   ]
  },
  {
   "cell_type": "code",
   "execution_count": 19,
   "metadata": {},
   "outputs": [
    {
     "data": {
      "text/plain": [
       "LogisticRegression(C=1.0, class_weight=None, dual=False, fit_intercept=True,\n",
       "          intercept_scaling=1, max_iter=100, multi_class='ovr', n_jobs=1,\n",
       "          penalty='l2', random_state=None, solver='liblinear', tol=0.0001,\n",
       "          verbose=0, warm_start=False)"
      ]
     },
     "execution_count": 19,
     "metadata": {},
     "output_type": "execute_result"
    }
   ],
   "source": [
    "X_train, X_test, y_train, y_test = train_test_split(X,y, test_size=0.3, random_state=0)\n",
    "logreg = LogisticRegression()\n",
    "logreg.fit(X_train, y_train)"
   ]
  },
  {
   "cell_type": "code",
   "execution_count": 20,
   "metadata": {},
   "outputs": [
    {
     "name": "stdout",
     "output_type": "stream",
     "text": [
      "Accuracy of logistic regression classifier on test set: 0.65\n"
     ]
    }
   ],
   "source": [
    "y_pred = logreg.predict(X_test)\n",
    "print('Accuracy of logistic regression classifier on test set: {:.2f}'.format(logreg.score(X_test, y_test)))"
   ]
  },
  {
   "cell_type": "code",
   "execution_count": 21,
   "metadata": {},
   "outputs": [
    {
     "name": "stdout",
     "output_type": "stream",
     "text": [
      "10-fold cross validation average accuracy: 0.636\n"
     ]
    }
   ],
   "source": [
    "from sklearn import model_selection\n",
    "from sklearn.model_selection import cross_val_score\n",
    "kfold = model_selection.KFold(n_splits=10, random_state=7)\n",
    "modelCV = LogisticRegression()\n",
    "scoring = 'accuracy'\n",
    "results = model_selection.cross_val_score(modelCV, X_train, y_train, cv=kfold, scoring=scoring)\n",
    "print(\"10-fold cross validation average accuracy: %.3f\" % (results.mean()))"
   ]
  },
  {
   "cell_type": "code",
   "execution_count": 22,
   "metadata": {},
   "outputs": [
    {
     "name": "stdout",
     "output_type": "stream",
     "text": [
      "[[ 932  603]\n",
      " [ 570 1269]]\n"
     ]
    }
   ],
   "source": [
    "from sklearn.metrics import confusion_matrix\n",
    "confusion_matrix = confusion_matrix(y_test, y_pred)\n",
    "print(confusion_matrix)"
   ]
  },
  {
   "cell_type": "code",
   "execution_count": 23,
   "metadata": {},
   "outputs": [
    {
     "name": "stdout",
     "output_type": "stream",
     "text": [
      "             precision    recall  f1-score   support\n",
      "\n",
      "          0       0.62      0.61      0.61      1535\n",
      "          1       0.68      0.69      0.68      1839\n",
      "\n",
      "avg / total       0.65      0.65      0.65      3374\n",
      "\n"
     ]
    }
   ],
   "source": [
    "from sklearn.metrics import classification_report\n",
    "print(classification_report(y_test, y_pred))"
   ]
  }
 ],
 "metadata": {
  "kernelspec": {
   "display_name": "Python 3",
   "language": "python",
   "name": "python3"
  },
  "language_info": {
   "codemirror_mode": {
    "name": "ipython",
    "version": 3
   },
   "file_extension": ".py",
   "mimetype": "text/x-python",
   "name": "python",
   "nbconvert_exporter": "python",
   "pygments_lexer": "ipython3",
   "version": "3.6.3"
  }
 },
 "nbformat": 4,
 "nbformat_minor": 2
}
