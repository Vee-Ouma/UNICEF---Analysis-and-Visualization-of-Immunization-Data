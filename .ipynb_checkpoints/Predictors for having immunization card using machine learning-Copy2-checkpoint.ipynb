{
 "cells": [
  {
   "cell_type": "markdown",
   "metadata": {},
   "source": [
    "# UNICEF MICS Survey data analysis"
   ]
  },
  {
   "cell_type": "markdown",
   "metadata": {},
   "source": [
    "Understanding features that can predict why a caretaker might have a vaccination card using classification algorithms"
   ]
  },
  {
   "cell_type": "code",
   "execution_count": 1,
   "metadata": {
    "collapsed": true
   },
   "outputs": [],
   "source": [
    "import pandas as pd\n",
    "import numpy as np\n",
    "import matplotlib.pyplot as plt\n",
    "from sklearn.feature_selection import RFE\n",
    "from sklearn.linear_model import LogisticRegression\n",
    "from sklearn import metrics\n",
    "from sklearn.model_selection import train_test_split\n",
    "from sklearn.linear_model import LogisticRegression\n",
    "from sklearn.metrics import classification_report\n",
    "from sklearn.neighbors import KNeighborsClassifier\n",
    "from sklearn.model_selection import cross_val_score\n",
    "from sklearn.decomposition import PCA\n",
    "from  sklearn.preprocessing import  StandardScaler\n",
    "from sklearn import svm\n",
    "from sklearn.ensemble import RandomForestClassifier\n",
    "from sklearn.ensemble import GradientBoostingClassifier\n",
    "from sklearn.model_selection import train_test_split\n",
    "from sklearn import model_selection\n",
    "from sklearn.utils import resample\n",
    "from sklearn.metrics import classification_report"
   ]
  },
  {
   "cell_type": "markdown",
   "metadata": {},
   "source": [
    "Data collected at the children's level (MICS Under Five Children's questionnaire modules: Under-five child information panel, Child's age, Birth registration, Early childhood development, Breastfeeding , Care of illness, Immunization, Under-five child selected for blood test.)\n",
    "\n",
    "Dataset produced by UNICEF and Central Statistics Organization"
   ]
  },
  {
   "cell_type": "code",
   "execution_count": 22,
   "metadata": {
    "collapsed": true
   },
   "outputs": [],
   "source": [
    "#importing ch.csv which was converted from .sav format in R. Check get_Congo_to_csv.R file\n",
    "#Set low_memory = False to avoid the warning about column numbers having mixed type values.\n",
    "## 100,104,106,114,115,116,117,118,120,122,123,125,126,127,131,133,134,136,152,153,168\n",
    "\n",
    "ch_df = pd.read_csv('ch_pak.csv',low_memory=False)"
   ]
  },
  {
   "cell_type": "code",
   "execution_count": 23,
   "metadata": {
    "collapsed": false
   },
   "outputs": [
    {
     "data": {
      "text/plain": [
       "{dtype('int64'): Index([u'HH1', u'HH2', u'LN', u'UF1', u'UF2', u'UF4', u'UF6', u'UF7', u'UF8D',\n",
       "        u'UF8M', u'UF8Y', u'UF9', u'UF10', u'UF11', u'HH6', u'HH7', u'HL4',\n",
       "        u'CDOI', u'melevel', u'division', u'windex5'],\n",
       "       dtype='object'),\n",
       " dtype('float64'): Index([u'UF12H', u'UF12M', u'UF13H', u'UF13M', u'AG1D', u'AG1M', u'AG1Y',\n",
       "        u'AG2', u'BR1', u'BR1A',\n",
       "        ...\n",
       "        u'CAGE', u'CAGE_6', u'CAGE_11', u'CAGED', u'chweight', u'wscore',\n",
       "        u'wscoreu', u'windex5u', u'wscorer', u'windex5r'],\n",
       "       dtype='object', length=226),\n",
       " dtype('O'): Index([u'EC7AA', u'EC7AB', u'EC7AX', u'EC7AY', u'EC7BA', u'EC7BB', u'EC7BX',\n",
       "        u'EC7BY', u'EC7CA', u'EC7CB', u'EC7CX', u'EC7CY', u'EC7DA', u'EC7DB',\n",
       "        u'EC7DX', u'EC7DY', u'EC7EA', u'EC7EB', u'EC7EX', u'EC7EY', u'EC7FA',\n",
       "        u'EC7FB', u'EC7FX', u'EC7FY', u'IM3BD', u'IM3P0M', u'IM3P1D', u'IM3P3Y',\n",
       "        u'IM3T1D', u'IM3T1M', u'IM3T1Y', u'IM3T2D', u'IM3T2Y', u'IM3T3M',\n",
       "        u'IM3T3Y', u'IM3C1M', u'IM3C1Y', u'IM3C2D', u'IM3C3M', u'IM3M1D',\n",
       "        u'IM3M1M', u'IM3M2D', u'IM19B', u'IM19C', u'HF11A', u'CA3BA', u'CA3BB',\n",
       "        u'CA3BD', u'CA3BH', u'CA3BI', u'CA3BJ', u'CA3BK', u'CA3BO', u'CA3BP',\n",
       "        u'CA3BR', u'CA3BX', u'CA6A', u'CA6B', u'CA6G', u'CA6H', u'CA6L',\n",
       "        u'CA6M', u'CA6N', u'CA6O', u'CA6Q', u'CA6X', u'CA11A', u'CA11B',\n",
       "        u'CA11D', u'CA11H', u'CA11I', u'CA11J', u'CA11K', u'CA11O', u'CA11P',\n",
       "        u'CA11R', u'CA11X', u'CA13A', u'CA13B', u'CA13C', u'CA13D', u'CA13E',\n",
       "        u'CA13H', u'CA13I', u'CA13J', u'CA13P', u'CA13Q', u'CA13R', u'CA13X',\n",
       "        u'CA13Z'],\n",
       "       dtype='object')}"
      ]
     },
     "execution_count": 23,
     "metadata": {},
     "output_type": "execute_result"
    }
   ],
   "source": [
    "#Convert column with mixed types to object type.\n",
    "\n",
    "ch_df.iloc[:,[100,104,106,114,115,116,117,118,120,122,123,125,126,127,131,133,134,136,152,153,168]] = ch_df.iloc[:,[100,104,106,114,115,116,117,118,120,122,123,125,126,127,131,133,134,136,152,153,168]].astype(object)\n",
    "g = ch_df.columns.to_series().groupby(ch_df.dtypes).groups\n",
    "g"
   ]
  },
  {
   "cell_type": "code",
   "execution_count": 24,
   "metadata": {
    "collapsed": false
   },
   "outputs": [
    {
     "data": {
      "text/html": [
       "<div>\n",
       "<table border=\"1\" class=\"dataframe\">\n",
       "  <thead>\n",
       "    <tr style=\"text-align: right;\">\n",
       "      <th></th>\n",
       "      <th>HH1</th>\n",
       "      <th>HH2</th>\n",
       "      <th>LN</th>\n",
       "      <th>UF1</th>\n",
       "      <th>UF2</th>\n",
       "      <th>UF4</th>\n",
       "      <th>UF6</th>\n",
       "      <th>UF7</th>\n",
       "      <th>UF8D</th>\n",
       "      <th>UF8M</th>\n",
       "      <th>...</th>\n",
       "      <th>CAGED</th>\n",
       "      <th>chweight</th>\n",
       "      <th>melevel</th>\n",
       "      <th>division</th>\n",
       "      <th>wscore</th>\n",
       "      <th>windex5</th>\n",
       "      <th>wscoreu</th>\n",
       "      <th>windex5u</th>\n",
       "      <th>wscorer</th>\n",
       "      <th>windex5r</th>\n",
       "    </tr>\n",
       "  </thead>\n",
       "  <tbody>\n",
       "    <tr>\n",
       "      <th>count</th>\n",
       "      <td>18108.000000</td>\n",
       "      <td>18108.000000</td>\n",
       "      <td>18108.000000</td>\n",
       "      <td>18108.000000</td>\n",
       "      <td>18108.000000</td>\n",
       "      <td>18108.000000</td>\n",
       "      <td>18108.000000</td>\n",
       "      <td>18108.000000</td>\n",
       "      <td>18108.000000</td>\n",
       "      <td>18108.000000</td>\n",
       "      <td>...</td>\n",
       "      <td>16605.000000</td>\n",
       "      <td>18108.000000</td>\n",
       "      <td>18108.000000</td>\n",
       "      <td>18108.000000</td>\n",
       "      <td>18108.000000</td>\n",
       "      <td>18108.000000</td>\n",
       "      <td>7932.000000</td>\n",
       "      <td>7932.000000</td>\n",
       "      <td>11679.000000</td>\n",
       "      <td>11679.000000</td>\n",
       "    </tr>\n",
       "    <tr>\n",
       "      <th>mean</th>\n",
       "      <td>428.431964</td>\n",
       "      <td>10.352275</td>\n",
       "      <td>7.726198</td>\n",
       "      <td>428.431964</td>\n",
       "      <td>10.352275</td>\n",
       "      <td>7.726198</td>\n",
       "      <td>4.172134</td>\n",
       "      <td>46.795008</td>\n",
       "      <td>15.810747</td>\n",
       "      <td>4.124199</td>\n",
       "      <td>...</td>\n",
       "      <td>1006.465522</td>\n",
       "      <td>0.916998</td>\n",
       "      <td>1.843329</td>\n",
       "      <td>2.785785</td>\n",
       "      <td>-0.146187</td>\n",
       "      <td>2.204219</td>\n",
       "      <td>-0.147429</td>\n",
       "      <td>1.800933</td>\n",
       "      <td>0.004140</td>\n",
       "      <td>2.456375</td>\n",
       "    </tr>\n",
       "    <tr>\n",
       "      <th>std</th>\n",
       "      <td>269.415361</td>\n",
       "      <td>5.741518</td>\n",
       "      <td>4.224276</td>\n",
       "      <td>269.415361</td>\n",
       "      <td>5.741518</td>\n",
       "      <td>4.224276</td>\n",
       "      <td>3.794440</td>\n",
       "      <td>29.048289</td>\n",
       "      <td>8.558811</td>\n",
       "      <td>1.372228</td>\n",
       "      <td>...</td>\n",
       "      <td>1108.143834</td>\n",
       "      <td>0.847431</td>\n",
       "      <td>1.406195</td>\n",
       "      <td>1.308579</td>\n",
       "      <td>0.896322</td>\n",
       "      <td>1.371325</td>\n",
       "      <td>0.930452</td>\n",
       "      <td>1.501089</td>\n",
       "      <td>0.912139</td>\n",
       "      <td>1.595279</td>\n",
       "    </tr>\n",
       "    <tr>\n",
       "      <th>min</th>\n",
       "      <td>1.000000</td>\n",
       "      <td>1.000000</td>\n",
       "      <td>2.000000</td>\n",
       "      <td>1.000000</td>\n",
       "      <td>1.000000</td>\n",
       "      <td>2.000000</td>\n",
       "      <td>1.000000</td>\n",
       "      <td>1.000000</td>\n",
       "      <td>1.000000</td>\n",
       "      <td>1.000000</td>\n",
       "      <td>...</td>\n",
       "      <td>0.000000</td>\n",
       "      <td>0.000000</td>\n",
       "      <td>1.000000</td>\n",
       "      <td>1.000000</td>\n",
       "      <td>-1.777233</td>\n",
       "      <td>0.000000</td>\n",
       "      <td>-3.030231</td>\n",
       "      <td>0.000000</td>\n",
       "      <td>-1.493800</td>\n",
       "      <td>0.000000</td>\n",
       "    </tr>\n",
       "    <tr>\n",
       "      <th>25%</th>\n",
       "      <td>192.000000</td>\n",
       "      <td>5.000000</td>\n",
       "      <td>5.000000</td>\n",
       "      <td>192.000000</td>\n",
       "      <td>5.000000</td>\n",
       "      <td>5.000000</td>\n",
       "      <td>2.000000</td>\n",
       "      <td>20.000000</td>\n",
       "      <td>8.000000</td>\n",
       "      <td>3.000000</td>\n",
       "      <td>...</td>\n",
       "      <td>436.000000</td>\n",
       "      <td>0.414079</td>\n",
       "      <td>1.000000</td>\n",
       "      <td>2.000000</td>\n",
       "      <td>-0.931318</td>\n",
       "      <td>1.000000</td>\n",
       "      <td>-0.547089</td>\n",
       "      <td>1.000000</td>\n",
       "      <td>-0.684929</td>\n",
       "      <td>1.000000</td>\n",
       "    </tr>\n",
       "    <tr>\n",
       "      <th>50%</th>\n",
       "      <td>399.000000</td>\n",
       "      <td>10.000000</td>\n",
       "      <td>7.000000</td>\n",
       "      <td>399.000000</td>\n",
       "      <td>10.000000</td>\n",
       "      <td>7.000000</td>\n",
       "      <td>2.000000</td>\n",
       "      <td>44.000000</td>\n",
       "      <td>16.000000</td>\n",
       "      <td>4.000000</td>\n",
       "      <td>...</td>\n",
       "      <td>922.000000</td>\n",
       "      <td>0.688373</td>\n",
       "      <td>1.000000</td>\n",
       "      <td>3.000000</td>\n",
       "      <td>-0.168406</td>\n",
       "      <td>2.000000</td>\n",
       "      <td>0.000000</td>\n",
       "      <td>1.000000</td>\n",
       "      <td>-0.029224</td>\n",
       "      <td>2.000000</td>\n",
       "    </tr>\n",
       "    <tr>\n",
       "      <th>75%</th>\n",
       "      <td>653.000000</td>\n",
       "      <td>15.000000</td>\n",
       "      <td>9.000000</td>\n",
       "      <td>653.000000</td>\n",
       "      <td>15.000000</td>\n",
       "      <td>9.000000</td>\n",
       "      <td>5.000000</td>\n",
       "      <td>73.000000</td>\n",
       "      <td>23.000000</td>\n",
       "      <td>5.000000</td>\n",
       "      <td>...</td>\n",
       "      <td>1373.000000</td>\n",
       "      <td>1.125123</td>\n",
       "      <td>2.000000</td>\n",
       "      <td>4.000000</td>\n",
       "      <td>0.543420</td>\n",
       "      <td>3.000000</td>\n",
       "      <td>0.495220</td>\n",
       "      <td>3.000000</td>\n",
       "      <td>0.439809</td>\n",
       "      <td>4.000000</td>\n",
       "    </tr>\n",
       "    <tr>\n",
       "      <th>max</th>\n",
       "      <td>975.000000</td>\n",
       "      <td>20.000000</td>\n",
       "      <td>42.000000</td>\n",
       "      <td>975.000000</td>\n",
       "      <td>20.000000</td>\n",
       "      <td>42.000000</td>\n",
       "      <td>41.000000</td>\n",
       "      <td>99.000000</td>\n",
       "      <td>31.000000</td>\n",
       "      <td>8.000000</td>\n",
       "      <td>...</td>\n",
       "      <td>9999.000000</td>\n",
       "      <td>8.381366</td>\n",
       "      <td>9.000000</td>\n",
       "      <td>5.000000</td>\n",
       "      <td>2.438155</td>\n",
       "      <td>5.000000</td>\n",
       "      <td>1.781103</td>\n",
       "      <td>5.000000</td>\n",
       "      <td>4.279130</td>\n",
       "      <td>5.000000</td>\n",
       "    </tr>\n",
       "  </tbody>\n",
       "</table>\n",
       "<p>8 rows × 247 columns</p>\n",
       "</div>"
      ],
      "text/plain": [
       "                HH1           HH2            LN           UF1           UF2  \\\n",
       "count  18108.000000  18108.000000  18108.000000  18108.000000  18108.000000   \n",
       "mean     428.431964     10.352275      7.726198    428.431964     10.352275   \n",
       "std      269.415361      5.741518      4.224276    269.415361      5.741518   \n",
       "min        1.000000      1.000000      2.000000      1.000000      1.000000   \n",
       "25%      192.000000      5.000000      5.000000    192.000000      5.000000   \n",
       "50%      399.000000     10.000000      7.000000    399.000000     10.000000   \n",
       "75%      653.000000     15.000000      9.000000    653.000000     15.000000   \n",
       "max      975.000000     20.000000     42.000000    975.000000     20.000000   \n",
       "\n",
       "                UF4           UF6           UF7          UF8D          UF8M  \\\n",
       "count  18108.000000  18108.000000  18108.000000  18108.000000  18108.000000   \n",
       "mean       7.726198      4.172134     46.795008     15.810747      4.124199   \n",
       "std        4.224276      3.794440     29.048289      8.558811      1.372228   \n",
       "min        2.000000      1.000000      1.000000      1.000000      1.000000   \n",
       "25%        5.000000      2.000000     20.000000      8.000000      3.000000   \n",
       "50%        7.000000      2.000000     44.000000     16.000000      4.000000   \n",
       "75%        9.000000      5.000000     73.000000     23.000000      5.000000   \n",
       "max       42.000000     41.000000     99.000000     31.000000      8.000000   \n",
       "\n",
       "           ...              CAGED      chweight       melevel      division  \\\n",
       "count      ...       16605.000000  18108.000000  18108.000000  18108.000000   \n",
       "mean       ...        1006.465522      0.916998      1.843329      2.785785   \n",
       "std        ...        1108.143834      0.847431      1.406195      1.308579   \n",
       "min        ...           0.000000      0.000000      1.000000      1.000000   \n",
       "25%        ...         436.000000      0.414079      1.000000      2.000000   \n",
       "50%        ...         922.000000      0.688373      1.000000      3.000000   \n",
       "75%        ...        1373.000000      1.125123      2.000000      4.000000   \n",
       "max        ...        9999.000000      8.381366      9.000000      5.000000   \n",
       "\n",
       "             wscore       windex5      wscoreu     windex5u       wscorer  \\\n",
       "count  18108.000000  18108.000000  7932.000000  7932.000000  11679.000000   \n",
       "mean      -0.146187      2.204219    -0.147429     1.800933      0.004140   \n",
       "std        0.896322      1.371325     0.930452     1.501089      0.912139   \n",
       "min       -1.777233      0.000000    -3.030231     0.000000     -1.493800   \n",
       "25%       -0.931318      1.000000    -0.547089     1.000000     -0.684929   \n",
       "50%       -0.168406      2.000000     0.000000     1.000000     -0.029224   \n",
       "75%        0.543420      3.000000     0.495220     3.000000      0.439809   \n",
       "max        2.438155      5.000000     1.781103     5.000000      4.279130   \n",
       "\n",
       "           windex5r  \n",
       "count  11679.000000  \n",
       "mean       2.456375  \n",
       "std        1.595279  \n",
       "min        0.000000  \n",
       "25%        1.000000  \n",
       "50%        2.000000  \n",
       "75%        4.000000  \n",
       "max        5.000000  \n",
       "\n",
       "[8 rows x 247 columns]"
      ]
     },
     "execution_count": 24,
     "metadata": {},
     "output_type": "execute_result"
    }
   ],
   "source": [
    "ch_df.describe()"
   ]
  },
  {
   "cell_type": "code",
   "execution_count": 25,
   "metadata": {
    "collapsed": false
   },
   "outputs": [
    {
     "data": {
      "text/html": [
       "<div>\n",
       "<table border=\"1\" class=\"dataframe\">\n",
       "  <thead>\n",
       "    <tr style=\"text-align: right;\">\n",
       "      <th></th>\n",
       "      <th>HH1</th>\n",
       "      <th>HH2</th>\n",
       "      <th>LN</th>\n",
       "      <th>UF1</th>\n",
       "      <th>UF2</th>\n",
       "      <th>UF4</th>\n",
       "      <th>UF6</th>\n",
       "      <th>UF7</th>\n",
       "      <th>UF8D</th>\n",
       "      <th>UF8M</th>\n",
       "      <th>...</th>\n",
       "      <th>CAGED</th>\n",
       "      <th>chweight</th>\n",
       "      <th>melevel</th>\n",
       "      <th>division</th>\n",
       "      <th>wscore</th>\n",
       "      <th>windex5</th>\n",
       "      <th>wscoreu</th>\n",
       "      <th>windex5u</th>\n",
       "      <th>wscorer</th>\n",
       "      <th>windex5r</th>\n",
       "    </tr>\n",
       "  </thead>\n",
       "  <tbody>\n",
       "    <tr>\n",
       "      <th>0</th>\n",
       "      <td>1</td>\n",
       "      <td>2</td>\n",
       "      <td>7</td>\n",
       "      <td>1</td>\n",
       "      <td>2</td>\n",
       "      <td>7</td>\n",
       "      <td>2</td>\n",
       "      <td>16</td>\n",
       "      <td>21</td>\n",
       "      <td>4</td>\n",
       "      <td>...</td>\n",
       "      <td>1133.0</td>\n",
       "      <td>0.613236</td>\n",
       "      <td>1</td>\n",
       "      <td>1</td>\n",
       "      <td>-1.537632</td>\n",
       "      <td>1</td>\n",
       "      <td>-2.735402</td>\n",
       "      <td>1.0</td>\n",
       "      <td>NaN</td>\n",
       "      <td>NaN</td>\n",
       "    </tr>\n",
       "    <tr>\n",
       "      <th>1</th>\n",
       "      <td>1</td>\n",
       "      <td>3</td>\n",
       "      <td>9</td>\n",
       "      <td>1</td>\n",
       "      <td>3</td>\n",
       "      <td>9</td>\n",
       "      <td>2</td>\n",
       "      <td>16</td>\n",
       "      <td>21</td>\n",
       "      <td>4</td>\n",
       "      <td>...</td>\n",
       "      <td>1464.0</td>\n",
       "      <td>0.613236</td>\n",
       "      <td>1</td>\n",
       "      <td>1</td>\n",
       "      <td>-0.643725</td>\n",
       "      <td>2</td>\n",
       "      <td>-1.635452</td>\n",
       "      <td>1.0</td>\n",
       "      <td>NaN</td>\n",
       "      <td>NaN</td>\n",
       "    </tr>\n",
       "    <tr>\n",
       "      <th>2</th>\n",
       "      <td>1</td>\n",
       "      <td>4</td>\n",
       "      <td>4</td>\n",
       "      <td>1</td>\n",
       "      <td>4</td>\n",
       "      <td>4</td>\n",
       "      <td>2</td>\n",
       "      <td>17</td>\n",
       "      <td>21</td>\n",
       "      <td>4</td>\n",
       "      <td>...</td>\n",
       "      <td>1376.0</td>\n",
       "      <td>0.613236</td>\n",
       "      <td>1</td>\n",
       "      <td>1</td>\n",
       "      <td>-0.992865</td>\n",
       "      <td>1</td>\n",
       "      <td>-2.065068</td>\n",
       "      <td>1.0</td>\n",
       "      <td>NaN</td>\n",
       "      <td>NaN</td>\n",
       "    </tr>\n",
       "    <tr>\n",
       "      <th>3</th>\n",
       "      <td>1</td>\n",
       "      <td>4</td>\n",
       "      <td>5</td>\n",
       "      <td>1</td>\n",
       "      <td>4</td>\n",
       "      <td>5</td>\n",
       "      <td>2</td>\n",
       "      <td>17</td>\n",
       "      <td>21</td>\n",
       "      <td>4</td>\n",
       "      <td>...</td>\n",
       "      <td>310.0</td>\n",
       "      <td>0.613236</td>\n",
       "      <td>1</td>\n",
       "      <td>1</td>\n",
       "      <td>-0.992865</td>\n",
       "      <td>1</td>\n",
       "      <td>-2.065068</td>\n",
       "      <td>1.0</td>\n",
       "      <td>NaN</td>\n",
       "      <td>NaN</td>\n",
       "    </tr>\n",
       "    <tr>\n",
       "      <th>4</th>\n",
       "      <td>1</td>\n",
       "      <td>4</td>\n",
       "      <td>6</td>\n",
       "      <td>1</td>\n",
       "      <td>4</td>\n",
       "      <td>6</td>\n",
       "      <td>2</td>\n",
       "      <td>17</td>\n",
       "      <td>21</td>\n",
       "      <td>4</td>\n",
       "      <td>...</td>\n",
       "      <td>310.0</td>\n",
       "      <td>0.613236</td>\n",
       "      <td>1</td>\n",
       "      <td>1</td>\n",
       "      <td>-0.992865</td>\n",
       "      <td>1</td>\n",
       "      <td>-2.065068</td>\n",
       "      <td>1.0</td>\n",
       "      <td>NaN</td>\n",
       "      <td>NaN</td>\n",
       "    </tr>\n",
       "  </tbody>\n",
       "</table>\n",
       "<p>5 rows × 337 columns</p>\n",
       "</div>"
      ],
      "text/plain": [
       "   HH1  HH2  LN  UF1  UF2  UF4  UF6  UF7  UF8D  UF8M    ...      CAGED  \\\n",
       "0    1    2   7    1    2    7    2   16    21     4    ...     1133.0   \n",
       "1    1    3   9    1    3    9    2   16    21     4    ...     1464.0   \n",
       "2    1    4   4    1    4    4    2   17    21     4    ...     1376.0   \n",
       "3    1    4   5    1    4    5    2   17    21     4    ...      310.0   \n",
       "4    1    4   6    1    4    6    2   17    21     4    ...      310.0   \n",
       "\n",
       "   chweight  melevel  division    wscore  windex5   wscoreu  windex5u  \\\n",
       "0  0.613236        1         1 -1.537632        1 -2.735402       1.0   \n",
       "1  0.613236        1         1 -0.643725        2 -1.635452       1.0   \n",
       "2  0.613236        1         1 -0.992865        1 -2.065068       1.0   \n",
       "3  0.613236        1         1 -0.992865        1 -2.065068       1.0   \n",
       "4  0.613236        1         1 -0.992865        1 -2.065068       1.0   \n",
       "\n",
       "   wscorer  windex5r  \n",
       "0      NaN       NaN  \n",
       "1      NaN       NaN  \n",
       "2      NaN       NaN  \n",
       "3      NaN       NaN  \n",
       "4      NaN       NaN  \n",
       "\n",
       "[5 rows x 337 columns]"
      ]
     },
     "execution_count": 25,
     "metadata": {},
     "output_type": "execute_result"
    }
   ],
   "source": [
    "columnNumbers = [x for x in range(ch_df.shape[1])]  # list of columns' integer indices\n",
    "\n",
    "#columnNumbers.remove(0) #removing column integer index 0\n",
    "ch_df = ch_df.iloc[:, columnNumbers] #return all columns except 0th column\n",
    "ch_df.head()"
   ]
  },
  {
   "cell_type": "code",
   "execution_count": 26,
   "metadata": {
    "collapsed": true
   },
   "outputs": [],
   "source": [
    "wm_df = pd.read_csv('wm_pak.csv', low_memory = False)"
   ]
  },
  {
   "cell_type": "code",
   "execution_count": 27,
   "metadata": {
    "collapsed": false
   },
   "outputs": [
    {
     "data": {
      "text/plain": [
       "{dtype('int64'): Index([u'HH1', u'HH2', u'LN', u'WM1', u'WM2', u'WM4', u'WM5', u'WM6D', u'WM6M',\n",
       "        u'WM6Y', u'WM7', u'WM8', u'WM9', u'HH6', u'HH7', u'division',\n",
       "        u'windex5'],\n",
       "       dtype='object'),\n",
       " dtype('float64'): Index([u'WM10H', u'WM10M', u'WM11H', u'WM11M', u'WB1M', u'WB1Y', u'WB2',\n",
       "        u'WB3', u'WB5', u'WB7',\n",
       "        ...\n",
       "        u'CEB', u'CSURV', u'CDEAD', u'wmweight', u'welevel', u'wscore',\n",
       "        u'wscoreu', u'windex5u', u'wscorer', u'windex5r'],\n",
       "       dtype='object', length=171),\n",
       " dtype('O'): Index([u'CM8', u'CM13', u'MN2A', u'MN2B', u'MN2C', u'MN2D', u'MN2F', u'MN2G',\n",
       "        u'MN2H', u'MN2X',\n",
       "        ...\n",
       "        u'TA8E', u'TA8X', u'TA12A', u'TA12D', u'TA12E', u'TA12F', u'TA12G',\n",
       "        u'TA12H', u'TA12I', u'TA12X'],\n",
       "       dtype='object', length=114)}"
      ]
     },
     "execution_count": 27,
     "metadata": {},
     "output_type": "execute_result"
    }
   ],
   "source": [
    "wm_df.iloc[:,[53,81,102,103,105,121,128,129,146,149]] = wm_df.iloc[:,[53,81,102,103,105,121,128,129,146,149]].astype(object)\n",
    "g = wm_df.columns.to_series().groupby(wm_df.dtypes).groups\n",
    "g"
   ]
  },
  {
   "cell_type": "code",
   "execution_count": 28,
   "metadata": {
    "collapsed": false
   },
   "outputs": [
    {
     "data": {
      "text/html": [
       "<div>\n",
       "<table border=\"1\" class=\"dataframe\">\n",
       "  <thead>\n",
       "    <tr style=\"text-align: right;\">\n",
       "      <th></th>\n",
       "      <th>HH1</th>\n",
       "      <th>HH2</th>\n",
       "      <th>LN</th>\n",
       "      <th>WM1</th>\n",
       "      <th>WM2</th>\n",
       "      <th>WM4</th>\n",
       "      <th>WM5</th>\n",
       "      <th>WM6D</th>\n",
       "      <th>WM6M</th>\n",
       "      <th>WM6Y</th>\n",
       "      <th>...</th>\n",
       "      <th>CDEAD</th>\n",
       "      <th>wmweight</th>\n",
       "      <th>welevel</th>\n",
       "      <th>division</th>\n",
       "      <th>wscore</th>\n",
       "      <th>windex5</th>\n",
       "      <th>wscoreu</th>\n",
       "      <th>windex5u</th>\n",
       "      <th>wscorer</th>\n",
       "      <th>windex5r</th>\n",
       "    </tr>\n",
       "  </thead>\n",
       "  <tbody>\n",
       "    <tr>\n",
       "      <th>0</th>\n",
       "      <td>1</td>\n",
       "      <td>1</td>\n",
       "      <td>7</td>\n",
       "      <td>1</td>\n",
       "      <td>1</td>\n",
       "      <td>7</td>\n",
       "      <td>17</td>\n",
       "      <td>21</td>\n",
       "      <td>4</td>\n",
       "      <td>2014</td>\n",
       "      <td>...</td>\n",
       "      <td>0.0</td>\n",
       "      <td>0.558521</td>\n",
       "      <td>1.0</td>\n",
       "      <td>1</td>\n",
       "      <td>0.330435</td>\n",
       "      <td>3</td>\n",
       "      <td>-0.436749</td>\n",
       "      <td>1.0</td>\n",
       "      <td>NaN</td>\n",
       "      <td>NaN</td>\n",
       "    </tr>\n",
       "    <tr>\n",
       "      <th>1</th>\n",
       "      <td>1</td>\n",
       "      <td>1</td>\n",
       "      <td>8</td>\n",
       "      <td>1</td>\n",
       "      <td>1</td>\n",
       "      <td>8</td>\n",
       "      <td>17</td>\n",
       "      <td>21</td>\n",
       "      <td>4</td>\n",
       "      <td>2014</td>\n",
       "      <td>...</td>\n",
       "      <td>0.0</td>\n",
       "      <td>0.558521</td>\n",
       "      <td>1.0</td>\n",
       "      <td>1</td>\n",
       "      <td>0.330435</td>\n",
       "      <td>3</td>\n",
       "      <td>-0.436749</td>\n",
       "      <td>1.0</td>\n",
       "      <td>NaN</td>\n",
       "      <td>NaN</td>\n",
       "    </tr>\n",
       "    <tr>\n",
       "      <th>2</th>\n",
       "      <td>1</td>\n",
       "      <td>1</td>\n",
       "      <td>9</td>\n",
       "      <td>1</td>\n",
       "      <td>1</td>\n",
       "      <td>9</td>\n",
       "      <td>17</td>\n",
       "      <td>21</td>\n",
       "      <td>4</td>\n",
       "      <td>2014</td>\n",
       "      <td>...</td>\n",
       "      <td>0.0</td>\n",
       "      <td>0.558521</td>\n",
       "      <td>1.0</td>\n",
       "      <td>1</td>\n",
       "      <td>0.330435</td>\n",
       "      <td>3</td>\n",
       "      <td>-0.436749</td>\n",
       "      <td>1.0</td>\n",
       "      <td>NaN</td>\n",
       "      <td>NaN</td>\n",
       "    </tr>\n",
       "    <tr>\n",
       "      <th>3</th>\n",
       "      <td>1</td>\n",
       "      <td>2</td>\n",
       "      <td>2</td>\n",
       "      <td>1</td>\n",
       "      <td>2</td>\n",
       "      <td>2</td>\n",
       "      <td>16</td>\n",
       "      <td>21</td>\n",
       "      <td>4</td>\n",
       "      <td>2014</td>\n",
       "      <td>...</td>\n",
       "      <td>0.0</td>\n",
       "      <td>0.558521</td>\n",
       "      <td>1.0</td>\n",
       "      <td>1</td>\n",
       "      <td>-1.537632</td>\n",
       "      <td>1</td>\n",
       "      <td>-2.735402</td>\n",
       "      <td>1.0</td>\n",
       "      <td>NaN</td>\n",
       "      <td>NaN</td>\n",
       "    </tr>\n",
       "    <tr>\n",
       "      <th>4</th>\n",
       "      <td>1</td>\n",
       "      <td>3</td>\n",
       "      <td>2</td>\n",
       "      <td>1</td>\n",
       "      <td>3</td>\n",
       "      <td>2</td>\n",
       "      <td>16</td>\n",
       "      <td>21</td>\n",
       "      <td>4</td>\n",
       "      <td>2014</td>\n",
       "      <td>...</td>\n",
       "      <td>4.0</td>\n",
       "      <td>0.558521</td>\n",
       "      <td>1.0</td>\n",
       "      <td>1</td>\n",
       "      <td>-0.643725</td>\n",
       "      <td>2</td>\n",
       "      <td>-1.635452</td>\n",
       "      <td>1.0</td>\n",
       "      <td>NaN</td>\n",
       "      <td>NaN</td>\n",
       "    </tr>\n",
       "  </tbody>\n",
       "</table>\n",
       "<p>5 rows × 302 columns</p>\n",
       "</div>"
      ],
      "text/plain": [
       "   HH1  HH2  LN  WM1  WM2  WM4  WM5  WM6D  WM6M  WM6Y    ...     CDEAD  \\\n",
       "0    1    1   7    1    1    7   17    21     4  2014    ...       0.0   \n",
       "1    1    1   8    1    1    8   17    21     4  2014    ...       0.0   \n",
       "2    1    1   9    1    1    9   17    21     4  2014    ...       0.0   \n",
       "3    1    2   2    1    2    2   16    21     4  2014    ...       0.0   \n",
       "4    1    3   2    1    3    2   16    21     4  2014    ...       4.0   \n",
       "\n",
       "   wmweight  welevel  division    wscore  windex5   wscoreu  windex5u  \\\n",
       "0  0.558521      1.0         1  0.330435        3 -0.436749       1.0   \n",
       "1  0.558521      1.0         1  0.330435        3 -0.436749       1.0   \n",
       "2  0.558521      1.0         1  0.330435        3 -0.436749       1.0   \n",
       "3  0.558521      1.0         1 -1.537632        1 -2.735402       1.0   \n",
       "4  0.558521      1.0         1 -0.643725        2 -1.635452       1.0   \n",
       "\n",
       "   wscorer  windex5r  \n",
       "0      NaN       NaN  \n",
       "1      NaN       NaN  \n",
       "2      NaN       NaN  \n",
       "3      NaN       NaN  \n",
       "4      NaN       NaN  \n",
       "\n",
       "[5 rows x 302 columns]"
      ]
     },
     "execution_count": 28,
     "metadata": {},
     "output_type": "execute_result"
    }
   ],
   "source": [
    "columnNumbers = [x for x in range(wm_df.shape[1])]  # list of columns' integer indices\n",
    "\n",
    "#columnNumbers.remove(0) #removing column integer index 0\n",
    "wm_df = wm_df.iloc[:, columnNumbers] #return all columns except 0th column\n",
    "wm_df.head()"
   ]
  },
  {
   "cell_type": "code",
   "execution_count": 29,
   "metadata": {
    "collapsed": false
   },
   "outputs": [
    {
     "name": "stdout",
     "output_type": "stream",
     "text": [
      "0          1\n",
      "1          1\n",
      "2          1\n",
      "3          1\n",
      "4          1\n",
      "5          1\n",
      "6          1\n",
      "7          1\n",
      "8          1\n",
      "9          1\n",
      "10         1\n",
      "11         1\n",
      "12         1\n",
      "13         1\n",
      "14         1\n",
      "15         1\n",
      "16         2\n",
      "17         2\n",
      "18         2\n",
      "19         2\n",
      "20         2\n",
      "21         2\n",
      "22         2\n",
      "23         2\n",
      "24         2\n",
      "25         2\n",
      "26         2\n",
      "27         2\n",
      "28         2\n",
      "29         2\n",
      "        ... \n",
      "18078    970\n",
      "18079    970\n",
      "18080    971\n",
      "18081    971\n",
      "18082    971\n",
      "18083    971\n",
      "18084    972\n",
      "18085    972\n",
      "18086    972\n",
      "18087    972\n",
      "18088    972\n",
      "18089    973\n",
      "18090    973\n",
      "18091    973\n",
      "18092    973\n",
      "18093    973\n",
      "18094    973\n",
      "18095    973\n",
      "18096    973\n",
      "18097    973\n",
      "18098    973\n",
      "18099    973\n",
      "18100    973\n",
      "18101    974\n",
      "18102    974\n",
      "18103    975\n",
      "18104    975\n",
      "18105    975\n",
      "18106    975\n",
      "18107    975\n",
      "Name: HH1, dtype: int64\n"
     ]
    }
   ],
   "source": [
    "print ch_df['HH1']\n",
    "ch_wm_df = ch_df.merge(wm_df, on = ['HH1','HH2'])"
   ]
  },
  {
   "cell_type": "code",
   "execution_count": 30,
   "metadata": {
    "collapsed": false
   },
   "outputs": [
    {
     "data": {
      "text/html": [
       "<div>\n",
       "<table border=\"1\" class=\"dataframe\">\n",
       "  <thead>\n",
       "    <tr style=\"text-align: right;\">\n",
       "      <th></th>\n",
       "      <th>HH1</th>\n",
       "      <th>HH2</th>\n",
       "      <th>LN_x</th>\n",
       "      <th>UF1</th>\n",
       "      <th>UF2</th>\n",
       "      <th>UF4</th>\n",
       "      <th>UF6</th>\n",
       "      <th>UF7</th>\n",
       "      <th>UF8D</th>\n",
       "      <th>UF8M</th>\n",
       "      <th>...</th>\n",
       "      <th>CDEAD</th>\n",
       "      <th>wmweight</th>\n",
       "      <th>welevel</th>\n",
       "      <th>division_y</th>\n",
       "      <th>wscore_y</th>\n",
       "      <th>windex5_y</th>\n",
       "      <th>wscoreu_y</th>\n",
       "      <th>windex5u_y</th>\n",
       "      <th>wscorer_y</th>\n",
       "      <th>windex5r_y</th>\n",
       "    </tr>\n",
       "  </thead>\n",
       "  <tbody>\n",
       "    <tr>\n",
       "      <th>0</th>\n",
       "      <td>1</td>\n",
       "      <td>2</td>\n",
       "      <td>7</td>\n",
       "      <td>1</td>\n",
       "      <td>2</td>\n",
       "      <td>7</td>\n",
       "      <td>2</td>\n",
       "      <td>16</td>\n",
       "      <td>21</td>\n",
       "      <td>4</td>\n",
       "      <td>...</td>\n",
       "      <td>0.0</td>\n",
       "      <td>0.558521</td>\n",
       "      <td>1.0</td>\n",
       "      <td>1</td>\n",
       "      <td>-1.537632</td>\n",
       "      <td>1</td>\n",
       "      <td>-2.735402</td>\n",
       "      <td>1.0</td>\n",
       "      <td>NaN</td>\n",
       "      <td>NaN</td>\n",
       "    </tr>\n",
       "    <tr>\n",
       "      <th>1</th>\n",
       "      <td>1</td>\n",
       "      <td>3</td>\n",
       "      <td>9</td>\n",
       "      <td>1</td>\n",
       "      <td>3</td>\n",
       "      <td>9</td>\n",
       "      <td>2</td>\n",
       "      <td>16</td>\n",
       "      <td>21</td>\n",
       "      <td>4</td>\n",
       "      <td>...</td>\n",
       "      <td>4.0</td>\n",
       "      <td>0.558521</td>\n",
       "      <td>1.0</td>\n",
       "      <td>1</td>\n",
       "      <td>-0.643725</td>\n",
       "      <td>2</td>\n",
       "      <td>-1.635452</td>\n",
       "      <td>1.0</td>\n",
       "      <td>NaN</td>\n",
       "      <td>NaN</td>\n",
       "    </tr>\n",
       "    <tr>\n",
       "      <th>2</th>\n",
       "      <td>1</td>\n",
       "      <td>3</td>\n",
       "      <td>9</td>\n",
       "      <td>1</td>\n",
       "      <td>3</td>\n",
       "      <td>9</td>\n",
       "      <td>2</td>\n",
       "      <td>16</td>\n",
       "      <td>21</td>\n",
       "      <td>4</td>\n",
       "      <td>...</td>\n",
       "      <td>0.0</td>\n",
       "      <td>0.558521</td>\n",
       "      <td>3.0</td>\n",
       "      <td>1</td>\n",
       "      <td>-0.643725</td>\n",
       "      <td>2</td>\n",
       "      <td>-1.635452</td>\n",
       "      <td>1.0</td>\n",
       "      <td>NaN</td>\n",
       "      <td>NaN</td>\n",
       "    </tr>\n",
       "    <tr>\n",
       "      <th>3</th>\n",
       "      <td>1</td>\n",
       "      <td>4</td>\n",
       "      <td>4</td>\n",
       "      <td>1</td>\n",
       "      <td>4</td>\n",
       "      <td>4</td>\n",
       "      <td>2</td>\n",
       "      <td>17</td>\n",
       "      <td>21</td>\n",
       "      <td>4</td>\n",
       "      <td>...</td>\n",
       "      <td>0.0</td>\n",
       "      <td>0.558521</td>\n",
       "      <td>1.0</td>\n",
       "      <td>1</td>\n",
       "      <td>-0.992865</td>\n",
       "      <td>1</td>\n",
       "      <td>-2.065068</td>\n",
       "      <td>1.0</td>\n",
       "      <td>NaN</td>\n",
       "      <td>NaN</td>\n",
       "    </tr>\n",
       "    <tr>\n",
       "      <th>4</th>\n",
       "      <td>1</td>\n",
       "      <td>4</td>\n",
       "      <td>5</td>\n",
       "      <td>1</td>\n",
       "      <td>4</td>\n",
       "      <td>5</td>\n",
       "      <td>2</td>\n",
       "      <td>17</td>\n",
       "      <td>21</td>\n",
       "      <td>4</td>\n",
       "      <td>...</td>\n",
       "      <td>0.0</td>\n",
       "      <td>0.558521</td>\n",
       "      <td>1.0</td>\n",
       "      <td>1</td>\n",
       "      <td>-0.992865</td>\n",
       "      <td>1</td>\n",
       "      <td>-2.065068</td>\n",
       "      <td>1.0</td>\n",
       "      <td>NaN</td>\n",
       "      <td>NaN</td>\n",
       "    </tr>\n",
       "  </tbody>\n",
       "</table>\n",
       "<p>5 rows × 637 columns</p>\n",
       "</div>"
      ],
      "text/plain": [
       "   HH1  HH2  LN_x  UF1  UF2  UF4  UF6  UF7  UF8D  UF8M     ...      CDEAD  \\\n",
       "0    1    2     7    1    2    7    2   16    21     4     ...        0.0   \n",
       "1    1    3     9    1    3    9    2   16    21     4     ...        4.0   \n",
       "2    1    3     9    1    3    9    2   16    21     4     ...        0.0   \n",
       "3    1    4     4    1    4    4    2   17    21     4     ...        0.0   \n",
       "4    1    4     5    1    4    5    2   17    21     4     ...        0.0   \n",
       "\n",
       "   wmweight  welevel  division_y  wscore_y  windex5_y  wscoreu_y  windex5u_y  \\\n",
       "0  0.558521      1.0           1 -1.537632          1  -2.735402         1.0   \n",
       "1  0.558521      1.0           1 -0.643725          2  -1.635452         1.0   \n",
       "2  0.558521      3.0           1 -0.643725          2  -1.635452         1.0   \n",
       "3  0.558521      1.0           1 -0.992865          1  -2.065068         1.0   \n",
       "4  0.558521      1.0           1 -0.992865          1  -2.065068         1.0   \n",
       "\n",
       "   wscorer_y  windex5r_y  \n",
       "0        NaN         NaN  \n",
       "1        NaN         NaN  \n",
       "2        NaN         NaN  \n",
       "3        NaN         NaN  \n",
       "4        NaN         NaN  \n",
       "\n",
       "[5 rows x 637 columns]"
      ]
     },
     "execution_count": 30,
     "metadata": {},
     "output_type": "execute_result"
    }
   ],
   "source": [
    "ch_wm_df.head()"
   ]
  },
  {
   "cell_type": "code",
   "execution_count": 31,
   "metadata": {
    "collapsed": true
   },
   "outputs": [],
   "source": [
    "hh_df = pd.read_csv('hh_pak.csv', low_memory = False)"
   ]
  },
  {
   "cell_type": "code",
   "execution_count": 32,
   "metadata": {
    "collapsed": false
   },
   "outputs": [
    {
     "data": {
      "text/plain": [
       "{dtype('int64'): Index([u'HH1', u'HH2', u'HH3', u'HH4', u'HH5D', u'HH5M', u'HH5Y', u'HH6',\n",
       "        u'HH7', u'HH8A', u'HH8C', u'HH9', u'HH16', u'HH17', u'division',\n",
       "        u'windex5', u'PSU', u'stratum'],\n",
       "       dtype='object'),\n",
       " dtype('float64'): Index([u'HH10', u'HH11', u'HH12', u'HH13', u'HH14', u'HH15', u'HH15A',\n",
       "        u'HH15B', u'HH18H', u'HH18M',\n",
       "        ...\n",
       "        u'ehweight', u'esweight', u'ceweight', u'saweight', u'helevel',\n",
       "        u'wscore', u'wscoreu', u'windex5u', u'wscorer', u'windex5r'],\n",
       "       dtype='object', length=214),\n",
       " dtype('O'): Index([u'CL5', u'CL7D', u'IR2A', u'IR2B', u'IR2C', u'IR2X', u'IR2Z', u'WS7A',\n",
       "        u'WS7B', u'WS7C', u'WS7D', u'WS7E', u'WS7F', u'WS7G', u'WS7X', u'WS7Z',\n",
       "        u'HW3BA', u'HW3BB', u'HW3BC', u'HW3BD', u'HW5BA', u'HW5BB', u'HW5BC',\n",
       "        u'HW5BD', u'WQ10D', u'WQ12AD', u'WQ14D', u'WQ19D', u'WQ21BD', u'WQ23D',\n",
       "        u'WQ26D', u'WQ29D'],\n",
       "       dtype='object')}"
      ]
     },
     "execution_count": 32,
     "metadata": {},
     "output_type": "execute_result"
    }
   ],
   "source": [
    "hh_df.iloc[:,[36,41]] = hh_df.iloc[:,[36,41]].astype(object)\n",
    "g = hh_df.columns.to_series().groupby(hh_df.dtypes).groups\n",
    "g"
   ]
  },
  {
   "cell_type": "code",
   "execution_count": 33,
   "metadata": {
    "collapsed": false
   },
   "outputs": [
    {
     "data": {
      "text/html": [
       "<div>\n",
       "<table border=\"1\" class=\"dataframe\">\n",
       "  <thead>\n",
       "    <tr style=\"text-align: right;\">\n",
       "      <th></th>\n",
       "      <th>HH1</th>\n",
       "      <th>HH2</th>\n",
       "      <th>HH3</th>\n",
       "      <th>HH4</th>\n",
       "      <th>HH5D</th>\n",
       "      <th>HH5M</th>\n",
       "      <th>HH5Y</th>\n",
       "      <th>HH6</th>\n",
       "      <th>HH7</th>\n",
       "      <th>HH8A</th>\n",
       "      <th>...</th>\n",
       "      <th>division</th>\n",
       "      <th>helevel</th>\n",
       "      <th>wscore</th>\n",
       "      <th>windex5</th>\n",
       "      <th>wscoreu</th>\n",
       "      <th>windex5u</th>\n",
       "      <th>wscorer</th>\n",
       "      <th>windex5r</th>\n",
       "      <th>PSU</th>\n",
       "      <th>stratum</th>\n",
       "    </tr>\n",
       "  </thead>\n",
       "  <tbody>\n",
       "    <tr>\n",
       "      <th>0</th>\n",
       "      <td>1</td>\n",
       "      <td>1</td>\n",
       "      <td>17</td>\n",
       "      <td>15</td>\n",
       "      <td>21</td>\n",
       "      <td>4</td>\n",
       "      <td>2014</td>\n",
       "      <td>1</td>\n",
       "      <td>1</td>\n",
       "      <td>2</td>\n",
       "      <td>...</td>\n",
       "      <td>1</td>\n",
       "      <td>2.0</td>\n",
       "      <td>0.330435</td>\n",
       "      <td>3</td>\n",
       "      <td>-0.436749</td>\n",
       "      <td>1.0</td>\n",
       "      <td>NaN</td>\n",
       "      <td>NaN</td>\n",
       "      <td>1</td>\n",
       "      <td>1</td>\n",
       "    </tr>\n",
       "    <tr>\n",
       "      <th>1</th>\n",
       "      <td>1</td>\n",
       "      <td>2</td>\n",
       "      <td>16</td>\n",
       "      <td>15</td>\n",
       "      <td>21</td>\n",
       "      <td>4</td>\n",
       "      <td>2014</td>\n",
       "      <td>1</td>\n",
       "      <td>1</td>\n",
       "      <td>2</td>\n",
       "      <td>...</td>\n",
       "      <td>1</td>\n",
       "      <td>1.0</td>\n",
       "      <td>-1.537632</td>\n",
       "      <td>1</td>\n",
       "      <td>-2.735402</td>\n",
       "      <td>1.0</td>\n",
       "      <td>NaN</td>\n",
       "      <td>NaN</td>\n",
       "      <td>1</td>\n",
       "      <td>1</td>\n",
       "    </tr>\n",
       "    <tr>\n",
       "      <th>2</th>\n",
       "      <td>1</td>\n",
       "      <td>3</td>\n",
       "      <td>16</td>\n",
       "      <td>15</td>\n",
       "      <td>21</td>\n",
       "      <td>4</td>\n",
       "      <td>2014</td>\n",
       "      <td>1</td>\n",
       "      <td>1</td>\n",
       "      <td>1</td>\n",
       "      <td>...</td>\n",
       "      <td>1</td>\n",
       "      <td>2.0</td>\n",
       "      <td>-0.643725</td>\n",
       "      <td>2</td>\n",
       "      <td>-1.635452</td>\n",
       "      <td>1.0</td>\n",
       "      <td>NaN</td>\n",
       "      <td>NaN</td>\n",
       "      <td>1</td>\n",
       "      <td>1</td>\n",
       "    </tr>\n",
       "    <tr>\n",
       "      <th>3</th>\n",
       "      <td>1</td>\n",
       "      <td>4</td>\n",
       "      <td>17</td>\n",
       "      <td>15</td>\n",
       "      <td>21</td>\n",
       "      <td>4</td>\n",
       "      <td>2014</td>\n",
       "      <td>1</td>\n",
       "      <td>1</td>\n",
       "      <td>2</td>\n",
       "      <td>...</td>\n",
       "      <td>1</td>\n",
       "      <td>1.0</td>\n",
       "      <td>-0.992865</td>\n",
       "      <td>1</td>\n",
       "      <td>-2.065068</td>\n",
       "      <td>1.0</td>\n",
       "      <td>NaN</td>\n",
       "      <td>NaN</td>\n",
       "      <td>1</td>\n",
       "      <td>1</td>\n",
       "    </tr>\n",
       "    <tr>\n",
       "      <th>4</th>\n",
       "      <td>1</td>\n",
       "      <td>5</td>\n",
       "      <td>17</td>\n",
       "      <td>15</td>\n",
       "      <td>21</td>\n",
       "      <td>4</td>\n",
       "      <td>2014</td>\n",
       "      <td>1</td>\n",
       "      <td>1</td>\n",
       "      <td>2</td>\n",
       "      <td>...</td>\n",
       "      <td>1</td>\n",
       "      <td>1.0</td>\n",
       "      <td>-1.004787</td>\n",
       "      <td>1</td>\n",
       "      <td>-2.079738</td>\n",
       "      <td>1.0</td>\n",
       "      <td>NaN</td>\n",
       "      <td>NaN</td>\n",
       "      <td>1</td>\n",
       "      <td>1</td>\n",
       "    </tr>\n",
       "  </tbody>\n",
       "</table>\n",
       "<p>5 rows × 264 columns</p>\n",
       "</div>"
      ],
      "text/plain": [
       "   HH1  HH2  HH3  HH4  HH5D  HH5M  HH5Y  HH6  HH7  HH8A   ...     division  \\\n",
       "0    1    1   17   15    21     4  2014    1    1     2   ...            1   \n",
       "1    1    2   16   15    21     4  2014    1    1     2   ...            1   \n",
       "2    1    3   16   15    21     4  2014    1    1     1   ...            1   \n",
       "3    1    4   17   15    21     4  2014    1    1     2   ...            1   \n",
       "4    1    5   17   15    21     4  2014    1    1     2   ...            1   \n",
       "\n",
       "   helevel    wscore  windex5   wscoreu  windex5u  wscorer  windex5r  PSU  \\\n",
       "0      2.0  0.330435        3 -0.436749       1.0      NaN       NaN    1   \n",
       "1      1.0 -1.537632        1 -2.735402       1.0      NaN       NaN    1   \n",
       "2      2.0 -0.643725        2 -1.635452       1.0      NaN       NaN    1   \n",
       "3      1.0 -0.992865        1 -2.065068       1.0      NaN       NaN    1   \n",
       "4      1.0 -1.004787        1 -2.079738       1.0      NaN       NaN    1   \n",
       "\n",
       "   stratum  \n",
       "0        1  \n",
       "1        1  \n",
       "2        1  \n",
       "3        1  \n",
       "4        1  \n",
       "\n",
       "[5 rows x 264 columns]"
      ]
     },
     "execution_count": 33,
     "metadata": {},
     "output_type": "execute_result"
    }
   ],
   "source": [
    "columnNumbers = [x for x in range(hh_df.shape[1])]  # list of columns' integer indices\n",
    "\n",
    "#columnNumbers.remove(0) #removing column integer index 0\n",
    "hh_df = hh_df.iloc[:, columnNumbers] #return all columns except 0th column\n",
    "hh_df.head()"
   ]
  },
  {
   "cell_type": "code",
   "execution_count": 34,
   "metadata": {
    "collapsed": true
   },
   "outputs": [],
   "source": [
    "df = ch_wm_df.merge(hh_df, on = ['HH1','HH2'])"
   ]
  },
  {
   "cell_type": "code",
   "execution_count": 35,
   "metadata": {
    "collapsed": false
   },
   "outputs": [
    {
     "data": {
      "text/html": [
       "<div>\n",
       "<table border=\"1\" class=\"dataframe\">\n",
       "  <thead>\n",
       "    <tr style=\"text-align: right;\">\n",
       "      <th></th>\n",
       "      <th>HH1</th>\n",
       "      <th>HH2</th>\n",
       "      <th>LN_x</th>\n",
       "      <th>UF1</th>\n",
       "      <th>UF2</th>\n",
       "      <th>UF4</th>\n",
       "      <th>UF6</th>\n",
       "      <th>UF7</th>\n",
       "      <th>UF8D</th>\n",
       "      <th>UF8M</th>\n",
       "      <th>...</th>\n",
       "      <th>division</th>\n",
       "      <th>helevel</th>\n",
       "      <th>wscore</th>\n",
       "      <th>windex5</th>\n",
       "      <th>wscoreu</th>\n",
       "      <th>windex5u</th>\n",
       "      <th>wscorer</th>\n",
       "      <th>windex5r</th>\n",
       "      <th>PSU</th>\n",
       "      <th>stratum</th>\n",
       "    </tr>\n",
       "  </thead>\n",
       "  <tbody>\n",
       "    <tr>\n",
       "      <th>0</th>\n",
       "      <td>1</td>\n",
       "      <td>2</td>\n",
       "      <td>7</td>\n",
       "      <td>1</td>\n",
       "      <td>2</td>\n",
       "      <td>7</td>\n",
       "      <td>2</td>\n",
       "      <td>16</td>\n",
       "      <td>21</td>\n",
       "      <td>4</td>\n",
       "      <td>...</td>\n",
       "      <td>1</td>\n",
       "      <td>1.0</td>\n",
       "      <td>-1.537632</td>\n",
       "      <td>1</td>\n",
       "      <td>-2.735402</td>\n",
       "      <td>1.0</td>\n",
       "      <td>NaN</td>\n",
       "      <td>NaN</td>\n",
       "      <td>1</td>\n",
       "      <td>1</td>\n",
       "    </tr>\n",
       "    <tr>\n",
       "      <th>1</th>\n",
       "      <td>1</td>\n",
       "      <td>3</td>\n",
       "      <td>9</td>\n",
       "      <td>1</td>\n",
       "      <td>3</td>\n",
       "      <td>9</td>\n",
       "      <td>2</td>\n",
       "      <td>16</td>\n",
       "      <td>21</td>\n",
       "      <td>4</td>\n",
       "      <td>...</td>\n",
       "      <td>1</td>\n",
       "      <td>2.0</td>\n",
       "      <td>-0.643725</td>\n",
       "      <td>2</td>\n",
       "      <td>-1.635452</td>\n",
       "      <td>1.0</td>\n",
       "      <td>NaN</td>\n",
       "      <td>NaN</td>\n",
       "      <td>1</td>\n",
       "      <td>1</td>\n",
       "    </tr>\n",
       "    <tr>\n",
       "      <th>2</th>\n",
       "      <td>1</td>\n",
       "      <td>3</td>\n",
       "      <td>9</td>\n",
       "      <td>1</td>\n",
       "      <td>3</td>\n",
       "      <td>9</td>\n",
       "      <td>2</td>\n",
       "      <td>16</td>\n",
       "      <td>21</td>\n",
       "      <td>4</td>\n",
       "      <td>...</td>\n",
       "      <td>1</td>\n",
       "      <td>2.0</td>\n",
       "      <td>-0.643725</td>\n",
       "      <td>2</td>\n",
       "      <td>-1.635452</td>\n",
       "      <td>1.0</td>\n",
       "      <td>NaN</td>\n",
       "      <td>NaN</td>\n",
       "      <td>1</td>\n",
       "      <td>1</td>\n",
       "    </tr>\n",
       "    <tr>\n",
       "      <th>3</th>\n",
       "      <td>1</td>\n",
       "      <td>4</td>\n",
       "      <td>4</td>\n",
       "      <td>1</td>\n",
       "      <td>4</td>\n",
       "      <td>4</td>\n",
       "      <td>2</td>\n",
       "      <td>17</td>\n",
       "      <td>21</td>\n",
       "      <td>4</td>\n",
       "      <td>...</td>\n",
       "      <td>1</td>\n",
       "      <td>1.0</td>\n",
       "      <td>-0.992865</td>\n",
       "      <td>1</td>\n",
       "      <td>-2.065068</td>\n",
       "      <td>1.0</td>\n",
       "      <td>NaN</td>\n",
       "      <td>NaN</td>\n",
       "      <td>1</td>\n",
       "      <td>1</td>\n",
       "    </tr>\n",
       "    <tr>\n",
       "      <th>4</th>\n",
       "      <td>1</td>\n",
       "      <td>4</td>\n",
       "      <td>5</td>\n",
       "      <td>1</td>\n",
       "      <td>4</td>\n",
       "      <td>5</td>\n",
       "      <td>2</td>\n",
       "      <td>17</td>\n",
       "      <td>21</td>\n",
       "      <td>4</td>\n",
       "      <td>...</td>\n",
       "      <td>1</td>\n",
       "      <td>1.0</td>\n",
       "      <td>-0.992865</td>\n",
       "      <td>1</td>\n",
       "      <td>-2.065068</td>\n",
       "      <td>1.0</td>\n",
       "      <td>NaN</td>\n",
       "      <td>NaN</td>\n",
       "      <td>1</td>\n",
       "      <td>1</td>\n",
       "    </tr>\n",
       "  </tbody>\n",
       "</table>\n",
       "<p>5 rows × 899 columns</p>\n",
       "</div>"
      ],
      "text/plain": [
       "   HH1  HH2  LN_x  UF1  UF2  UF4  UF6  UF7  UF8D  UF8M   ...     division  \\\n",
       "0    1    2     7    1    2    7    2   16    21     4   ...            1   \n",
       "1    1    3     9    1    3    9    2   16    21     4   ...            1   \n",
       "2    1    3     9    1    3    9    2   16    21     4   ...            1   \n",
       "3    1    4     4    1    4    4    2   17    21     4   ...            1   \n",
       "4    1    4     5    1    4    5    2   17    21     4   ...            1   \n",
       "\n",
       "   helevel    wscore  windex5   wscoreu  windex5u  wscorer  windex5r  PSU  \\\n",
       "0      1.0 -1.537632        1 -2.735402       1.0      NaN       NaN    1   \n",
       "1      2.0 -0.643725        2 -1.635452       1.0      NaN       NaN    1   \n",
       "2      2.0 -0.643725        2 -1.635452       1.0      NaN       NaN    1   \n",
       "3      1.0 -0.992865        1 -2.065068       1.0      NaN       NaN    1   \n",
       "4      1.0 -0.992865        1 -2.065068       1.0      NaN       NaN    1   \n",
       "\n",
       "   stratum  \n",
       "0        1  \n",
       "1        1  \n",
       "2        1  \n",
       "3        1  \n",
       "4        1  \n",
       "\n",
       "[5 rows x 899 columns]"
      ]
     },
     "execution_count": 35,
     "metadata": {},
     "output_type": "execute_result"
    }
   ],
   "source": [
    "df.head()"
   ]
  },
  {
   "cell_type": "markdown",
   "metadata": {},
   "source": [
    "Remove ID columns"
   ]
  },
  {
   "cell_type": "code",
   "execution_count": 36,
   "metadata": {
    "collapsed": true
   },
   "outputs": [],
   "source": [
    "df = df.loc[:, ~df.columns.str.startswith('UF')]\n",
    "df = df.loc[:, ~df.columns.str.startswith('HH')]\n",
    "df = df.loc[:, ~df.columns.str.startswith('LN')]\n",
    "df.drop('AN1', axis=1, inplace=True)"
   ]
  },
  {
   "cell_type": "code",
   "execution_count": 37,
   "metadata": {
    "collapsed": false
   },
   "outputs": [
    {
     "data": {
      "text/plain": [
       "array([ nan,   3.,   1.,   2.,   9.])"
      ]
     },
     "execution_count": 37,
     "metadata": {},
     "output_type": "execute_result"
    }
   ],
   "source": [
    "df['IM1'].unique()"
   ]
  },
  {
   "cell_type": "code",
   "execution_count": 38,
   "metadata": {
    "collapsed": true
   },
   "outputs": [],
   "source": [
    "#Set the target to column IM1 - Has the card and the card is seen\n",
    "#Seperate the target column from the df.\n",
    "\n",
    "df['has_card'] = np.where(df['IM1'] == 1, 1,0)"
   ]
  },
  {
   "cell_type": "code",
   "execution_count": 39,
   "metadata": {
    "collapsed": true
   },
   "outputs": [],
   "source": [
    "df = df.loc[:, ~df.columns.str.startswith('IM')]"
   ]
  },
  {
   "cell_type": "markdown",
   "metadata": {},
   "source": [
    "# Handling data imbalance by upsampling the minority class"
   ]
  },
  {
   "cell_type": "code",
   "execution_count": 40,
   "metadata": {
    "collapsed": false
   },
   "outputs": [
    {
     "name": "stdout",
     "output_type": "stream",
     "text": [
      "32157\n",
      "6298\n"
     ]
    }
   ],
   "source": [
    "df_majority = df[df.has_card == 0]\n",
    "df_minority = df[df.has_card == 1]\n",
    "\n",
    "print(len(df_majority))\n",
    "print(len(df_minority))"
   ]
  },
  {
   "cell_type": "code",
   "execution_count": 41,
   "metadata": {
    "collapsed": false
   },
   "outputs": [
    {
     "data": {
      "text/plain": [
       "1    32289\n",
       "0    32157\n",
       "Name: has_card, dtype: int64"
      ]
     },
     "execution_count": 41,
     "metadata": {},
     "output_type": "execute_result"
    }
   ],
   "source": [
    "# Upsample minority class\n",
    "df_minority_upsampled = resample(df_minority, \n",
    "                                 replace= True,     # sample with replacement\n",
    "                                 n_samples=32289,    # to match majority class\n",
    "                                 random_state=123) # reproducible results\n",
    " \n",
    "# Combine majority class with upsampled minority class\n",
    "df_upsampled = pd.concat([df_majority, df_minority_upsampled])\n",
    " \n",
    "# Display new class counts\n",
    "df_upsampled.has_card.value_counts()"
   ]
  },
  {
   "cell_type": "code",
   "execution_count": 42,
   "metadata": {
    "collapsed": true
   },
   "outputs": [],
   "source": [
    "df = df_upsampled"
   ]
  },
  {
   "cell_type": "code",
   "execution_count": 43,
   "metadata": {
    "collapsed": false,
    "scrolled": true
   },
   "outputs": [
    {
     "data": {
      "text/html": [
       "<div>\n",
       "<table border=\"1\" class=\"dataframe\">\n",
       "  <thead>\n",
       "    <tr style=\"text-align: right;\">\n",
       "      <th></th>\n",
       "      <th>AG1D</th>\n",
       "      <th>AG1M</th>\n",
       "      <th>AG1Y</th>\n",
       "      <th>AG2</th>\n",
       "      <th>BR1</th>\n",
       "      <th>BR1A</th>\n",
       "      <th>BR2</th>\n",
       "      <th>BR3</th>\n",
       "      <th>BR4</th>\n",
       "      <th>EC1</th>\n",
       "      <th>...</th>\n",
       "      <th>HW5BD_?</th>\n",
       "      <th>HW5BD_D</th>\n",
       "      <th>WQ10D_H</th>\n",
       "      <th>WQ12AD_DH</th>\n",
       "      <th>WQ14D_DH</th>\n",
       "      <th>WQ19D_DS</th>\n",
       "      <th>WQ21BD_B</th>\n",
       "      <th>WQ23D_H</th>\n",
       "      <th>WQ26D_S</th>\n",
       "      <th>WQ29D_B</th>\n",
       "    </tr>\n",
       "  </thead>\n",
       "  <tbody>\n",
       "    <tr>\n",
       "      <th>0</th>\n",
       "      <td>99.0</td>\n",
       "      <td>3.0</td>\n",
       "      <td>2011.0</td>\n",
       "      <td>3.0</td>\n",
       "      <td>3.0</td>\n",
       "      <td>NaN</td>\n",
       "      <td>2.0</td>\n",
       "      <td>2.0</td>\n",
       "      <td>NaN</td>\n",
       "      <td>0.0</td>\n",
       "      <td>...</td>\n",
       "      <td>0</td>\n",
       "      <td>0</td>\n",
       "      <td>0</td>\n",
       "      <td>0</td>\n",
       "      <td>0</td>\n",
       "      <td>0</td>\n",
       "      <td>0</td>\n",
       "      <td>0</td>\n",
       "      <td>0</td>\n",
       "      <td>0</td>\n",
       "    </tr>\n",
       "    <tr>\n",
       "      <th>1</th>\n",
       "      <td>98.0</td>\n",
       "      <td>4.0</td>\n",
       "      <td>2010.0</td>\n",
       "      <td>4.0</td>\n",
       "      <td>3.0</td>\n",
       "      <td>NaN</td>\n",
       "      <td>2.0</td>\n",
       "      <td>2.0</td>\n",
       "      <td>NaN</td>\n",
       "      <td>0.0</td>\n",
       "      <td>...</td>\n",
       "      <td>0</td>\n",
       "      <td>0</td>\n",
       "      <td>1</td>\n",
       "      <td>0</td>\n",
       "      <td>0</td>\n",
       "      <td>0</td>\n",
       "      <td>0</td>\n",
       "      <td>1</td>\n",
       "      <td>1</td>\n",
       "      <td>0</td>\n",
       "    </tr>\n",
       "    <tr>\n",
       "      <th>2</th>\n",
       "      <td>98.0</td>\n",
       "      <td>4.0</td>\n",
       "      <td>2010.0</td>\n",
       "      <td>4.0</td>\n",
       "      <td>3.0</td>\n",
       "      <td>NaN</td>\n",
       "      <td>2.0</td>\n",
       "      <td>2.0</td>\n",
       "      <td>NaN</td>\n",
       "      <td>0.0</td>\n",
       "      <td>...</td>\n",
       "      <td>0</td>\n",
       "      <td>0</td>\n",
       "      <td>1</td>\n",
       "      <td>0</td>\n",
       "      <td>0</td>\n",
       "      <td>0</td>\n",
       "      <td>0</td>\n",
       "      <td>1</td>\n",
       "      <td>1</td>\n",
       "      <td>0</td>\n",
       "    </tr>\n",
       "    <tr>\n",
       "      <th>3</th>\n",
       "      <td>98.0</td>\n",
       "      <td>7.0</td>\n",
       "      <td>2010.0</td>\n",
       "      <td>3.0</td>\n",
       "      <td>3.0</td>\n",
       "      <td>NaN</td>\n",
       "      <td>2.0</td>\n",
       "      <td>2.0</td>\n",
       "      <td>NaN</td>\n",
       "      <td>0.0</td>\n",
       "      <td>...</td>\n",
       "      <td>0</td>\n",
       "      <td>0</td>\n",
       "      <td>0</td>\n",
       "      <td>0</td>\n",
       "      <td>0</td>\n",
       "      <td>0</td>\n",
       "      <td>0</td>\n",
       "      <td>0</td>\n",
       "      <td>0</td>\n",
       "      <td>0</td>\n",
       "    </tr>\n",
       "    <tr>\n",
       "      <th>4</th>\n",
       "      <td>98.0</td>\n",
       "      <td>6.0</td>\n",
       "      <td>2013.0</td>\n",
       "      <td>0.0</td>\n",
       "      <td>3.0</td>\n",
       "      <td>NaN</td>\n",
       "      <td>2.0</td>\n",
       "      <td>2.0</td>\n",
       "      <td>NaN</td>\n",
       "      <td>0.0</td>\n",
       "      <td>...</td>\n",
       "      <td>0</td>\n",
       "      <td>0</td>\n",
       "      <td>0</td>\n",
       "      <td>0</td>\n",
       "      <td>0</td>\n",
       "      <td>0</td>\n",
       "      <td>0</td>\n",
       "      <td>0</td>\n",
       "      <td>0</td>\n",
       "      <td>0</td>\n",
       "    </tr>\n",
       "  </tbody>\n",
       "</table>\n",
       "<p>5 rows × 1081 columns</p>\n",
       "</div>"
      ],
      "text/plain": [
       "   AG1D  AG1M    AG1Y  AG2  BR1  BR1A  BR2  BR3  BR4  EC1   ...     HW5BD_?  \\\n",
       "0  99.0   3.0  2011.0  3.0  3.0   NaN  2.0  2.0  NaN  0.0   ...           0   \n",
       "1  98.0   4.0  2010.0  4.0  3.0   NaN  2.0  2.0  NaN  0.0   ...           0   \n",
       "2  98.0   4.0  2010.0  4.0  3.0   NaN  2.0  2.0  NaN  0.0   ...           0   \n",
       "3  98.0   7.0  2010.0  3.0  3.0   NaN  2.0  2.0  NaN  0.0   ...           0   \n",
       "4  98.0   6.0  2013.0  0.0  3.0   NaN  2.0  2.0  NaN  0.0   ...           0   \n",
       "\n",
       "   HW5BD_D  WQ10D_H  WQ12AD_DH  WQ14D_DH  WQ19D_DS  WQ21BD_B  WQ23D_H  \\\n",
       "0        0        0          0         0         0         0        0   \n",
       "1        0        1          0         0         0         0        1   \n",
       "2        0        1          0         0         0         0        1   \n",
       "3        0        0          0         0         0         0        0   \n",
       "4        0        0          0         0         0         0        0   \n",
       "\n",
       "   WQ26D_S  WQ29D_B  \n",
       "0        0        0  \n",
       "1        1        0  \n",
       "2        1        0  \n",
       "3        0        0  \n",
       "4        0        0  \n",
       "\n",
       "[5 rows x 1081 columns]"
      ]
     },
     "execution_count": 43,
     "metadata": {},
     "output_type": "execute_result"
    }
   ],
   "source": [
    "#One hot encoding of categorical values using get_dummies function\n",
    "\n",
    "dummies = pd.get_dummies(df)\n",
    "dummies.head()"
   ]
  },
  {
   "cell_type": "code",
   "execution_count": 44,
   "metadata": {
    "collapsed": true
   },
   "outputs": [],
   "source": [
    "#Replace NaN with 0\n",
    "\n",
    "dummies = dummies.fillna(0)"
   ]
  },
  {
   "cell_type": "code",
   "execution_count": 45,
   "metadata": {
    "collapsed": false
   },
   "outputs": [
    {
     "data": {
      "text/plain": [
       "array([0, 1], dtype=int64)"
      ]
     },
     "execution_count": 45,
     "metadata": {},
     "output_type": "execute_result"
    }
   ],
   "source": [
    "target = df['has_card']\n",
    "target.unique()"
   ]
  },
  {
   "cell_type": "markdown",
   "metadata": {},
   "source": [
    "1\tYes\t    - 6021   \n",
    "2\tNo\t    - 1279  \n",
    "8\tDK\t    - 102\t  \n",
    "9\tMissing - 3"
   ]
  },
  {
   "cell_type": "code",
   "execution_count": 46,
   "metadata": {
    "collapsed": true
   },
   "outputs": [],
   "source": [
    "#Creating a binary variable since by coding Yes to 1 and any other response as 0.\n",
    "\n",
    "y=['has_card']\n",
    "dummy_vars =dummies.columns.values.tolist()\n",
    "X=[i for i in dummy_vars if i not in y]"
   ]
  },
  {
   "cell_type": "markdown",
   "metadata": {},
   "source": [
    "# Logistic Regression Classifier"
   ]
  },
  {
   "cell_type": "code",
   "execution_count": 47,
   "metadata": {
    "collapsed": false
   },
   "outputs": [
    {
     "data": {
      "text/plain": [
       "LogisticRegression(C=1.0, class_weight=None, dual=False, fit_intercept=True,\n",
       "          intercept_scaling=1, max_iter=100, multi_class='ovr', n_jobs=1,\n",
       "          penalty='l2', random_state=None, solver='liblinear', tol=0.0001,\n",
       "          verbose=0, warm_start=False)"
      ]
     },
     "execution_count": 47,
     "metadata": {},
     "output_type": "execute_result"
    }
   ],
   "source": [
    "#Training the logistic regression model\n",
    "logreg = LogisticRegression()\n",
    "X_train, X_test, y_train, y_test = train_test_split(dummies[X],dummies[y].values.ravel(), test_size=0.3, random_state=0)\n",
    "logreg.fit(X_train, y_train)"
   ]
  },
  {
   "cell_type": "code",
   "execution_count": 48,
   "metadata": {
    "collapsed": true
   },
   "outputs": [],
   "source": [
    "feature_importance = abs(logreg.coef_[0])\n",
    "sorted_idx = np.argsort(feature_importance)\n",
    "pos = np.arange(sorted_idx.shape[0]) + .5"
   ]
  },
  {
   "cell_type": "code",
   "execution_count": 49,
   "metadata": {
    "collapsed": true
   },
   "outputs": [],
   "source": [
    "feature_imp_data = list(zip(X_train, feature_importance))\n",
    "feature_imp_data.sort(key=lambda x: x[1], reverse=True) \n",
    "\n",
    "# save the names and their respective scores separately\n",
    "# reverse the tuples to go from most frequent to least frequent \n",
    "people = list(zip(*feature_imp_data))[0]\n",
    "score = list(zip(*feature_imp_data))[1]"
   ]
  },
  {
   "cell_type": "code",
   "execution_count": 50,
   "metadata": {
    "collapsed": true
   },
   "outputs": [],
   "source": [
    "people = people[0:20]\n",
    "score = score[0:20]\n",
    "x_pos = np.arange(len(people)) "
   ]
  },
  {
   "cell_type": "code",
   "execution_count": 51,
   "metadata": {
    "collapsed": false
   },
   "outputs": [
    {
     "data": {
      "image/png": "[encoded data removed]",
      "text/plain": [
       "<matplotlib.figure.Figure at 0x193e3390>"
      ]
     },
     "metadata": {},
     "output_type": "display_data"
    }
   ],
   "source": [
    "# calculate slope and intercept for the linear trend line\n",
    "slope, intercept = np.polyfit(x_pos, score, 1)\n",
    "trendline = intercept + (slope * x_pos)\n",
    "plt.figure(figsize=(25,5))\n",
    "plt.bar(x_pos, score,align='center')\n",
    "plt.xticks(x_pos, people) \n",
    "plt.ylabel('Feature Importance')\n",
    "plt.suptitle('Logistic Regression Feature Importance For Predicting If The Caregiver Has Card', fontsize=20)\n",
    "plt.tick_params(axis='both', which='major', labelsize=15)\n",
    "plt.tick_params(axis='both', which='minor', labelsize=15)\n",
    "plt.xticks(rotation=90)\n",
    "plt.show()"
   ]
  },
  {
   "cell_type": "code",
   "execution_count": 52,
   "metadata": {
    "collapsed": false
   },
   "outputs": [
    {
     "name": "stdout",
     "output_type": "stream",
     "text": [
      "Accuracy of logistic regression classifier on test set: 0.86\n"
     ]
    }
   ],
   "source": [
    "y_pred = logreg.predict(X_test)\n",
    "print('Accuracy of logistic regression classifier on test set: {:.2f}'.format(logreg.score(X_test, y_test)))"
   ]
  },
  {
   "cell_type": "code",
   "execution_count": 53,
   "metadata": {
    "collapsed": false
   },
   "outputs": [
    {
     "name": "stdout",
     "output_type": "stream",
     "text": [
      "             precision    recall  f1-score   support\n",
      "\n",
      "          0       0.90      0.81      0.85      9581\n",
      "          1       0.83      0.91      0.87      9753\n",
      "\n",
      "avg / total       0.86      0.86      0.86     19334\n",
      "\n"
     ]
    }
   ],
   "source": [
    "#Overall classification report\n",
    "\n",
    "print(classification_report(y_test, y_pred))"
   ]
  },
  {
   "cell_type": "markdown",
   "metadata": {},
   "source": [
    "# Random Forest Classifier"
   ]
  },
  {
   "cell_type": "markdown",
   "metadata": {},
   "source": [
    "Random Forests is an ensemble model which uses a large number of strong decision trees through bagging.\n",
    "Each decision tree is built on a subset of features and a subset of rows from the data.\n",
    "The model combines all of them in order to smooth out their predictions"
   ]
  },
  {
   "cell_type": "code",
   "execution_count": 54,
   "metadata": {
    "collapsed": true
   },
   "outputs": [],
   "source": [
    "#Training the Random Forests model\n",
    "\n",
    "X_train, X_test, y_train, y_test = train_test_split(dummies[X],dummies[y].values.ravel(), test_size=0.3, random_state=0)"
   ]
  },
  {
   "cell_type": "code",
   "execution_count": 55,
   "metadata": {
    "collapsed": false
   },
   "outputs": [
    {
     "data": {
      "text/plain": [
       "RandomForestClassifier(bootstrap=True, class_weight=None, criterion='gini',\n",
       "            max_depth=None, max_features='auto', max_leaf_nodes=None,\n",
       "            min_impurity_split=1e-07, min_samples_leaf=1,\n",
       "            min_samples_split=2, min_weight_fraction_leaf=0.0,\n",
       "            n_estimators=10, n_jobs=1, oob_score=False, random_state=None,\n",
       "            verbose=0, warm_start=False)"
      ]
     },
     "execution_count": 55,
     "metadata": {},
     "output_type": "execute_result"
    }
   ],
   "source": [
    "# Create a random forest Classifier. By convention, clf means 'Classifier'\n",
    "rfc = RandomForestClassifier()\n",
    "\n",
    "# Train the Classifier to take the training features and learn how they relate\n",
    "# to the training y \n",
    "rfc.fit(X_train, y_train)"
   ]
  },
  {
   "cell_type": "code",
   "execution_count": 56,
   "metadata": {
    "collapsed": false
   },
   "outputs": [
    {
     "name": "stdout",
     "output_type": "stream",
     "text": [
      "Accuracy of random forest classifier on test set: 0.98\n"
     ]
    }
   ],
   "source": [
    "y_pred = rfc.predict(X_test)\n",
    "print('Accuracy of random forest classifier on test set: {:.2f}'.format(rfc.score(X_test, y_test)))"
   ]
  },
  {
   "cell_type": "code",
   "execution_count": 57,
   "metadata": {
    "collapsed": false
   },
   "outputs": [
    {
     "name": "stdout",
     "output_type": "stream",
     "text": [
      "             precision    recall  f1-score   support\n",
      "\n",
      "          0       0.99      0.97      0.98      9581\n",
      "          1       0.97      0.99      0.98      9753\n",
      "\n",
      "avg / total       0.98      0.98      0.98     19334\n",
      "\n"
     ]
    }
   ],
   "source": [
    "#Overall classification report\n",
    "\n",
    "from sklearn.metrics import classification_report\n",
    "print(classification_report(y_test, y_pred))"
   ]
  },
  {
   "cell_type": "markdown",
   "metadata": {},
   "source": [
    "Let's validate the results of Random Forests Model with kfold cross validation"
   ]
  },
  {
   "cell_type": "code",
   "execution_count": 58,
   "metadata": {
    "collapsed": false
   },
   "outputs": [
    {
     "name": "stdout",
     "output_type": "stream",
     "text": [
      "10-fold cross validation average accuracy: 0.979\n"
     ]
    }
   ],
   "source": [
    "kfold = model_selection.KFold(n_splits=10, random_state=7)\n",
    "scoring = 'accuracy'\n",
    "results = model_selection.cross_val_score(rfc, X_train, y_train, cv=kfold, scoring=scoring)\n",
    "print(\"10-fold cross validation average accuracy: %.3f\" % (results.mean()))"
   ]
  },
  {
   "cell_type": "code",
   "execution_count": 59,
   "metadata": {
    "collapsed": true
   },
   "outputs": [],
   "source": [
    "feature_imp_data = list(zip(X_train, rfc.feature_importances_))"
   ]
  },
  {
   "cell_type": "code",
   "execution_count": 60,
   "metadata": {
    "collapsed": true
   },
   "outputs": [],
   "source": [
    "feature_imp_data.sort(key=lambda x: x[1], reverse=True) \n",
    "\n",
    "# save the names and their respective scores separately\n",
    "# reverse the tuples to go from most frequent to least frequent \n",
    "people = list(zip(*feature_imp_data))[0]\n",
    "score = list(zip(*feature_imp_data))[1]"
   ]
  },
  {
   "cell_type": "code",
   "execution_count": 61,
   "metadata": {
    "collapsed": true
   },
   "outputs": [],
   "source": [
    "people = people[0:20]\n",
    "score = score[0:20]\n",
    "x_pos = np.arange(len(people)) "
   ]
  },
  {
   "cell_type": "code",
   "execution_count": 62,
   "metadata": {
    "collapsed": false
   },
   "outputs": [
    {
     "data": {
      "image/png": "[encoded data removed]",
      "text/plain": [
       "<matplotlib.figure.Figure at 0x76dcb0b8>"
      ]
     },
     "metadata": {},
     "output_type": "display_data"
    }
   ],
   "source": [
    "# calculate slope and intercept for the linear trend line\n",
    "slope, intercept = np.polyfit(x_pos, score, 1)\n",
    "trendline = intercept + (slope * x_pos)\n",
    "plt.figure(figsize=(25,5))\n",
    "plt.bar(x_pos, score,align='center')\n",
    "plt.xticks(x_pos, people) \n",
    "plt.ylabel('Feature Importance')\n",
    "plt.suptitle('Random Forests Feature Importance For Predicting If The Caregiver Has Card', fontsize=20)\n",
    "plt.tick_params(axis='both', which='major', labelsize=15)\n",
    "plt.tick_params(axis='both', which='minor', labelsize=15)\n",
    "plt.xticks(rotation=90)\n",
    "plt.show()"
   ]
  },
  {
   "cell_type": "markdown",
   "metadata": {},
   "source": [
    "# Gradient Boosting Decision Tree Classifier"
   ]
  },
  {
   "cell_type": "markdown",
   "metadata": {},
   "source": [
    "Gradient Boosting Decision Trees is an ensemble model which uses a sequence of weak constrained decision trees through boosting.\n",
    "Each tree is allowed a maximum depth and hence tuned and each tree tries to correct the predictions of the trees before it."
   ]
  },
  {
   "cell_type": "code",
   "execution_count": 63,
   "metadata": {
    "collapsed": true
   },
   "outputs": [],
   "source": [
    "gbd = GradientBoostingClassifier()\n",
    "gbd = gbd.fit(X_train, y_train)"
   ]
  },
  {
   "cell_type": "code",
   "execution_count": 64,
   "metadata": {
    "collapsed": false
   },
   "outputs": [
    {
     "name": "stdout",
     "output_type": "stream",
     "text": [
      "Accuracy of gradient boosting decision tree classifier on test set: 0.88\n"
     ]
    }
   ],
   "source": [
    "y_pred = gbd.predict(X_test)\n",
    "print('Accuracy of gradient boosting decision tree classifier on test set: {:.2f}'.format(gbd.score(X_test, y_test)))"
   ]
  },
  {
   "cell_type": "code",
   "execution_count": 65,
   "metadata": {
    "collapsed": false
   },
   "outputs": [
    {
     "name": "stdout",
     "output_type": "stream",
     "text": [
      "10-fold cross validation average accuracy: 0.876\n"
     ]
    }
   ],
   "source": [
    "kfold = model_selection.KFold(n_splits=10, random_state=7)\n",
    "scoring = 'accuracy'\n",
    "results = model_selection.cross_val_score(gbd, X_train, y_train, cv=kfold, scoring=scoring)\n",
    "print(\"10-fold cross validation average accuracy: %.3f\" % (results.mean()))"
   ]
  },
  {
   "cell_type": "code",
   "execution_count": 66,
   "metadata": {
    "collapsed": true
   },
   "outputs": [],
   "source": [
    "feature_imp_data = list(zip(X_train, gbd.feature_importances_))"
   ]
  },
  {
   "cell_type": "code",
   "execution_count": 67,
   "metadata": {
    "collapsed": true
   },
   "outputs": [],
   "source": [
    "feature_imp_data.sort(key=lambda x: x[1], reverse=True) \n",
    "\n",
    "# save the names and their respective scores separately\n",
    "# reverse the tuples to go from most frequent to least frequent \n",
    "people = list(zip(*feature_imp_data))[0]\n",
    "score = list(zip(*feature_imp_data))[1]"
   ]
  },
  {
   "cell_type": "code",
   "execution_count": 68,
   "metadata": {
    "collapsed": true
   },
   "outputs": [],
   "source": [
    "people = people[0:20]\n",
    "score = score[0:20]\n",
    "x_pos = np.arange(len(people)) "
   ]
  },
  {
   "cell_type": "code",
   "execution_count": 69,
   "metadata": {
    "collapsed": false
   },
   "outputs": [
    {
     "name": "stdout",
     "output_type": "stream",
     "text": [
      "             precision    recall  f1-score   support\n",
      "\n",
      "          0       0.91      0.83      0.87      9581\n",
      "          1       0.85      0.92      0.88      9753\n",
      "\n",
      "avg / total       0.88      0.88      0.88     19334\n",
      "\n"
     ]
    }
   ],
   "source": [
    "#Overall classification report\n",
    "\n",
    "from sklearn.metrics import classification_report\n",
    "print(classification_report(y_test, y_pred))"
   ]
  },
  {
   "cell_type": "code",
   "execution_count": 70,
   "metadata": {
    "collapsed": false
   },
   "outputs": [
    {
     "data": {
      "image/png": "[encoded data removed]",
      "text/plain": [
       "<matplotlib.figure.Figure at 0x6ceeba8>"
      ]
     },
     "metadata": {},
     "output_type": "display_data"
    }
   ],
   "source": [
    "# calculate slope and intercept for the linear trend line\n",
    "slope, intercept = np.polyfit(x_pos, score, 1)\n",
    "trendline = intercept + (slope * x_pos)\n",
    "plt.figure(figsize=(25,5))\n",
    "plt.bar(x_pos, score,align='center')\n",
    "plt.xticks(x_pos, people) \n",
    "plt.ylabel('Feature Importance')\n",
    "plt.suptitle('Gradient Boosting Decision Trees Feature Importance For Predicting If The Caregiver Has Card', fontsize=20)\n",
    "plt.tick_params(axis='both', which='major', labelsize=15)\n",
    "plt.tick_params(axis='both', which='minor', labelsize=15)\n",
    "plt.xticks(rotation=90)\n",
    "plt.show()"
   ]
  },
  {
   "cell_type": "code",
   "execution_count": null,
   "metadata": {
    "collapsed": true
   },
   "outputs": [],
   "source": []
  }
 ],
 "metadata": {
  "kernelspec": {
   "display_name": "Python 2",
   "language": "python",
   "name": "python2"
  },
  "language_info": {
   "codemirror_mode": {
    "name": "ipython",
    "version": 2
   },
   "file_extension": ".py",
   "mimetype": "text/x-python",
   "name": "python",
   "nbconvert_exporter": "python",
   "pygments_lexer": "ipython2",
   "version": "2.7.13"
  }
 },
 "nbformat": 4,
 "nbformat_minor": 2
}
