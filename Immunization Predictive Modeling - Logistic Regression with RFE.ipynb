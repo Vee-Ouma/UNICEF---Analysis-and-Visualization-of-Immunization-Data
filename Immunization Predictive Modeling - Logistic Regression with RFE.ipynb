{
 "cells": [
  {
   "cell_type": "code",
   "execution_count": 8,
   "metadata": {
    "collapsed": true
   },
   "outputs": [],
   "source": [
    "import pandas as pd\n",
    "import numpy as np\n",
    "import matplotlib.pyplot as plt\n",
    "from sklearn.feature_selection import RFE\n",
    "from sklearn.linear_model import LogisticRegression\n",
    "from sklearn import metrics\n",
    "from sklearn.model_selection import train_test_split\n",
    "from sklearn.linear_model import LogisticRegression"
   ]
  },
  {
   "cell_type": "markdown",
   "metadata": {},
   "source": [
    "Content\tData collected at the children's level (MICS Under Five Children's questionnaire modules: Under-five child information panel, Child's age, Birth registration, Early childhood development, Breastfeeding , Care of illness, Immunization, Under-five child selected for blood test.)\n",
    "\n",
    "Dataset produced by UNICEF and Central Statistics Organization"
   ]
  },
  {
   "cell_type": "code",
   "execution_count": 6,
   "metadata": {
    "collapsed": true
   },
   "outputs": [],
   "source": [
    "#importing ch.csv which was converted from .sav format in R. Check get_Congo_to_csv.R file\n",
    "#Set low_memory = False to avoid the warning about column numbers having mixed type values.\n",
    "## 107,116,118,121,122,123,125,128,130,138,153,158,167,168,169\n",
    "\n",
    "df = pd.read_csv('ch.csv', low_memory = False)"
   ]
  },
  {
   "cell_type": "code",
   "execution_count": 26,
   "metadata": {},
   "outputs": [
    {
     "data": {
      "text/html": [
       "<div>\n",
       "<style>\n",
       "    .dataframe thead tr:only-child th {\n",
       "        text-align: right;\n",
       "    }\n",
       "\n",
       "    .dataframe thead th {\n",
       "        text-align: left;\n",
       "    }\n",
       "\n",
       "    .dataframe tbody tr th {\n",
       "        vertical-align: top;\n",
       "    }\n",
       "</style>\n",
       "<table border=\"1\" class=\"dataframe\">\n",
       "  <thead>\n",
       "    <tr style=\"text-align: right;\">\n",
       "      <th></th>\n",
       "      <th>HH1</th>\n",
       "      <th>HH2</th>\n",
       "      <th>LN</th>\n",
       "      <th>UF1</th>\n",
       "      <th>UF2</th>\n",
       "      <th>UF4</th>\n",
       "      <th>UF6</th>\n",
       "      <th>UF8D</th>\n",
       "      <th>UF8M</th>\n",
       "      <th>UF8Y</th>\n",
       "      <th>...</th>\n",
       "      <th>CDOI</th>\n",
       "      <th>CDOB</th>\n",
       "      <th>CAGE</th>\n",
       "      <th>CAGE_6</th>\n",
       "      <th>CAGE_11</th>\n",
       "      <th>melevel</th>\n",
       "      <th>religion</th>\n",
       "      <th>wscore</th>\n",
       "      <th>windex5</th>\n",
       "      <th>chweight</th>\n",
       "    </tr>\n",
       "  </thead>\n",
       "  <tbody>\n",
       "    <tr>\n",
       "      <th>count</th>\n",
       "      <td>11245.000000</td>\n",
       "      <td>11245.000000</td>\n",
       "      <td>11245.000000</td>\n",
       "      <td>11245.000000</td>\n",
       "      <td>11245.000000</td>\n",
       "      <td>11245.000000</td>\n",
       "      <td>11245.000000</td>\n",
       "      <td>11245.000000</td>\n",
       "      <td>11245.000000</td>\n",
       "      <td>11245.0</td>\n",
       "      <td>...</td>\n",
       "      <td>11245.000000</td>\n",
       "      <td>11093.000000</td>\n",
       "      <td>11093.000000</td>\n",
       "      <td>11093.000000</td>\n",
       "      <td>11093.000000</td>\n",
       "      <td>11245.000000</td>\n",
       "      <td>11245.000000</td>\n",
       "      <td>11245.000000</td>\n",
       "      <td>11245.000000</td>\n",
       "      <td>11245.000000</td>\n",
       "    </tr>\n",
       "    <tr>\n",
       "      <th>mean</th>\n",
       "      <td>197.041974</td>\n",
       "      <td>100.002045</td>\n",
       "      <td>5.942374</td>\n",
       "      <td>197.041974</td>\n",
       "      <td>100.002045</td>\n",
       "      <td>5.942374</td>\n",
       "      <td>2.312672</td>\n",
       "      <td>15.582214</td>\n",
       "      <td>2.739707</td>\n",
       "      <td>2010.0</td>\n",
       "      <td>...</td>\n",
       "      <td>1322.739707</td>\n",
       "      <td>1294.745695</td>\n",
       "      <td>27.550798</td>\n",
       "      <td>3.744704</td>\n",
       "      <td>2.859281</td>\n",
       "      <td>2.136950</td>\n",
       "      <td>9.059315</td>\n",
       "      <td>0.037520</td>\n",
       "      <td>2.992708</td>\n",
       "      <td>0.986483</td>\n",
       "    </tr>\n",
       "    <tr>\n",
       "      <th>std</th>\n",
       "      <td>109.647359</td>\n",
       "      <td>85.478026</td>\n",
       "      <td>2.522024</td>\n",
       "      <td>109.647359</td>\n",
       "      <td>85.478026</td>\n",
       "      <td>2.522024</td>\n",
       "      <td>1.465379</td>\n",
       "      <td>8.257028</td>\n",
       "      <td>0.588422</td>\n",
       "      <td>0.0</td>\n",
       "      <td>...</td>\n",
       "      <td>0.588422</td>\n",
       "      <td>16.870120</td>\n",
       "      <td>16.881971</td>\n",
       "      <td>1.572419</td>\n",
       "      <td>1.394613</td>\n",
       "      <td>0.768528</td>\n",
       "      <td>24.119801</td>\n",
       "      <td>0.943380</td>\n",
       "      <td>1.427216</td>\n",
       "      <td>0.816790</td>\n",
       "    </tr>\n",
       "    <tr>\n",
       "      <th>min</th>\n",
       "      <td>1.000000</td>\n",
       "      <td>1.000000</td>\n",
       "      <td>2.000000</td>\n",
       "      <td>1.000000</td>\n",
       "      <td>1.000000</td>\n",
       "      <td>2.000000</td>\n",
       "      <td>1.000000</td>\n",
       "      <td>1.000000</td>\n",
       "      <td>2.000000</td>\n",
       "      <td>2010.0</td>\n",
       "      <td>...</td>\n",
       "      <td>1322.000000</td>\n",
       "      <td>1263.000000</td>\n",
       "      <td>0.000000</td>\n",
       "      <td>1.000000</td>\n",
       "      <td>1.000000</td>\n",
       "      <td>1.000000</td>\n",
       "      <td>1.000000</td>\n",
       "      <td>-0.850643</td>\n",
       "      <td>0.000000</td>\n",
       "      <td>0.000000</td>\n",
       "    </tr>\n",
       "    <tr>\n",
       "      <th>25%</th>\n",
       "      <td>100.000000</td>\n",
       "      <td>29.000000</td>\n",
       "      <td>4.000000</td>\n",
       "      <td>100.000000</td>\n",
       "      <td>29.000000</td>\n",
       "      <td>4.000000</td>\n",
       "      <td>2.000000</td>\n",
       "      <td>9.000000</td>\n",
       "      <td>2.000000</td>\n",
       "      <td>2010.0</td>\n",
       "      <td>...</td>\n",
       "      <td>1322.000000</td>\n",
       "      <td>1280.000000</td>\n",
       "      <td>13.000000</td>\n",
       "      <td>3.000000</td>\n",
       "      <td>2.000000</td>\n",
       "      <td>2.000000</td>\n",
       "      <td>1.000000</td>\n",
       "      <td>-0.632641</td>\n",
       "      <td>2.000000</td>\n",
       "      <td>0.441745</td>\n",
       "    </tr>\n",
       "    <tr>\n",
       "      <th>50%</th>\n",
       "      <td>200.000000</td>\n",
       "      <td>74.000000</td>\n",
       "      <td>6.000000</td>\n",
       "      <td>200.000000</td>\n",
       "      <td>74.000000</td>\n",
       "      <td>6.000000</td>\n",
       "      <td>2.000000</td>\n",
       "      <td>16.000000</td>\n",
       "      <td>3.000000</td>\n",
       "      <td>2010.0</td>\n",
       "      <td>...</td>\n",
       "      <td>1323.000000</td>\n",
       "      <td>1296.000000</td>\n",
       "      <td>27.000000</td>\n",
       "      <td>4.000000</td>\n",
       "      <td>3.000000</td>\n",
       "      <td>2.000000</td>\n",
       "      <td>2.000000</td>\n",
       "      <td>-0.358324</td>\n",
       "      <td>3.000000</td>\n",
       "      <td>0.917851</td>\n",
       "    </tr>\n",
       "    <tr>\n",
       "      <th>75%</th>\n",
       "      <td>291.000000</td>\n",
       "      <td>156.000000</td>\n",
       "      <td>7.000000</td>\n",
       "      <td>291.000000</td>\n",
       "      <td>156.000000</td>\n",
       "      <td>7.000000</td>\n",
       "      <td>2.000000</td>\n",
       "      <td>22.000000</td>\n",
       "      <td>3.000000</td>\n",
       "      <td>2010.0</td>\n",
       "      <td>...</td>\n",
       "      <td>1323.000000</td>\n",
       "      <td>1310.000000</td>\n",
       "      <td>42.000000</td>\n",
       "      <td>5.000000</td>\n",
       "      <td>4.000000</td>\n",
       "      <td>3.000000</td>\n",
       "      <td>4.000000</td>\n",
       "      <td>0.351064</td>\n",
       "      <td>4.000000</td>\n",
       "      <td>1.352023</td>\n",
       "    </tr>\n",
       "    <tr>\n",
       "      <th>max</th>\n",
       "      <td>383.000000</td>\n",
       "      <td>452.000000</td>\n",
       "      <td>26.000000</td>\n",
       "      <td>383.000000</td>\n",
       "      <td>452.000000</td>\n",
       "      <td>26.000000</td>\n",
       "      <td>24.000000</td>\n",
       "      <td>31.000000</td>\n",
       "      <td>5.000000</td>\n",
       "      <td>2010.0</td>\n",
       "      <td>...</td>\n",
       "      <td>1325.000000</td>\n",
       "      <td>1324.000000</td>\n",
       "      <td>59.000000</td>\n",
       "      <td>6.000000</td>\n",
       "      <td>5.000000</td>\n",
       "      <td>9.000000</td>\n",
       "      <td>99.000000</td>\n",
       "      <td>3.927283</td>\n",
       "      <td>5.000000</td>\n",
       "      <td>9.054754</td>\n",
       "    </tr>\n",
       "  </tbody>\n",
       "</table>\n",
       "<p>8 rows × 209 columns</p>\n",
       "</div>"
      ],
      "text/plain": [
       "                HH1           HH2            LN           UF1           UF2  \\\n",
       "count  11245.000000  11245.000000  11245.000000  11245.000000  11245.000000   \n",
       "mean     197.041974    100.002045      5.942374    197.041974    100.002045   \n",
       "std      109.647359     85.478026      2.522024    109.647359     85.478026   \n",
       "min        1.000000      1.000000      2.000000      1.000000      1.000000   \n",
       "25%      100.000000     29.000000      4.000000    100.000000     29.000000   \n",
       "50%      200.000000     74.000000      6.000000    200.000000     74.000000   \n",
       "75%      291.000000    156.000000      7.000000    291.000000    156.000000   \n",
       "max      383.000000    452.000000     26.000000    383.000000    452.000000   \n",
       "\n",
       "                UF4           UF6          UF8D          UF8M     UF8Y  \\\n",
       "count  11245.000000  11245.000000  11245.000000  11245.000000  11245.0   \n",
       "mean       5.942374      2.312672     15.582214      2.739707   2010.0   \n",
       "std        2.522024      1.465379      8.257028      0.588422      0.0   \n",
       "min        2.000000      1.000000      1.000000      2.000000   2010.0   \n",
       "25%        4.000000      2.000000      9.000000      2.000000   2010.0   \n",
       "50%        6.000000      2.000000     16.000000      3.000000   2010.0   \n",
       "75%        7.000000      2.000000     22.000000      3.000000   2010.0   \n",
       "max       26.000000     24.000000     31.000000      5.000000   2010.0   \n",
       "\n",
       "           ...               CDOI          CDOB          CAGE        CAGE_6  \\\n",
       "count      ...       11245.000000  11093.000000  11093.000000  11093.000000   \n",
       "mean       ...        1322.739707   1294.745695     27.550798      3.744704   \n",
       "std        ...           0.588422     16.870120     16.881971      1.572419   \n",
       "min        ...        1322.000000   1263.000000      0.000000      1.000000   \n",
       "25%        ...        1322.000000   1280.000000     13.000000      3.000000   \n",
       "50%        ...        1323.000000   1296.000000     27.000000      4.000000   \n",
       "75%        ...        1323.000000   1310.000000     42.000000      5.000000   \n",
       "max        ...        1325.000000   1324.000000     59.000000      6.000000   \n",
       "\n",
       "            CAGE_11       melevel      religion        wscore       windex5  \\\n",
       "count  11093.000000  11245.000000  11245.000000  11245.000000  11245.000000   \n",
       "mean       2.859281      2.136950      9.059315      0.037520      2.992708   \n",
       "std        1.394613      0.768528     24.119801      0.943380      1.427216   \n",
       "min        1.000000      1.000000      1.000000     -0.850643      0.000000   \n",
       "25%        2.000000      2.000000      1.000000     -0.632641      2.000000   \n",
       "50%        3.000000      2.000000      2.000000     -0.358324      3.000000   \n",
       "75%        4.000000      3.000000      4.000000      0.351064      4.000000   \n",
       "max        5.000000      9.000000     99.000000      3.927283      5.000000   \n",
       "\n",
       "           chweight  \n",
       "count  11245.000000  \n",
       "mean       0.986483  \n",
       "std        0.816790  \n",
       "min        0.000000  \n",
       "25%        0.441745  \n",
       "50%        0.917851  \n",
       "75%        1.352023  \n",
       "max        9.054754  \n",
       "\n",
       "[8 rows x 209 columns]"
      ]
     },
     "execution_count": 26,
     "metadata": {},
     "output_type": "execute_result"
    }
   ],
   "source": [
    "df.describe()"
   ]
  },
  {
   "cell_type": "code",
   "execution_count": 7,
   "metadata": {},
   "outputs": [
    {
     "data": {
      "text/plain": [
       "{dtype('int64'): Index(['HH1', 'HH2', 'LN', 'UF1', 'UF2', 'UF4', 'UF6', 'UF8D', 'UF8M', 'UF8Y',\n",
       "        'UF9', 'UF11', 'HH6', 'HH7', 'HL4', 'PSU', 'stratum', 'CDOI', 'melevel',\n",
       "        'religion', 'windex5'],\n",
       "       dtype='object'),\n",
       " dtype('float64'): Index(['UF12H', 'UF12M', 'UF13H', 'UF13M', 'AG1D', 'AG1M', 'AG1Y', 'AG2',\n",
       "        'BR1', 'BR1AD',\n",
       "        ...\n",
       "        'TN12_4', 'TN12A', 'ED4A', 'ED4B', 'CDOB', 'CAGE', 'CAGE_6', 'CAGE_11',\n",
       "        'wscore', 'chweight'],\n",
       "       dtype='object', length=188),\n",
       " dtype('O'): Index(['UF7', 'UF10', 'EC7AA', 'EC7AB', 'EC7AX', 'EC7AY', 'EC7BA', 'EC7BB',\n",
       "        'EC7BX', 'EC7BY', 'EC7CA', 'EC7CB', 'EC7CX', 'EC7CY', 'EC7DA', 'EC7DB',\n",
       "        'EC7DX', 'EC7DY', 'EC7EA', 'EC7EB', 'EC7EX', 'EC7EY', 'EC7FA', 'EC7FB',\n",
       "        'EC7FX', 'EC7FY', 'CA6A', 'CA6B', 'CA6C', 'CA6G', 'CA6H', 'CA6L',\n",
       "        'CA6M', 'CA6N', 'CA6O', 'CA6Q', 'CA6X', 'CA11A', 'CA11B', 'CA11C',\n",
       "        'CA11D', 'CA11H', 'CA11I', 'CA11J', 'CA11K', 'CA11L', 'CA11O', 'CA11P',\n",
       "        'CA11Q', 'CA11R', 'CA11S', 'CA11X', 'CA13A', 'CA13B', 'CA13M', 'CA13P',\n",
       "        'CA13Q', 'CA13R', 'CA13X', 'CA13Z', 'ML6A', 'ML6B', 'ML6C', 'ML6D',\n",
       "        'ML6E', 'ML6F', 'ML6H', 'ML6I', 'ML6J', 'ML6P', 'ML6Q', 'ML6R', 'ML6X',\n",
       "        'ML6Z', 'ML9A', 'ML9B', 'ML9C', 'ML9D', 'ML9E', 'ML9F', 'ML9H', 'ML9I',\n",
       "        'ML9J', 'ML9P', 'ML9Q', 'ML9R', 'ML9X', 'ML9Z', 'AN1'],\n",
       "       dtype='object')}"
      ]
     },
     "execution_count": 7,
     "metadata": {},
     "output_type": "execute_result"
    }
   ],
   "source": [
    "#Convert column with mixed types to object type.\n",
    "\n",
    "df.iloc[:,[107,116,118,121,122,123,125,128,130,138,153,158,167,168,169]] = df.iloc[:,[107,116,118,121,122,123,125,128,130,138,153,158,167,168,169]].astype(object)\n",
    "g = df.columns.to_series().groupby(df.dtypes).groups\n",
    "g"
   ]
  },
  {
   "cell_type": "code",
   "execution_count": 28,
   "metadata": {
    "collapsed": true
   },
   "outputs": [],
   "source": [
    "# Remove all columns which do not predict vaccination coverage (Serial numbers, IDs, etc)\n",
    "\n",
    "df = df.loc[:, ~df.columns.str.startswith('UF')]\n",
    "df = df.loc[:, ~df.columns.str.startswith('HH')]\n",
    "df = df.loc[:, ~df.columns.str.startswith('LN')]\n",
    "df.drop('AN1', axis=1, inplace=True)"
   ]
  },
  {
   "cell_type": "code",
   "execution_count": 4,
   "metadata": {
    "collapsed": true
   },
   "outputs": [],
   "source": [
    "#Set the target to column IM6 - Child ever received any vaccinations\n",
    "#Seperate the target column from the df.\n",
    "\n",
    "target = df['IM6']\n",
    "df.drop('IM6', axis=1, inplace=True)"
   ]
  },
  {
   "cell_type": "code",
   "execution_count": 30,
   "metadata": {
    "collapsed": true
   },
   "outputs": [],
   "source": [
    "#Remove all columns from df which are related to immunization coverage\n",
    "#since all of them are response variables\n",
    "\n",
    "df = df.loc[:, ~df.columns.str.startswith('IM')]"
   ]
  },
  {
   "cell_type": "code",
   "execution_count": 31,
   "metadata": {},
   "outputs": [
    {
     "data": {
      "text/html": [
       "<div>\n",
       "<style>\n",
       "    .dataframe thead tr:only-child th {\n",
       "        text-align: right;\n",
       "    }\n",
       "\n",
       "    .dataframe thead th {\n",
       "        text-align: left;\n",
       "    }\n",
       "\n",
       "    .dataframe tbody tr th {\n",
       "        vertical-align: top;\n",
       "    }\n",
       "</style>\n",
       "<table border=\"1\" class=\"dataframe\">\n",
       "  <thead>\n",
       "    <tr style=\"text-align: right;\">\n",
       "      <th></th>\n",
       "      <th>AG1D</th>\n",
       "      <th>AG1M</th>\n",
       "      <th>AG1Y</th>\n",
       "      <th>AG2</th>\n",
       "      <th>BR1</th>\n",
       "      <th>BR1AD</th>\n",
       "      <th>BR1AM</th>\n",
       "      <th>BR1AY</th>\n",
       "      <th>BR2</th>\n",
       "      <th>BR2A</th>\n",
       "      <th>...</th>\n",
       "      <th>ML9P_?</th>\n",
       "      <th>ML9P_P</th>\n",
       "      <th>ML9Q_?</th>\n",
       "      <th>ML9Q_Q</th>\n",
       "      <th>ML9R_?</th>\n",
       "      <th>ML9R_R</th>\n",
       "      <th>ML9X_?</th>\n",
       "      <th>ML9X_X</th>\n",
       "      <th>ML9Z_?</th>\n",
       "      <th>ML9Z_Z</th>\n",
       "    </tr>\n",
       "  </thead>\n",
       "  <tbody>\n",
       "    <tr>\n",
       "      <th>0</th>\n",
       "      <td>NaN</td>\n",
       "      <td>NaN</td>\n",
       "      <td>NaN</td>\n",
       "      <td>NaN</td>\n",
       "      <td>NaN</td>\n",
       "      <td>NaN</td>\n",
       "      <td>NaN</td>\n",
       "      <td>NaN</td>\n",
       "      <td>NaN</td>\n",
       "      <td>NaN</td>\n",
       "      <td>...</td>\n",
       "      <td>0</td>\n",
       "      <td>0</td>\n",
       "      <td>0</td>\n",
       "      <td>0</td>\n",
       "      <td>0</td>\n",
       "      <td>0</td>\n",
       "      <td>0</td>\n",
       "      <td>0</td>\n",
       "      <td>0</td>\n",
       "      <td>0</td>\n",
       "    </tr>\n",
       "    <tr>\n",
       "      <th>1</th>\n",
       "      <td>NaN</td>\n",
       "      <td>NaN</td>\n",
       "      <td>NaN</td>\n",
       "      <td>NaN</td>\n",
       "      <td>NaN</td>\n",
       "      <td>NaN</td>\n",
       "      <td>NaN</td>\n",
       "      <td>NaN</td>\n",
       "      <td>NaN</td>\n",
       "      <td>NaN</td>\n",
       "      <td>...</td>\n",
       "      <td>0</td>\n",
       "      <td>0</td>\n",
       "      <td>0</td>\n",
       "      <td>0</td>\n",
       "      <td>0</td>\n",
       "      <td>0</td>\n",
       "      <td>0</td>\n",
       "      <td>0</td>\n",
       "      <td>0</td>\n",
       "      <td>0</td>\n",
       "    </tr>\n",
       "    <tr>\n",
       "      <th>2</th>\n",
       "      <td>4.0</td>\n",
       "      <td>1.0</td>\n",
       "      <td>2006.0</td>\n",
       "      <td>4.0</td>\n",
       "      <td>3.0</td>\n",
       "      <td>NaN</td>\n",
       "      <td>NaN</td>\n",
       "      <td>NaN</td>\n",
       "      <td>2.0</td>\n",
       "      <td>NaN</td>\n",
       "      <td>...</td>\n",
       "      <td>0</td>\n",
       "      <td>0</td>\n",
       "      <td>0</td>\n",
       "      <td>0</td>\n",
       "      <td>0</td>\n",
       "      <td>0</td>\n",
       "      <td>0</td>\n",
       "      <td>0</td>\n",
       "      <td>0</td>\n",
       "      <td>0</td>\n",
       "    </tr>\n",
       "    <tr>\n",
       "      <th>3</th>\n",
       "      <td>6.0</td>\n",
       "      <td>5.0</td>\n",
       "      <td>2008.0</td>\n",
       "      <td>1.0</td>\n",
       "      <td>3.0</td>\n",
       "      <td>NaN</td>\n",
       "      <td>NaN</td>\n",
       "      <td>NaN</td>\n",
       "      <td>2.0</td>\n",
       "      <td>NaN</td>\n",
       "      <td>...</td>\n",
       "      <td>0</td>\n",
       "      <td>0</td>\n",
       "      <td>0</td>\n",
       "      <td>1</td>\n",
       "      <td>0</td>\n",
       "      <td>0</td>\n",
       "      <td>0</td>\n",
       "      <td>0</td>\n",
       "      <td>0</td>\n",
       "      <td>0</td>\n",
       "    </tr>\n",
       "    <tr>\n",
       "      <th>4</th>\n",
       "      <td>4.0</td>\n",
       "      <td>9.0</td>\n",
       "      <td>2009.0</td>\n",
       "      <td>0.0</td>\n",
       "      <td>3.0</td>\n",
       "      <td>NaN</td>\n",
       "      <td>NaN</td>\n",
       "      <td>NaN</td>\n",
       "      <td>2.0</td>\n",
       "      <td>NaN</td>\n",
       "      <td>...</td>\n",
       "      <td>0</td>\n",
       "      <td>0</td>\n",
       "      <td>0</td>\n",
       "      <td>0</td>\n",
       "      <td>0</td>\n",
       "      <td>0</td>\n",
       "      <td>0</td>\n",
       "      <td>0</td>\n",
       "      <td>0</td>\n",
       "      <td>0</td>\n",
       "    </tr>\n",
       "  </tbody>\n",
       "</table>\n",
       "<p>5 rows × 264 columns</p>\n",
       "</div>"
      ],
      "text/plain": [
       "   AG1D  AG1M    AG1Y  AG2  BR1  BR1AD  BR1AM  BR1AY  BR2  BR2A   ...    \\\n",
       "0   NaN   NaN     NaN  NaN  NaN    NaN    NaN    NaN  NaN   NaN   ...     \n",
       "1   NaN   NaN     NaN  NaN  NaN    NaN    NaN    NaN  NaN   NaN   ...     \n",
       "2   4.0   1.0  2006.0  4.0  3.0    NaN    NaN    NaN  2.0   NaN   ...     \n",
       "3   6.0   5.0  2008.0  1.0  3.0    NaN    NaN    NaN  2.0   NaN   ...     \n",
       "4   4.0   9.0  2009.0  0.0  3.0    NaN    NaN    NaN  2.0   NaN   ...     \n",
       "\n",
       "   ML9P_?  ML9P_P  ML9Q_?  ML9Q_Q  ML9R_?  ML9R_R  ML9X_?  ML9X_X  ML9Z_?  \\\n",
       "0       0       0       0       0       0       0       0       0       0   \n",
       "1       0       0       0       0       0       0       0       0       0   \n",
       "2       0       0       0       0       0       0       0       0       0   \n",
       "3       0       0       0       1       0       0       0       0       0   \n",
       "4       0       0       0       0       0       0       0       0       0   \n",
       "\n",
       "   ML9Z_Z  \n",
       "0       0  \n",
       "1       0  \n",
       "2       0  \n",
       "3       0  \n",
       "4       0  \n",
       "\n",
       "[5 rows x 264 columns]"
      ]
     },
     "execution_count": 31,
     "metadata": {},
     "output_type": "execute_result"
    }
   ],
   "source": [
    "#One hot encoding of categorical values using get_dummies function\n",
    "\n",
    "dummies = pd.get_dummies(df)\n",
    "dummies.head()"
   ]
  },
  {
   "cell_type": "code",
   "execution_count": 32,
   "metadata": {
    "collapsed": true
   },
   "outputs": [],
   "source": [
    "#Replace NaN with 0\n",
    "\n",
    "dummies = dummies.fillna(0)"
   ]
  },
  {
   "cell_type": "code",
   "execution_count": 33,
   "metadata": {},
   "outputs": [
    {
     "data": {
      "text/plain": [
       "array([nan,  1.,  8.,  2.,  9.])"
      ]
     },
     "execution_count": 33,
     "metadata": {},
     "output_type": "execute_result"
    }
   ],
   "source": [
    "target.unique()"
   ]
  },
  {
   "cell_type": "markdown",
   "metadata": {},
   "source": [
    "1\tYes\t    - 6021   \n",
    "2\tNo\t    - 1279  \n",
    "8\tDK\t    - 102\t  \n",
    "9\tMissing - 3"
   ]
  },
  {
   "cell_type": "code",
   "execution_count": 34,
   "metadata": {
    "collapsed": true
   },
   "outputs": [],
   "source": [
    "#Creating a column for the target variable\n",
    "\n",
    "dummies['vaccine'] = target"
   ]
  },
  {
   "cell_type": "code",
   "execution_count": 35,
   "metadata": {
    "collapsed": true
   },
   "outputs": [],
   "source": [
    "#Creating a binary variable since by coding Yes to 1 and any other response as 0.\n",
    "\n",
    "dummies['has_been_vaccinated'] = dummies.vaccine.apply(lambda x: 1 if x == 1 else 0)\n",
    "dummies.drop('vaccine', axis=1, inplace=True)\n",
    "y=['has_been_vaccinated']\n",
    "dummy_vars =dummies.columns.values.tolist()\n",
    "X=[i for i in dummy_vars if i not in y]"
   ]
  },
  {
   "cell_type": "code",
   "execution_count": 36,
   "metadata": {},
   "outputs": [
    {
     "name": "stdout",
     "output_type": "stream",
     "text": [
      "[False False False False False False False False False False False False\n",
      " False False False False False False False False False False False False\n",
      "  True False False False False False False False False False False False\n",
      " False False False False False False False False False False False False\n",
      " False False False False False False False  True  True False False False\n",
      " False False False False False False False False False False False False\n",
      " False False False False False False False False False False False False\n",
      " False False False False False False False False False False  True False\n",
      "  True False  True False False False False False False False False False\n",
      " False False False False False False False False False False False False\n",
      " False False  True False False False False False False  True  True  True\n",
      "  True  True False  True False False False False False False False False\n",
      " False False False False False False False False False False False False\n",
      " False False False False False False False False False False  True False\n",
      " False False False False False False  True False False  True False  True\n",
      "  True False  True False False  True False  True False False  True False\n",
      " False False False False False False False False False  True  True False\n",
      "  True False  True  True False False  True  True  True False False False\n",
      "  True False False False False False False  True  True False  True  True\n",
      "  True False False False False False False False False  True False  True\n",
      "  True False False False  True  True  True False  True  True  True False\n",
      "  True  True False False  True False  True  True False False False False] [170 168  79 173 115  91  92 200  89  88 192 141  58  75 162  69 138 147\n",
      "  35 146  59 135 128  30   1 133  29  37 184  95 204 189 103  62  14 119\n",
      " 153 148  80 143  27 104  63 155  55 144 212 166  84 105 142 188  87 120\n",
      " 194   1   1   9  43  72 208  99 125 215  42 186 207  70 206  85 121  50\n",
      "  54 182  74 152 167 159 134 211 154 158 177 111 157 176 114 213  67 172\n",
      " 199 209 178 179   1  66   1  76   1  53 130 171 131 214 185  82  68 118\n",
      " 201 161 196 197 198  49 174 156 160 203 164 165  78  77   1   7  38 191\n",
      " 205 163 109   1   1   1   1   1 137   1 136  36  32  61  34  65  28  71\n",
      "  33 116  94 107  81 112 124 106  51 181   6 180  46 108 183 175 195 129\n",
      " 122 102  90 113   1 117 150 110 140 126  47 127   1 123  48   1   3   1\n",
      "   1   4   1  24   2   1   5   1  44  16   1  39  13  17   8  31 132  25\n",
      "  26  15  41   1   1 169   1  86   1   1  40  73   1   1   1  18 193  10\n",
      "   1 149  45 145  23 190  11   1   1 210   1   1   1  21  19  22  20  83\n",
      "  60 139 100   1  93   1   1  57  97  12   1   1   1  52   1   1   1 202\n",
      "   1   1  96 187   1  64   1   1  98  56 101 151]\n"
     ]
    }
   ],
   "source": [
    "#Using a combination of Recursive Feature Selection and Logistic regression\n",
    "#to select the top 25 features that can predict has_been_vaccinated variable\n",
    "\n",
    "logreg = LogisticRegression()\n",
    "rfe = RFE(logreg,n_features_to_select= 50)\n",
    "rfe = rfe.fit(dummies[X],dummies[y].values.ravel())\n",
    "print(rfe.support_,rfe.ranking_)"
   ]
  },
  {
   "cell_type": "code",
   "execution_count": 37,
   "metadata": {
    "scrolled": false
   },
   "outputs": [
    {
     "name": "stdout",
     "output_type": "stream",
     "text": [
      "24 EC12\n",
      "55 CA4A\n",
      "56 CA4B\n",
      "94 HAZFLAG\n",
      "96 WHZFLAG\n",
      "98 WHZNOAGE\n",
      "122 CAGE_6\n",
      "129 EC7AA_?\n",
      "130 EC7AA_A\n",
      "131 EC7AB_?\n",
      "132 EC7AB_B\n",
      "133 EC7AX_?\n",
      "135 EC7AY_?\n",
      "166 EC7EX_X\n",
      "174 EC7FX_X\n",
      "177 CA6A_?\n",
      "179 CA6B_?\n",
      "180 CA6B_B\n",
      "182 CA6C_C\n",
      "185 CA6H_?\n",
      "187 CA6L_?\n",
      "190 CA6M_M\n",
      "201 CA11C_C\n",
      "202 CA11D_D\n",
      "204 CA11I_I\n",
      "206 CA11K_K\n",
      "207 CA11L_L\n",
      "210 CA11Q_Q\n",
      "211 CA11R_R\n",
      "212 CA11S_S\n",
      "216 CA13M_M\n",
      "223 ML6B_B\n",
      "224 ML6C_C\n",
      "226 ML6E_E\n",
      "227 ML6F_F\n",
      "228 ML6H_H\n",
      "237 ML9A_A\n",
      "239 ML9B_B\n",
      "240 ML9C_?\n",
      "244 ML9E_?\n",
      "245 ML9E_E\n",
      "246 ML9F_?\n",
      "248 ML9H_?\n",
      "249 ML9H_H\n",
      "250 ML9I_?\n",
      "252 ML9J_?\n",
      "253 ML9J_J\n",
      "256 ML9Q_?\n",
      "258 ML9R_?\n",
      "259 ML9R_R\n"
     ]
    }
   ],
   "source": [
    "#Display column name and numbers of the top 25 features from the model.\n",
    "\n",
    "cols = []\n",
    "for i in range(len(rfe.ranking_)):\n",
    "    if rfe.ranking_[i] == 1:\n",
    "        print(i,dummies.columns[i])   \n",
    "        cols.append(dummies.columns[i])"
   ]
  },
  {
   "cell_type": "code",
   "execution_count": 38,
   "metadata": {
    "collapsed": true
   },
   "outputs": [],
   "source": [
    "X=dummies[cols]\n",
    "y=dummies['has_been_vaccinated']"
   ]
  },
  {
   "cell_type": "code",
   "execution_count": null,
   "metadata": {
    "collapsed": true
   },
   "outputs": [],
   "source": [
    "df = df.fillna(0)\n",
    "df['vaccine'] = target\n"
   ]
  },
  {
   "cell_type": "code",
   "execution_count": 39,
   "metadata": {
    "collapsed": true
   },
   "outputs": [],
   "source": [
    "#Using LogisticRegression model to check for the significance of every feature.\n",
    "\n",
    "model = LogisticRegression()\n",
    "model = model.fit(X, y)"
   ]
  },
  {
   "cell_type": "code",
   "execution_count": 40,
   "metadata": {
    "collapsed": true
   },
   "outputs": [],
   "source": [
    "coef = model.coef_.tolist()"
   ]
  },
  {
   "cell_type": "code",
   "execution_count": 41,
   "metadata": {},
   "outputs": [
    {
     "name": "stdout",
     "output_type": "stream",
     "text": [
      "-0.19847948992801703 EC12\n",
      "0.2509147217493737 CA4A\n",
      "-0.20439269621627754 CA4B\n",
      "0.2727965157625727 HAZFLAG\n",
      "-0.22259607279368082 WHZFLAG\n",
      "-0.6650140996442923 WHZNOAGE\n",
      "0.5202923413951608 CAGE_6\n",
      "0.28190777065957695 EC7AA_?\n",
      "0.6189345719157524 EC7AA_A\n",
      "0.28190777065957695 EC7AB_?\n",
      "-0.5479293452882388 EC7AB_B\n",
      "0.28190777065957695 EC7AX_?\n",
      "0.28190777065957695 EC7AY_?\n",
      "-0.2810190614349263 EC7EX_X\n",
      "0.24365226050899438 EC7FX_X\n",
      "0.2118717046380473 CA6A_?\n",
      "0.2118717046380473 CA6B_?\n",
      "0.31574561157894787 CA6B_B\n",
      "-0.44413466062655915 CA6C_C\n",
      "0.2118717046380473 CA6H_?\n",
      "0.2118717046380473 CA6L_?\n",
      "0.7100974715702854 CA6M_M\n",
      "0.3433085279866713 CA11C_C\n",
      "-0.668354651827194 CA11D_D\n",
      "-0.426897329207537 CA11I_I\n",
      "-0.30208469609884575 CA11K_K\n",
      "-0.4811358118489807 CA11L_L\n",
      "0.5496847051888992 CA11Q_Q\n",
      "0.4376324088470946 CA11R_R\n",
      "-0.5223630534849342 CA11S_S\n",
      "0.2597039199119924 CA13M_M\n",
      "0.29135539880206707 ML6B_B\n",
      "-0.20180240433446817 ML6C_C\n",
      "0.26891471805420053 ML6E_E\n",
      "-0.5399992956648323 ML6F_F\n",
      "-0.3459945333564058 ML6H_H\n",
      "0.26769181791368224 ML9A_A\n",
      "0.4287207910418813 ML9B_B\n",
      "0.19753328468292794 ML9C_?\n",
      "0.19753328468292794 ML9E_?\n",
      "-0.6051149185367608 ML9E_E\n",
      "0.19753328468292794 ML9F_?\n",
      "0.19753328468292794 ML9H_?\n",
      "-0.30788857480100795 ML9H_H\n",
      "0.19753328468292794 ML9I_?\n",
      "0.19753328468292794 ML9J_?\n",
      "0.7028505774842001 ML9J_J\n",
      "0.19753328468292794 ML9Q_?\n",
      "0.19753328468292794 ML9R_?\n",
      "-0.4455998925969615 ML9R_R\n"
     ]
    }
   ],
   "source": [
    "for i in range(len(cols)):\n",
    "    print (coef[0][i],cols[i])"
   ]
  },
  {
   "cell_type": "code",
   "execution_count": 42,
   "metadata": {},
   "outputs": [
    {
     "data": {
      "text/plain": [
       "LogisticRegression(C=1.0, class_weight=None, dual=False, fit_intercept=True,\n",
       "          intercept_scaling=1, max_iter=100, multi_class='ovr', n_jobs=1,\n",
       "          penalty='l2', random_state=None, solver='liblinear', tol=0.0001,\n",
       "          verbose=0, warm_start=False)"
      ]
     },
     "execution_count": 42,
     "metadata": {},
     "output_type": "execute_result"
    }
   ],
   "source": [
    "#Traing the logistic regression model\n",
    "\n",
    "X_train, X_test, y_train, y_test = train_test_split(X,y, test_size=0.3, random_state=0)\n",
    "logreg = LogisticRegression()\n",
    "logreg.fit(X_train, y_train)"
   ]
  },
  {
   "cell_type": "code",
   "execution_count": 43,
   "metadata": {},
   "outputs": [
    {
     "name": "stdout",
     "output_type": "stream",
     "text": [
      "Accuracy of logistic regression classifier on test set: 0.65\n"
     ]
    }
   ],
   "source": [
    "y_pred = logreg.predict(X_test)\n",
    "print('Accuracy of logistic regression classifier on test set: {:.2f}'.format(logreg.score(X_test, y_test)))"
   ]
  },
  {
   "cell_type": "code",
   "execution_count": 44,
   "metadata": {},
   "outputs": [
    {
     "name": "stdout",
     "output_type": "stream",
     "text": [
      "10-fold cross validation average accuracy: 0.635\n"
     ]
    }
   ],
   "source": [
    "#Cross validation to verify the model accuracy\n",
    "\n",
    "from sklearn import model_selection\n",
    "from sklearn.model_selection import cross_val_score\n",
    "kfold = model_selection.KFold(n_splits=10, random_state=7)\n",
    "modelCV = LogisticRegression()\n",
    "scoring = 'accuracy'\n",
    "results = model_selection.cross_val_score(modelCV, X_train, y_train, cv=kfold, scoring=scoring)\n",
    "print(\"10-fold cross validation average accuracy: %.3f\" % (results.mean()))"
   ]
  },
  {
   "cell_type": "code",
   "execution_count": 45,
   "metadata": {},
   "outputs": [
    {
     "name": "stdout",
     "output_type": "stream",
     "text": [
      "[[ 859  676]\n",
      " [ 496 1343]]\n"
     ]
    }
   ],
   "source": [
    "#Confusion matrix for the predictions\n",
    "\n",
    "from sklearn.metrics import confusion_matrix\n",
    "confusion_matrix = confusion_matrix(y_test, y_pred)\n",
    "print(confusion_matrix)"
   ]
  },
  {
   "cell_type": "code",
   "execution_count": 46,
   "metadata": {},
   "outputs": [
    {
     "name": "stdout",
     "output_type": "stream",
     "text": [
      "             precision    recall  f1-score   support\n",
      "\n",
      "          0       0.63      0.56      0.59      1535\n",
      "          1       0.67      0.73      0.70      1839\n",
      "\n",
      "avg / total       0.65      0.65      0.65      3374\n",
      "\n"
     ]
    }
   ],
   "source": [
    "#Overall classification report\n",
    "\n",
    "from sklearn.metrics import classification_report\n",
    "print(classification_report(y_test, y_pred))"
   ]
  }
 ],
 "metadata": {
  "kernelspec": {
   "display_name": "Python 3",
   "language": "python",
   "name": "python3"
  },
  "language_info": {
   "codemirror_mode": {
    "name": "ipython",
    "version": 3
   },
   "file_extension": ".py",
   "mimetype": "text/x-python",
   "name": "python",
   "nbconvert_exporter": "python",
   "pygments_lexer": "ipython3",
   "version": "3.6.3"
  }
 },
 "nbformat": 4,
 "nbformat_minor": 2
}
