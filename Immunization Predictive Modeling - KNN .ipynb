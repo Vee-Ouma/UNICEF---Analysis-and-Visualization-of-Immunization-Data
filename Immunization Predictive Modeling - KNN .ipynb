{
 "cells": [
  {
   "cell_type": "code",
   "execution_count": 2,
   "metadata": {
    "collapsed": true
   },
   "outputs": [],
   "source": [
    "import pandas as pd\n",
    "import numpy as np\n",
    "import matplotlib.pyplot as plt\n",
    "from sklearn.feature_selection import RFE\n",
    "from sklearn.linear_model import LogisticRegression\n",
    "from sklearn import metrics\n",
    "from sklearn.model_selection import train_test_split\n",
    "from sklearn.linear_model import LogisticRegression\n",
    "from sklearn.metrics import classification_report\n",
    "from sklearn.neighbors import KNeighborsClassifier\n",
    "from sklearn.model_selection import cross_val_score\n",
    "from sklearn.decomposition import PCA\n",
    "from  sklearn.preprocessing import  StandardScaler\n",
    "from sklearn import svm\n"
   ]
  },
  {
   "cell_type": "markdown",
   "metadata": {},
   "source": [
    "Content\tData collected at the children's level (MICS Under Five Children's questionnaire modules: Under-five child information panel, Child's age, Birth registration, Early childhood development, Breastfeeding , Care of illness, Immunization, Under-five child selected for blood test.)\n",
    "\n",
    "Dataset produced by UNICEF and Central Statistics Organization"
   ]
  },
  {
   "cell_type": "code",
   "execution_count": 2,
   "metadata": {
    "collapsed": true
   },
   "outputs": [],
   "source": [
    "#importing ch.csv which was converted from .sav format in R. Check get_Congo_to_csv.R file\n",
    "#Set low_memory = False to avoid the warning about column numbers having mixed type values.\n",
    "## 107,116,118,121,122,123,125,128,130,138,153,158,167,168,169\n",
    "\n",
    "df = pd.read_csv('ch.csv', low_memory = False)"
   ]
  },
  {
   "cell_type": "code",
   "execution_count": 3,
   "metadata": {},
   "outputs": [
    {
     "data": {
      "text/html": [
       "<div>\n",
       "<style>\n",
       "    .dataframe thead tr:only-child th {\n",
       "        text-align: right;\n",
       "    }\n",
       "\n",
       "    .dataframe thead th {\n",
       "        text-align: left;\n",
       "    }\n",
       "\n",
       "    .dataframe tbody tr th {\n",
       "        vertical-align: top;\n",
       "    }\n",
       "</style>\n",
       "<table border=\"1\" class=\"dataframe\">\n",
       "  <thead>\n",
       "    <tr style=\"text-align: right;\">\n",
       "      <th></th>\n",
       "      <th>HH1</th>\n",
       "      <th>HH2</th>\n",
       "      <th>LN</th>\n",
       "      <th>UF1</th>\n",
       "      <th>UF2</th>\n",
       "      <th>UF4</th>\n",
       "      <th>UF6</th>\n",
       "      <th>UF8D</th>\n",
       "      <th>UF8M</th>\n",
       "      <th>UF8Y</th>\n",
       "      <th>...</th>\n",
       "      <th>CDOI</th>\n",
       "      <th>CDOB</th>\n",
       "      <th>CAGE</th>\n",
       "      <th>CAGE_6</th>\n",
       "      <th>CAGE_11</th>\n",
       "      <th>melevel</th>\n",
       "      <th>religion</th>\n",
       "      <th>wscore</th>\n",
       "      <th>windex5</th>\n",
       "      <th>chweight</th>\n",
       "    </tr>\n",
       "  </thead>\n",
       "  <tbody>\n",
       "    <tr>\n",
       "      <th>count</th>\n",
       "      <td>11245.000000</td>\n",
       "      <td>11245.000000</td>\n",
       "      <td>11245.000000</td>\n",
       "      <td>11245.000000</td>\n",
       "      <td>11245.000000</td>\n",
       "      <td>11245.000000</td>\n",
       "      <td>11245.000000</td>\n",
       "      <td>11245.000000</td>\n",
       "      <td>11245.000000</td>\n",
       "      <td>11245.0</td>\n",
       "      <td>...</td>\n",
       "      <td>11245.000000</td>\n",
       "      <td>11093.000000</td>\n",
       "      <td>11093.000000</td>\n",
       "      <td>11093.000000</td>\n",
       "      <td>11093.000000</td>\n",
       "      <td>11245.000000</td>\n",
       "      <td>11245.000000</td>\n",
       "      <td>11245.000000</td>\n",
       "      <td>11245.000000</td>\n",
       "      <td>11245.000000</td>\n",
       "    </tr>\n",
       "    <tr>\n",
       "      <th>mean</th>\n",
       "      <td>197.041974</td>\n",
       "      <td>100.002045</td>\n",
       "      <td>5.942374</td>\n",
       "      <td>197.041974</td>\n",
       "      <td>100.002045</td>\n",
       "      <td>5.942374</td>\n",
       "      <td>2.312672</td>\n",
       "      <td>15.582214</td>\n",
       "      <td>2.739707</td>\n",
       "      <td>2010.0</td>\n",
       "      <td>...</td>\n",
       "      <td>1322.739707</td>\n",
       "      <td>1294.745695</td>\n",
       "      <td>27.550798</td>\n",
       "      <td>3.744704</td>\n",
       "      <td>2.859281</td>\n",
       "      <td>2.136950</td>\n",
       "      <td>9.059315</td>\n",
       "      <td>0.037520</td>\n",
       "      <td>2.992708</td>\n",
       "      <td>0.986483</td>\n",
       "    </tr>\n",
       "    <tr>\n",
       "      <th>std</th>\n",
       "      <td>109.647359</td>\n",
       "      <td>85.478026</td>\n",
       "      <td>2.522024</td>\n",
       "      <td>109.647359</td>\n",
       "      <td>85.478026</td>\n",
       "      <td>2.522024</td>\n",
       "      <td>1.465379</td>\n",
       "      <td>8.257028</td>\n",
       "      <td>0.588422</td>\n",
       "      <td>0.0</td>\n",
       "      <td>...</td>\n",
       "      <td>0.588422</td>\n",
       "      <td>16.870120</td>\n",
       "      <td>16.881971</td>\n",
       "      <td>1.572419</td>\n",
       "      <td>1.394613</td>\n",
       "      <td>0.768528</td>\n",
       "      <td>24.119801</td>\n",
       "      <td>0.943380</td>\n",
       "      <td>1.427216</td>\n",
       "      <td>0.816790</td>\n",
       "    </tr>\n",
       "    <tr>\n",
       "      <th>min</th>\n",
       "      <td>1.000000</td>\n",
       "      <td>1.000000</td>\n",
       "      <td>2.000000</td>\n",
       "      <td>1.000000</td>\n",
       "      <td>1.000000</td>\n",
       "      <td>2.000000</td>\n",
       "      <td>1.000000</td>\n",
       "      <td>1.000000</td>\n",
       "      <td>2.000000</td>\n",
       "      <td>2010.0</td>\n",
       "      <td>...</td>\n",
       "      <td>1322.000000</td>\n",
       "      <td>1263.000000</td>\n",
       "      <td>0.000000</td>\n",
       "      <td>1.000000</td>\n",
       "      <td>1.000000</td>\n",
       "      <td>1.000000</td>\n",
       "      <td>1.000000</td>\n",
       "      <td>-0.850643</td>\n",
       "      <td>0.000000</td>\n",
       "      <td>0.000000</td>\n",
       "    </tr>\n",
       "    <tr>\n",
       "      <th>25%</th>\n",
       "      <td>100.000000</td>\n",
       "      <td>29.000000</td>\n",
       "      <td>4.000000</td>\n",
       "      <td>100.000000</td>\n",
       "      <td>29.000000</td>\n",
       "      <td>4.000000</td>\n",
       "      <td>2.000000</td>\n",
       "      <td>9.000000</td>\n",
       "      <td>2.000000</td>\n",
       "      <td>2010.0</td>\n",
       "      <td>...</td>\n",
       "      <td>1322.000000</td>\n",
       "      <td>1280.000000</td>\n",
       "      <td>13.000000</td>\n",
       "      <td>3.000000</td>\n",
       "      <td>2.000000</td>\n",
       "      <td>2.000000</td>\n",
       "      <td>1.000000</td>\n",
       "      <td>-0.632641</td>\n",
       "      <td>2.000000</td>\n",
       "      <td>0.441745</td>\n",
       "    </tr>\n",
       "    <tr>\n",
       "      <th>50%</th>\n",
       "      <td>200.000000</td>\n",
       "      <td>74.000000</td>\n",
       "      <td>6.000000</td>\n",
       "      <td>200.000000</td>\n",
       "      <td>74.000000</td>\n",
       "      <td>6.000000</td>\n",
       "      <td>2.000000</td>\n",
       "      <td>16.000000</td>\n",
       "      <td>3.000000</td>\n",
       "      <td>2010.0</td>\n",
       "      <td>...</td>\n",
       "      <td>1323.000000</td>\n",
       "      <td>1296.000000</td>\n",
       "      <td>27.000000</td>\n",
       "      <td>4.000000</td>\n",
       "      <td>3.000000</td>\n",
       "      <td>2.000000</td>\n",
       "      <td>2.000000</td>\n",
       "      <td>-0.358324</td>\n",
       "      <td>3.000000</td>\n",
       "      <td>0.917851</td>\n",
       "    </tr>\n",
       "    <tr>\n",
       "      <th>75%</th>\n",
       "      <td>291.000000</td>\n",
       "      <td>156.000000</td>\n",
       "      <td>7.000000</td>\n",
       "      <td>291.000000</td>\n",
       "      <td>156.000000</td>\n",
       "      <td>7.000000</td>\n",
       "      <td>2.000000</td>\n",
       "      <td>22.000000</td>\n",
       "      <td>3.000000</td>\n",
       "      <td>2010.0</td>\n",
       "      <td>...</td>\n",
       "      <td>1323.000000</td>\n",
       "      <td>1310.000000</td>\n",
       "      <td>42.000000</td>\n",
       "      <td>5.000000</td>\n",
       "      <td>4.000000</td>\n",
       "      <td>3.000000</td>\n",
       "      <td>4.000000</td>\n",
       "      <td>0.351064</td>\n",
       "      <td>4.000000</td>\n",
       "      <td>1.352023</td>\n",
       "    </tr>\n",
       "    <tr>\n",
       "      <th>max</th>\n",
       "      <td>383.000000</td>\n",
       "      <td>452.000000</td>\n",
       "      <td>26.000000</td>\n",
       "      <td>383.000000</td>\n",
       "      <td>452.000000</td>\n",
       "      <td>26.000000</td>\n",
       "      <td>24.000000</td>\n",
       "      <td>31.000000</td>\n",
       "      <td>5.000000</td>\n",
       "      <td>2010.0</td>\n",
       "      <td>...</td>\n",
       "      <td>1325.000000</td>\n",
       "      <td>1324.000000</td>\n",
       "      <td>59.000000</td>\n",
       "      <td>6.000000</td>\n",
       "      <td>5.000000</td>\n",
       "      <td>9.000000</td>\n",
       "      <td>99.000000</td>\n",
       "      <td>3.927283</td>\n",
       "      <td>5.000000</td>\n",
       "      <td>9.054754</td>\n",
       "    </tr>\n",
       "  </tbody>\n",
       "</table>\n",
       "<p>8 rows × 209 columns</p>\n",
       "</div>"
      ],
      "text/plain": [
       "                HH1           HH2            LN           UF1           UF2  \\\n",
       "count  11245.000000  11245.000000  11245.000000  11245.000000  11245.000000   \n",
       "mean     197.041974    100.002045      5.942374    197.041974    100.002045   \n",
       "std      109.647359     85.478026      2.522024    109.647359     85.478026   \n",
       "min        1.000000      1.000000      2.000000      1.000000      1.000000   \n",
       "25%      100.000000     29.000000      4.000000    100.000000     29.000000   \n",
       "50%      200.000000     74.000000      6.000000    200.000000     74.000000   \n",
       "75%      291.000000    156.000000      7.000000    291.000000    156.000000   \n",
       "max      383.000000    452.000000     26.000000    383.000000    452.000000   \n",
       "\n",
       "                UF4           UF6          UF8D          UF8M     UF8Y  \\\n",
       "count  11245.000000  11245.000000  11245.000000  11245.000000  11245.0   \n",
       "mean       5.942374      2.312672     15.582214      2.739707   2010.0   \n",
       "std        2.522024      1.465379      8.257028      0.588422      0.0   \n",
       "min        2.000000      1.000000      1.000000      2.000000   2010.0   \n",
       "25%        4.000000      2.000000      9.000000      2.000000   2010.0   \n",
       "50%        6.000000      2.000000     16.000000      3.000000   2010.0   \n",
       "75%        7.000000      2.000000     22.000000      3.000000   2010.0   \n",
       "max       26.000000     24.000000     31.000000      5.000000   2010.0   \n",
       "\n",
       "           ...               CDOI          CDOB          CAGE        CAGE_6  \\\n",
       "count      ...       11245.000000  11093.000000  11093.000000  11093.000000   \n",
       "mean       ...        1322.739707   1294.745695     27.550798      3.744704   \n",
       "std        ...           0.588422     16.870120     16.881971      1.572419   \n",
       "min        ...        1322.000000   1263.000000      0.000000      1.000000   \n",
       "25%        ...        1322.000000   1280.000000     13.000000      3.000000   \n",
       "50%        ...        1323.000000   1296.000000     27.000000      4.000000   \n",
       "75%        ...        1323.000000   1310.000000     42.000000      5.000000   \n",
       "max        ...        1325.000000   1324.000000     59.000000      6.000000   \n",
       "\n",
       "            CAGE_11       melevel      religion        wscore       windex5  \\\n",
       "count  11093.000000  11245.000000  11245.000000  11245.000000  11245.000000   \n",
       "mean       2.859281      2.136950      9.059315      0.037520      2.992708   \n",
       "std        1.394613      0.768528     24.119801      0.943380      1.427216   \n",
       "min        1.000000      1.000000      1.000000     -0.850643      0.000000   \n",
       "25%        2.000000      2.000000      1.000000     -0.632641      2.000000   \n",
       "50%        3.000000      2.000000      2.000000     -0.358324      3.000000   \n",
       "75%        4.000000      3.000000      4.000000      0.351064      4.000000   \n",
       "max        5.000000      9.000000     99.000000      3.927283      5.000000   \n",
       "\n",
       "           chweight  \n",
       "count  11245.000000  \n",
       "mean       0.986483  \n",
       "std        0.816790  \n",
       "min        0.000000  \n",
       "25%        0.441745  \n",
       "50%        0.917851  \n",
       "75%        1.352023  \n",
       "max        9.054754  \n",
       "\n",
       "[8 rows x 209 columns]"
      ]
     },
     "execution_count": 3,
     "metadata": {},
     "output_type": "execute_result"
    }
   ],
   "source": [
    "df.describe()"
   ]
  },
  {
   "cell_type": "code",
   "execution_count": 4,
   "metadata": {},
   "outputs": [
    {
     "data": {
      "text/plain": [
       "{dtype('int64'): Index(['HH1', 'HH2', 'LN', 'UF1', 'UF2', 'UF4', 'UF6', 'UF8D', 'UF8M', 'UF8Y',\n",
       "        'UF9', 'UF11', 'HH6', 'HH7', 'HL4', 'PSU', 'stratum', 'CDOI', 'melevel',\n",
       "        'religion', 'windex5'],\n",
       "       dtype='object'),\n",
       " dtype('float64'): Index(['UF12H', 'UF12M', 'UF13H', 'UF13M', 'AG1D', 'AG1M', 'AG1Y', 'AG2',\n",
       "        'BR1', 'BR1AD',\n",
       "        ...\n",
       "        'TN12_4', 'TN12A', 'ED4A', 'ED4B', 'CDOB', 'CAGE', 'CAGE_6', 'CAGE_11',\n",
       "        'wscore', 'chweight'],\n",
       "       dtype='object', length=188),\n",
       " dtype('O'): Index(['UF7', 'UF10', 'EC7AA', 'EC7AB', 'EC7AX', 'EC7AY', 'EC7BA', 'EC7BB',\n",
       "        'EC7BX', 'EC7BY', 'EC7CA', 'EC7CB', 'EC7CX', 'EC7CY', 'EC7DA', 'EC7DB',\n",
       "        'EC7DX', 'EC7DY', 'EC7EA', 'EC7EB', 'EC7EX', 'EC7EY', 'EC7FA', 'EC7FB',\n",
       "        'EC7FX', 'EC7FY', 'CA6A', 'CA6B', 'CA6C', 'CA6G', 'CA6H', 'CA6L',\n",
       "        'CA6M', 'CA6N', 'CA6O', 'CA6Q', 'CA6X', 'CA11A', 'CA11B', 'CA11C',\n",
       "        'CA11D', 'CA11H', 'CA11I', 'CA11J', 'CA11K', 'CA11L', 'CA11O', 'CA11P',\n",
       "        'CA11Q', 'CA11R', 'CA11S', 'CA11X', 'CA13A', 'CA13B', 'CA13M', 'CA13P',\n",
       "        'CA13Q', 'CA13R', 'CA13X', 'CA13Z', 'ML6A', 'ML6B', 'ML6C', 'ML6D',\n",
       "        'ML6E', 'ML6F', 'ML6H', 'ML6I', 'ML6J', 'ML6P', 'ML6Q', 'ML6R', 'ML6X',\n",
       "        'ML6Z', 'ML9A', 'ML9B', 'ML9C', 'ML9D', 'ML9E', 'ML9F', 'ML9H', 'ML9I',\n",
       "        'ML9J', 'ML9P', 'ML9Q', 'ML9R', 'ML9X', 'ML9Z', 'AN1'],\n",
       "       dtype='object')}"
      ]
     },
     "execution_count": 4,
     "metadata": {},
     "output_type": "execute_result"
    }
   ],
   "source": [
    "#Convert column with mixed types to object type.\n",
    "\n",
    "df.iloc[:,[107,116,118,121,122,123,125,128,130,138,153,158,167,168,169]] = df.iloc[:,[107,116,118,121,122,123,125,128,130,138,153,158,167,168,169]].astype(object)\n",
    "g = df.columns.to_series().groupby(df.dtypes).groups\n",
    "g"
   ]
  },
  {
   "cell_type": "code",
   "execution_count": 5,
   "metadata": {
    "collapsed": true
   },
   "outputs": [],
   "source": [
    "#Set the target to column IM6 - Child ever received any vaccinations\n",
    "#Seperate the target column from the df.\n",
    "\n",
    "target = df['IM6']\n",
    "df.drop('IM6', axis=1, inplace=True)"
   ]
  },
  {
   "cell_type": "code",
   "execution_count": 6,
   "metadata": {},
   "outputs": [
    {
     "data": {
      "text/html": [
       "<div>\n",
       "<style>\n",
       "    .dataframe thead tr:only-child th {\n",
       "        text-align: right;\n",
       "    }\n",
       "\n",
       "    .dataframe thead th {\n",
       "        text-align: left;\n",
       "    }\n",
       "\n",
       "    .dataframe tbody tr th {\n",
       "        vertical-align: top;\n",
       "    }\n",
       "</style>\n",
       "<table border=\"1\" class=\"dataframe\">\n",
       "  <thead>\n",
       "    <tr style=\"text-align: right;\">\n",
       "      <th></th>\n",
       "      <th>HH1</th>\n",
       "      <th>HH2</th>\n",
       "      <th>LN</th>\n",
       "      <th>UF1</th>\n",
       "      <th>UF2</th>\n",
       "      <th>UF4</th>\n",
       "      <th>UF6</th>\n",
       "      <th>UF8D</th>\n",
       "      <th>UF8M</th>\n",
       "      <th>UF8Y</th>\n",
       "      <th>...</th>\n",
       "      <th>AN1_Z01</th>\n",
       "      <th>AN1_Z11</th>\n",
       "      <th>AN1_Z12</th>\n",
       "      <th>AN1_Z13</th>\n",
       "      <th>AN1_Z21</th>\n",
       "      <th>AN1_Z22</th>\n",
       "      <th>AN1_Z23</th>\n",
       "      <th>AN1_Z31</th>\n",
       "      <th>AN1_Z32</th>\n",
       "      <th>AN1_Z33</th>\n",
       "    </tr>\n",
       "  </thead>\n",
       "  <tbody>\n",
       "    <tr>\n",
       "      <th>0</th>\n",
       "      <td>1</td>\n",
       "      <td>1</td>\n",
       "      <td>3</td>\n",
       "      <td>1</td>\n",
       "      <td>1</td>\n",
       "      <td>3</td>\n",
       "      <td>2</td>\n",
       "      <td>14</td>\n",
       "      <td>2</td>\n",
       "      <td>2010</td>\n",
       "      <td>...</td>\n",
       "      <td>0</td>\n",
       "      <td>0</td>\n",
       "      <td>0</td>\n",
       "      <td>0</td>\n",
       "      <td>0</td>\n",
       "      <td>0</td>\n",
       "      <td>0</td>\n",
       "      <td>0</td>\n",
       "      <td>0</td>\n",
       "      <td>0</td>\n",
       "    </tr>\n",
       "    <tr>\n",
       "      <th>1</th>\n",
       "      <td>1</td>\n",
       "      <td>1</td>\n",
       "      <td>4</td>\n",
       "      <td>1</td>\n",
       "      <td>1</td>\n",
       "      <td>4</td>\n",
       "      <td>2</td>\n",
       "      <td>14</td>\n",
       "      <td>2</td>\n",
       "      <td>2010</td>\n",
       "      <td>...</td>\n",
       "      <td>0</td>\n",
       "      <td>0</td>\n",
       "      <td>0</td>\n",
       "      <td>0</td>\n",
       "      <td>0</td>\n",
       "      <td>0</td>\n",
       "      <td>0</td>\n",
       "      <td>0</td>\n",
       "      <td>0</td>\n",
       "      <td>0</td>\n",
       "    </tr>\n",
       "    <tr>\n",
       "      <th>2</th>\n",
       "      <td>1</td>\n",
       "      <td>21</td>\n",
       "      <td>6</td>\n",
       "      <td>1</td>\n",
       "      <td>21</td>\n",
       "      <td>6</td>\n",
       "      <td>1</td>\n",
       "      <td>15</td>\n",
       "      <td>2</td>\n",
       "      <td>2010</td>\n",
       "      <td>...</td>\n",
       "      <td>0</td>\n",
       "      <td>0</td>\n",
       "      <td>0</td>\n",
       "      <td>0</td>\n",
       "      <td>0</td>\n",
       "      <td>0</td>\n",
       "      <td>0</td>\n",
       "      <td>0</td>\n",
       "      <td>0</td>\n",
       "      <td>0</td>\n",
       "    </tr>\n",
       "    <tr>\n",
       "      <th>3</th>\n",
       "      <td>1</td>\n",
       "      <td>21</td>\n",
       "      <td>7</td>\n",
       "      <td>1</td>\n",
       "      <td>21</td>\n",
       "      <td>7</td>\n",
       "      <td>1</td>\n",
       "      <td>15</td>\n",
       "      <td>2</td>\n",
       "      <td>2010</td>\n",
       "      <td>...</td>\n",
       "      <td>0</td>\n",
       "      <td>0</td>\n",
       "      <td>0</td>\n",
       "      <td>0</td>\n",
       "      <td>0</td>\n",
       "      <td>0</td>\n",
       "      <td>0</td>\n",
       "      <td>0</td>\n",
       "      <td>0</td>\n",
       "      <td>0</td>\n",
       "    </tr>\n",
       "    <tr>\n",
       "      <th>4</th>\n",
       "      <td>1</td>\n",
       "      <td>21</td>\n",
       "      <td>8</td>\n",
       "      <td>1</td>\n",
       "      <td>21</td>\n",
       "      <td>8</td>\n",
       "      <td>1</td>\n",
       "      <td>15</td>\n",
       "      <td>2</td>\n",
       "      <td>2010</td>\n",
       "      <td>...</td>\n",
       "      <td>0</td>\n",
       "      <td>0</td>\n",
       "      <td>0</td>\n",
       "      <td>0</td>\n",
       "      <td>0</td>\n",
       "      <td>0</td>\n",
       "      <td>0</td>\n",
       "      <td>0</td>\n",
       "      <td>0</td>\n",
       "      <td>0</td>\n",
       "    </tr>\n",
       "  </tbody>\n",
       "</table>\n",
       "<p>5 rows × 1067 columns</p>\n",
       "</div>"
      ],
      "text/plain": [
       "   HH1  HH2  LN  UF1  UF2  UF4  UF6  UF8D  UF8M  UF8Y   ...     AN1_Z01  \\\n",
       "0    1    1   3    1    1    3    2    14     2  2010   ...           0   \n",
       "1    1    1   4    1    1    4    2    14     2  2010   ...           0   \n",
       "2    1   21   6    1   21    6    1    15     2  2010   ...           0   \n",
       "3    1   21   7    1   21    7    1    15     2  2010   ...           0   \n",
       "4    1   21   8    1   21    8    1    15     2  2010   ...           0   \n",
       "\n",
       "   AN1_Z11  AN1_Z12  AN1_Z13  AN1_Z21  AN1_Z22  AN1_Z23  AN1_Z31  AN1_Z32  \\\n",
       "0        0        0        0        0        0        0        0        0   \n",
       "1        0        0        0        0        0        0        0        0   \n",
       "2        0        0        0        0        0        0        0        0   \n",
       "3        0        0        0        0        0        0        0        0   \n",
       "4        0        0        0        0        0        0        0        0   \n",
       "\n",
       "   AN1_Z33  \n",
       "0        0  \n",
       "1        0  \n",
       "2        0  \n",
       "3        0  \n",
       "4        0  \n",
       "\n",
       "[5 rows x 1067 columns]"
      ]
     },
     "execution_count": 6,
     "metadata": {},
     "output_type": "execute_result"
    }
   ],
   "source": [
    "#One hot encoding of categorical values using get_dummies function\n",
    "\n",
    "dummies = pd.get_dummies(df)\n",
    "dummies.head()"
   ]
  },
  {
   "cell_type": "code",
   "execution_count": 7,
   "metadata": {
    "collapsed": true
   },
   "outputs": [],
   "source": [
    "#Replace NaN with 0\n",
    "\n",
    "dummies = dummies.fillna(0)"
   ]
  },
  {
   "cell_type": "code",
   "execution_count": 8,
   "metadata": {},
   "outputs": [
    {
     "data": {
      "text/plain": [
       "array([nan,  1.,  8.,  2.,  9.])"
      ]
     },
     "execution_count": 8,
     "metadata": {},
     "output_type": "execute_result"
    }
   ],
   "source": [
    "target.unique()"
   ]
  },
  {
   "cell_type": "markdown",
   "metadata": {},
   "source": [
    "1\tYes\t    - 6021   \n",
    "2\tNo\t    - 1279  \n",
    "8\tDK\t    - 102\t  \n",
    "9\tMissing - 3"
   ]
  },
  {
   "cell_type": "code",
   "execution_count": 9,
   "metadata": {
    "collapsed": true
   },
   "outputs": [],
   "source": [
    "#Creating a column for the target variable\n",
    "\n",
    "dummies['vaccine'] = target"
   ]
  },
  {
   "cell_type": "code",
   "execution_count": 10,
   "metadata": {
    "collapsed": true
   },
   "outputs": [],
   "source": [
    "#Creating a binary variable since by coding Yes to 1 and any other response as 0.\n",
    "\n",
    "dummies['has_been_vaccinated'] = dummies.vaccine.apply(lambda x: 1 if x == 1 else 0)\n",
    "dummies.drop('vaccine', axis=1, inplace=True)\n",
    "y=['has_been_vaccinated']\n",
    "dummy_vars =dummies.columns.values.tolist()\n",
    "X=[i for i in dummy_vars if i not in y]"
   ]
  },
  {
   "cell_type": "code",
   "execution_count": 15,
   "metadata": {
    "collapsed": true
   },
   "outputs": [],
   "source": [
    "train_labels = np.array(dummies[y])\n",
    "train_features = np.array(dummies[X])\n",
    "X_train, X_test, y_train, y_test = train_test_split(train_features,train_labels,test_size=0.33,random_state=0)"
   ]
  },
  {
   "cell_type": "code",
   "execution_count": 16,
   "metadata": {},
   "outputs": [
    {
     "name": "stdout",
     "output_type": "stream",
     "text": [
      "Training Features Shape: (7534, 1067)\n",
      "Training Labels Shape: (7534, 1)\n",
      "Testing Features Shape: (3711, 1067)\n",
      "Testing Labels Shape: (3711, 1)\n"
     ]
    }
   ],
   "source": [
    "print('Training Features Shape:', X_train.shape)\n",
    "print('Training Labels Shape:', y_train.shape)\n",
    "print('Testing Features Shape:', X_test.shape)\n",
    "print('Testing Labels Shape:', y_test.shape)"
   ]
  },
  {
   "cell_type": "code",
   "execution_count": 17,
   "metadata": {
    "collapsed": true
   },
   "outputs": [],
   "source": [
    "# creating odd list of K for KNN\n",
    "myList = list(range(1,100))\n",
    "\n",
    "# subsetting just the odd ones\n",
    "neighbors = filter(lambda x: x % 2 != 0, myList)\n",
    "\n",
    "# empty list that will hold cv scores\n",
    "cv_scores = []\n",
    "\n",
    "# perform 10-fold cross validation\n",
    "for k in neighbors:\n",
    "    knn = KNeighborsClassifier(n_neighbors=k)\n",
    "    scores = cross_val_score(knn, X_train, y_train.ravel(), cv=10, scoring='accuracy')\n",
    "    cv_scores.append(scores.mean())"
   ]
  },
  {
   "cell_type": "code",
   "execution_count": 18,
   "metadata": {
    "collapsed": true
   },
   "outputs": [],
   "source": [
    "# changing to misclassification error\n",
    "MSE = [1 - x for x in cv_scores]\n",
    "\n",
    "# determining best k\n",
    "neighbors = filter(lambda x: x % 2 != 0, myList)\n",
    "\n",
    "mse_min_index = MSE.index(min(MSE))\n",
    "neighbors_list = list(neighbors)"
   ]
  },
  {
   "cell_type": "code",
   "execution_count": 19,
   "metadata": {},
   "outputs": [
    {
     "name": "stdout",
     "output_type": "stream",
     "text": [
      "The optimal number of neighbors is 7\n"
     ]
    },
    {
     "data": {
      "image/png": "[encoded data removed]",
      "text/plain": [
       "<matplotlib.figure.Figure at 0x1f53133c4e0>"
      ]
     },
     "metadata": {},
     "output_type": "display_data"
    }
   ],
   "source": [
    "print(\"The optimal number of neighbors is %d\" % neighbors_list[mse_min_index])\n",
    "\n",
    "# plot misclassification error vs k\n",
    "plt.plot(neighbors_list, MSE)\n",
    "plt.xlabel('Number of Neighbors K')\n",
    "plt.ylabel('Misclassification Error')\n",
    "plt.show()"
   ]
  },
  {
   "cell_type": "code",
   "execution_count": 20,
   "metadata": {
    "collapsed": true
   },
   "outputs": [],
   "source": [
    "#instantiate optimum value of k\n",
    "optimum_k = neighbors_list[mse_min_index]\n",
    "\n",
    "# instantiate learning model \n",
    "knn = KNeighborsClassifier(n_neighbors= optimum_k)\n",
    "\n",
    "# fitting the model\n",
    "knn.fit(X_train, y_train.ravel())\n",
    "\n",
    "# predict the response\n",
    "pred = knn.predict(X_test)"
   ]
  },
  {
   "cell_type": "code",
   "execution_count": 21,
   "metadata": {},
   "outputs": [
    {
     "name": "stdout",
     "output_type": "stream",
     "text": [
      "Accuracy of knn classifier on test set: 0.89\n"
     ]
    }
   ],
   "source": [
    "# evaluate accuracy\n",
    "print('Accuracy of knn classifier on test set: {:.2f}'.format(knn.score(X_test, y_test)))"
   ]
  },
  {
   "cell_type": "code",
   "execution_count": 22,
   "metadata": {},
   "outputs": [
    {
     "name": "stdout",
     "output_type": "stream",
     "text": [
      "             precision    recall  f1-score   support\n",
      "\n",
      "          0       0.92      0.83      0.87      1698\n",
      "          1       0.87      0.94      0.90      2013\n",
      "\n",
      "avg / total       0.89      0.89      0.89      3711\n",
      "\n"
     ]
    }
   ],
   "source": [
    "#Overall classification report\n",
    "\n",
    "print(classification_report(y_test, pred))"
   ]
  },
  {
   "cell_type": "code",
   "execution_count": 28,
   "metadata": {},
   "outputs": [
    {
     "name": "stdout",
     "output_type": "stream",
     "text": [
      "Shape of feature space before PCA:(7534, 1067)\n",
      "Shape of feature space after PCA:(7534, 100)\n"
     ]
    }
   ],
   "source": [
    "#Transform the data using PCA\n",
    "\n",
    "pca=PCA(n_components= 100)\n",
    "X_train_transformed=pca.fit_transform(X_train)\n",
    "X_test_transformed=pca.fit_transform(X_test)\n",
    "\n",
    "print(\"Shape of feature space before PCA:\"+ str(X_train.shape))\n",
    "print(\"Shape of feature space after PCA:\"+ str(X_train_transformed.shape))"
   ]
  },
  {
   "cell_type": "code",
   "execution_count": 29,
   "metadata": {},
   "outputs": [
    {
     "name": "stdout",
     "output_type": "stream",
     "text": [
      "Accuracy of knn classifier on test set after PCA is: 0.83\n"
     ]
    }
   ],
   "source": [
    "#Train the model with X_train after modification\n",
    "knn.fit(X_train_transformed,y_train.ravel())\n",
    "y2=knn.predict(X_train_transformed)\n",
    "#Checking accuracy against the training data after PCA\n",
    "print('Accuracy of knn classifier on test set after PCA is: {:.2f}'.format(knn.score(X_test_transformed, y_test)))"
   ]
  }
 ],
 "metadata": {
  "kernelspec": {
   "display_name": "Python 3",
   "language": "python",
   "name": "python3"
  },
  "language_info": {
   "codemirror_mode": {
    "name": "ipython",
    "version": 3
   },
   "file_extension": ".py",
   "mimetype": "text/x-python",
   "name": "python",
   "nbconvert_exporter": "python",
   "pygments_lexer": "ipython3",
   "version": "3.6.3"
  }
 },
 "nbformat": 4,
 "nbformat_minor": 2
}
