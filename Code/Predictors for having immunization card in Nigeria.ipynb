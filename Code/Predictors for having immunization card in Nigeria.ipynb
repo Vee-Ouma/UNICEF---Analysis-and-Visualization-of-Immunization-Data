{
 "cells": [
  {
   "cell_type": "markdown",
   "metadata": {},
   "source": [
    "# UNICEF MICS Survey data analysis"
   ]
  },
  {
   "cell_type": "markdown",
   "metadata": {},
   "source": [
    "Understanding features that can predict why a caretaker might have a vaccination card using classification algorithms"
   ]
  },
  {
   "cell_type": "code",
   "execution_count": 1,
   "metadata": {},
   "outputs": [],
   "source": [
    "import pandas as pd\n",
    "import numpy as np\n",
    "import matplotlib.pyplot as plt\n",
    "from sklearn.feature_selection import RFE\n",
    "from sklearn.linear_model import LogisticRegression\n",
    "from sklearn import metrics\n",
    "from sklearn.model_selection import train_test_split\n",
    "from sklearn.linear_model import LogisticRegression\n",
    "from sklearn.metrics import classification_report\n",
    "from sklearn.neighbors import KNeighborsClassifier\n",
    "from sklearn.model_selection import cross_val_score\n",
    "from sklearn.decomposition import PCA\n",
    "from  sklearn.preprocessing import  StandardScaler\n",
    "from sklearn import svm\n",
    "from sklearn.ensemble import RandomForestClassifier\n",
    "from sklearn.ensemble import GradientBoostingClassifier\n",
    "from sklearn.model_selection import train_test_split\n",
    "from sklearn import model_selection\n",
    "from sklearn.utils import resample\n",
    "from sklearn.metrics import classification_report"
   ]
  },
  {
   "cell_type": "markdown",
   "metadata": {},
   "source": [
    "Data collected at the children's level (MICS Under Five Children's questionnaire modules: Under-five child information panel, Child's age, Birth registration, Early childhood development, Breastfeeding , Care of illness, Immunization, Under-five child selected for blood test.)\n",
    "\n",
    "Dataset produced by UNICEF and Central Statistics Organization"
   ]
  },
  {
   "cell_type": "code",
   "execution_count": 2,
   "metadata": {
    "collapsed": true
   },
   "outputs": [],
   "source": [
    "#importing ch.csv which was converted from .sav format in R. Check get_Congo_to_csv.R file\n",
    "#Set low_memory = False to avoid the warning about column numbers having mixed type values.\n",
    "## 100,104,106,114,115,116,117,118,120,122,123,125,126,127,131,133,134,136,152,153,168\n",
    "\n",
    "ch_df = pd.read_csv('ch.csv',low_memory=False)"
   ]
  },
  {
   "cell_type": "code",
   "execution_count": 3,
   "metadata": {},
   "outputs": [
    {
     "data": {
      "text/plain": [
       "{dtype('int64'): Index(['Unnamed: 0', 'HH1', 'HH2', 'LN', 'UF1', 'UF2', 'UF4', 'UF6', 'UF7',\n",
       "        'UF8D', 'UF8M', 'UF8Y', 'UF9', 'UF10', 'UF11', 'HH6', 'HH7', 'HL4',\n",
       "        'CDOI', 'melevel', 'religion', 'zone', 'windex5', 'PSU', 'stratum'],\n",
       "       dtype='object'),\n",
       " dtype('float64'): Index(['UF12H', 'UF12M', 'UF13H', 'UF13M', 'AG1D', 'AG1M', 'AG1Y', 'AG2',\n",
       "        'BR1', 'BR2',\n",
       "        ...\n",
       "        'TN12_4', 'ED4A', 'ED4B', 'CDOB', 'CAGE', 'CAGE_6', 'CAGE_11', 'CAGED',\n",
       "        'chweight', 'wscore'],\n",
       "       dtype='object', length=184),\n",
       " dtype('O'): Index(['EC7AA', 'EC7AB', 'EC7AX', 'EC7AY', 'EC7BA', 'EC7BB', 'EC7BX', 'EC7BY',\n",
       "        'EC7CA', 'EC7CB', 'EC7CX', 'EC7CY', 'EC7DA', 'EC7DB', 'EC7DX', 'EC7DY',\n",
       "        'EC7EA', 'EC7EB', 'EC7EX', 'EC7EY', 'EC7FA', 'EC7FB', 'EC7FX', 'EC7FY',\n",
       "        'CA6A', 'CA6B', 'CA6C', 'CA6G', 'CA6H', 'CA6L', 'CA6M', 'CA6N', 'CA6O',\n",
       "        'CA6Q', 'CA6X', 'CA11A', 'CA11B', 'CA11C', 'CA11D', 'CA11E', 'CA11H',\n",
       "        'CA11I', 'CA11J', 'CA11K', 'CA11L', 'CA11O', 'CA11P', 'CA11Q', 'CA11R',\n",
       "        'CA11X', 'CA13A', 'CA13B', 'CA13M', 'CA13P', 'CA13Q', 'CA13R', 'CA13X',\n",
       "        'CA13Z', 'ML6A', 'ML6B', 'ML6C', 'ML6D', 'ML6E', 'ML6H', 'ML6I', 'ML6J',\n",
       "        'ML6P', 'ML6Q', 'ML6R', 'ML6X', 'ML6Z', 'ML9A', 'ML9B', 'ML9C', 'ML9D',\n",
       "        'ML9E', 'ML9H', 'ML9I', 'ML9J', 'ML9P', 'ML9Q', 'ML9R', 'ML9X', 'ML9Z'],\n",
       "       dtype='object')}"
      ]
     },
     "execution_count": 3,
     "metadata": {},
     "output_type": "execute_result"
    }
   ],
   "source": [
    "#Convert column with mixed types to object type.\n",
    "\n",
    "ch_df.iloc[:,[100,104,106,114,115,116,117,118,120,122,123,125,126,127,131,133,134,136,152,153,168]] = ch_df.iloc[:,[100,104,106,114,115,116,117,118,120,122,123,125,126,127,131,133,134,136,152,153,168]].astype(object)\n",
    "g = ch_df.columns.to_series().groupby(ch_df.dtypes).groups\n",
    "g"
   ]
  },
  {
   "cell_type": "code",
   "execution_count": 4,
   "metadata": {},
   "outputs": [
    {
     "data": {
      "text/html": [
       "<div>\n",
       "<style>\n",
       "    .dataframe thead tr:only-child th {\n",
       "        text-align: right;\n",
       "    }\n",
       "\n",
       "    .dataframe thead th {\n",
       "        text-align: left;\n",
       "    }\n",
       "\n",
       "    .dataframe tbody tr th {\n",
       "        vertical-align: top;\n",
       "    }\n",
       "</style>\n",
       "<table border=\"1\" class=\"dataframe\">\n",
       "  <thead>\n",
       "    <tr style=\"text-align: right;\">\n",
       "      <th></th>\n",
       "      <th>Unnamed: 0</th>\n",
       "      <th>HH1</th>\n",
       "      <th>HH2</th>\n",
       "      <th>LN</th>\n",
       "      <th>UF1</th>\n",
       "      <th>UF2</th>\n",
       "      <th>UF4</th>\n",
       "      <th>UF6</th>\n",
       "      <th>UF7</th>\n",
       "      <th>UF8D</th>\n",
       "      <th>...</th>\n",
       "      <th>CAGE_11</th>\n",
       "      <th>CAGED</th>\n",
       "      <th>melevel</th>\n",
       "      <th>religion</th>\n",
       "      <th>zone</th>\n",
       "      <th>chweight</th>\n",
       "      <th>wscore</th>\n",
       "      <th>windex5</th>\n",
       "      <th>PSU</th>\n",
       "      <th>stratum</th>\n",
       "    </tr>\n",
       "  </thead>\n",
       "  <tbody>\n",
       "    <tr>\n",
       "      <th>count</th>\n",
       "      <td>26018.000000</td>\n",
       "      <td>26018.000000</td>\n",
       "      <td>26018.000000</td>\n",
       "      <td>26018.000000</td>\n",
       "      <td>26018.000000</td>\n",
       "      <td>26018.000000</td>\n",
       "      <td>26018.000000</td>\n",
       "      <td>26018.000000</td>\n",
       "      <td>26018.000000</td>\n",
       "      <td>26018.000000</td>\n",
       "      <td>...</td>\n",
       "      <td>25192.000000</td>\n",
       "      <td>25192.000000</td>\n",
       "      <td>26018.000000</td>\n",
       "      <td>26018.000000</td>\n",
       "      <td>26018.000000</td>\n",
       "      <td>26018.000000</td>\n",
       "      <td>26018.000000</td>\n",
       "      <td>26018.000000</td>\n",
       "      <td>26018.000000</td>\n",
       "      <td>26018.000000</td>\n",
       "    </tr>\n",
       "    <tr>\n",
       "      <th>mean</th>\n",
       "      <td>13009.500000</td>\n",
       "      <td>765.843147</td>\n",
       "      <td>10.391959</td>\n",
       "      <td>6.122108</td>\n",
       "      <td>765.843147</td>\n",
       "      <td>10.391959</td>\n",
       "      <td>6.122108</td>\n",
       "      <td>2.889423</td>\n",
       "      <td>11.521255</td>\n",
       "      <td>14.596164</td>\n",
       "      <td>...</td>\n",
       "      <td>2.987496</td>\n",
       "      <td>984.930970</td>\n",
       "      <td>1.822815</td>\n",
       "      <td>1.581098</td>\n",
       "      <td>3.112845</td>\n",
       "      <td>0.968253</td>\n",
       "      <td>-0.107336</td>\n",
       "      <td>2.519217</td>\n",
       "      <td>765.843147</td>\n",
       "      <td>19.632601</td>\n",
       "    </tr>\n",
       "    <tr>\n",
       "      <th>std</th>\n",
       "      <td>7510.893988</td>\n",
       "      <td>429.034000</td>\n",
       "      <td>5.756146</td>\n",
       "      <td>3.017196</td>\n",
       "      <td>429.034000</td>\n",
       "      <td>5.756146</td>\n",
       "      <td>3.017196</td>\n",
       "      <td>2.431748</td>\n",
       "      <td>2.895621</td>\n",
       "      <td>7.412582</td>\n",
       "      <td>...</td>\n",
       "      <td>1.427527</td>\n",
       "      <td>1017.925784</td>\n",
       "      <td>0.879074</td>\n",
       "      <td>0.568260</td>\n",
       "      <td>1.603637</td>\n",
       "      <td>1.050827</td>\n",
       "      <td>0.968301</td>\n",
       "      <td>1.414660</td>\n",
       "      <td>429.034000</td>\n",
       "      <td>10.722314</td>\n",
       "    </tr>\n",
       "    <tr>\n",
       "      <th>min</th>\n",
       "      <td>1.000000</td>\n",
       "      <td>1.000000</td>\n",
       "      <td>1.000000</td>\n",
       "      <td>2.000000</td>\n",
       "      <td>1.000000</td>\n",
       "      <td>1.000000</td>\n",
       "      <td>2.000000</td>\n",
       "      <td>1.000000</td>\n",
       "      <td>7.000000</td>\n",
       "      <td>1.000000</td>\n",
       "      <td>...</td>\n",
       "      <td>1.000000</td>\n",
       "      <td>0.000000</td>\n",
       "      <td>1.000000</td>\n",
       "      <td>1.000000</td>\n",
       "      <td>1.000000</td>\n",
       "      <td>0.000000</td>\n",
       "      <td>-1.574326</td>\n",
       "      <td>0.000000</td>\n",
       "      <td>1.000000</td>\n",
       "      <td>1.000000</td>\n",
       "    </tr>\n",
       "    <tr>\n",
       "      <th>25%</th>\n",
       "      <td>6505.250000</td>\n",
       "      <td>394.000000</td>\n",
       "      <td>5.000000</td>\n",
       "      <td>4.000000</td>\n",
       "      <td>394.000000</td>\n",
       "      <td>5.000000</td>\n",
       "      <td>4.000000</td>\n",
       "      <td>2.000000</td>\n",
       "      <td>9.000000</td>\n",
       "      <td>9.000000</td>\n",
       "      <td>...</td>\n",
       "      <td>2.000000</td>\n",
       "      <td>417.000000</td>\n",
       "      <td>1.000000</td>\n",
       "      <td>1.000000</td>\n",
       "      <td>2.000000</td>\n",
       "      <td>0.430426</td>\n",
       "      <td>-0.950428</td>\n",
       "      <td>1.000000</td>\n",
       "      <td>394.000000</td>\n",
       "      <td>10.000000</td>\n",
       "    </tr>\n",
       "    <tr>\n",
       "      <th>50%</th>\n",
       "      <td>13009.500000</td>\n",
       "      <td>764.000000</td>\n",
       "      <td>10.000000</td>\n",
       "      <td>5.000000</td>\n",
       "      <td>764.000000</td>\n",
       "      <td>10.000000</td>\n",
       "      <td>5.000000</td>\n",
       "      <td>2.000000</td>\n",
       "      <td>12.000000</td>\n",
       "      <td>15.000000</td>\n",
       "      <td>...</td>\n",
       "      <td>3.000000</td>\n",
       "      <td>909.000000</td>\n",
       "      <td>2.000000</td>\n",
       "      <td>2.000000</td>\n",
       "      <td>3.000000</td>\n",
       "      <td>0.677064</td>\n",
       "      <td>-0.260526</td>\n",
       "      <td>2.000000</td>\n",
       "      <td>764.000000</td>\n",
       "      <td>20.000000</td>\n",
       "    </tr>\n",
       "    <tr>\n",
       "      <th>75%</th>\n",
       "      <td>19513.750000</td>\n",
       "      <td>1138.000000</td>\n",
       "      <td>15.000000</td>\n",
       "      <td>7.000000</td>\n",
       "      <td>1138.000000</td>\n",
       "      <td>15.000000</td>\n",
       "      <td>7.000000</td>\n",
       "      <td>2.000000</td>\n",
       "      <td>14.000000</td>\n",
       "      <td>21.000000</td>\n",
       "      <td>...</td>\n",
       "      <td>4.000000</td>\n",
       "      <td>1384.000000</td>\n",
       "      <td>3.000000</td>\n",
       "      <td>2.000000</td>\n",
       "      <td>4.000000</td>\n",
       "      <td>1.161744</td>\n",
       "      <td>0.639379</td>\n",
       "      <td>4.000000</td>\n",
       "      <td>1138.000000</td>\n",
       "      <td>29.000000</td>\n",
       "    </tr>\n",
       "    <tr>\n",
       "      <th>max</th>\n",
       "      <td>26018.000000</td>\n",
       "      <td>1480.000000</td>\n",
       "      <td>20.000000</td>\n",
       "      <td>41.000000</td>\n",
       "      <td>1480.000000</td>\n",
       "      <td>20.000000</td>\n",
       "      <td>41.000000</td>\n",
       "      <td>39.000000</td>\n",
       "      <td>18.000000</td>\n",
       "      <td>30.000000</td>\n",
       "      <td>...</td>\n",
       "      <td>5.000000</td>\n",
       "      <td>9999.000000</td>\n",
       "      <td>9.000000</td>\n",
       "      <td>9.000000</td>\n",
       "      <td>6.000000</td>\n",
       "      <td>14.433318</td>\n",
       "      <td>3.008995</td>\n",
       "      <td>5.000000</td>\n",
       "      <td>1480.000000</td>\n",
       "      <td>37.000000</td>\n",
       "    </tr>\n",
       "  </tbody>\n",
       "</table>\n",
       "<p>8 rows × 209 columns</p>\n",
       "</div>"
      ],
      "text/plain": [
       "         Unnamed: 0           HH1           HH2            LN           UF1  \\\n",
       "count  26018.000000  26018.000000  26018.000000  26018.000000  26018.000000   \n",
       "mean   13009.500000    765.843147     10.391959      6.122108    765.843147   \n",
       "std     7510.893988    429.034000      5.756146      3.017196    429.034000   \n",
       "min        1.000000      1.000000      1.000000      2.000000      1.000000   \n",
       "25%     6505.250000    394.000000      5.000000      4.000000    394.000000   \n",
       "50%    13009.500000    764.000000     10.000000      5.000000    764.000000   \n",
       "75%    19513.750000   1138.000000     15.000000      7.000000   1138.000000   \n",
       "max    26018.000000   1480.000000     20.000000     41.000000   1480.000000   \n",
       "\n",
       "                UF2           UF4           UF6           UF7          UF8D  \\\n",
       "count  26018.000000  26018.000000  26018.000000  26018.000000  26018.000000   \n",
       "mean      10.391959      6.122108      2.889423     11.521255     14.596164   \n",
       "std        5.756146      3.017196      2.431748      2.895621      7.412582   \n",
       "min        1.000000      2.000000      1.000000      7.000000      1.000000   \n",
       "25%        5.000000      4.000000      2.000000      9.000000      9.000000   \n",
       "50%       10.000000      5.000000      2.000000     12.000000     15.000000   \n",
       "75%       15.000000      7.000000      2.000000     14.000000     21.000000   \n",
       "max       20.000000     41.000000     39.000000     18.000000     30.000000   \n",
       "\n",
       "           ...            CAGE_11         CAGED       melevel      religion  \\\n",
       "count      ...       25192.000000  25192.000000  26018.000000  26018.000000   \n",
       "mean       ...           2.987496    984.930970      1.822815      1.581098   \n",
       "std        ...           1.427527   1017.925784      0.879074      0.568260   \n",
       "min        ...           1.000000      0.000000      1.000000      1.000000   \n",
       "25%        ...           2.000000    417.000000      1.000000      1.000000   \n",
       "50%        ...           3.000000    909.000000      2.000000      2.000000   \n",
       "75%        ...           4.000000   1384.000000      3.000000      2.000000   \n",
       "max        ...           5.000000   9999.000000      9.000000      9.000000   \n",
       "\n",
       "               zone      chweight        wscore       windex5           PSU  \\\n",
       "count  26018.000000  26018.000000  26018.000000  26018.000000  26018.000000   \n",
       "mean       3.112845      0.968253     -0.107336      2.519217    765.843147   \n",
       "std        1.603637      1.050827      0.968301      1.414660    429.034000   \n",
       "min        1.000000      0.000000     -1.574326      0.000000      1.000000   \n",
       "25%        2.000000      0.430426     -0.950428      1.000000    394.000000   \n",
       "50%        3.000000      0.677064     -0.260526      2.000000    764.000000   \n",
       "75%        4.000000      1.161744      0.639379      4.000000   1138.000000   \n",
       "max        6.000000     14.433318      3.008995      5.000000   1480.000000   \n",
       "\n",
       "            stratum  \n",
       "count  26018.000000  \n",
       "mean      19.632601  \n",
       "std       10.722314  \n",
       "min        1.000000  \n",
       "25%       10.000000  \n",
       "50%       20.000000  \n",
       "75%       29.000000  \n",
       "max       37.000000  \n",
       "\n",
       "[8 rows x 209 columns]"
      ]
     },
     "execution_count": 4,
     "metadata": {},
     "output_type": "execute_result"
    }
   ],
   "source": [
    "ch_df.describe()"
   ]
  },
  {
   "cell_type": "code",
   "execution_count": 5,
   "metadata": {},
   "outputs": [
    {
     "data": {
      "text/html": [
       "<div>\n",
       "<style>\n",
       "    .dataframe thead tr:only-child th {\n",
       "        text-align: right;\n",
       "    }\n",
       "\n",
       "    .dataframe thead th {\n",
       "        text-align: left;\n",
       "    }\n",
       "\n",
       "    .dataframe tbody tr th {\n",
       "        vertical-align: top;\n",
       "    }\n",
       "</style>\n",
       "<table border=\"1\" class=\"dataframe\">\n",
       "  <thead>\n",
       "    <tr style=\"text-align: right;\">\n",
       "      <th></th>\n",
       "      <th>HH1</th>\n",
       "      <th>HH2</th>\n",
       "      <th>LN</th>\n",
       "      <th>UF1</th>\n",
       "      <th>UF2</th>\n",
       "      <th>UF4</th>\n",
       "      <th>UF6</th>\n",
       "      <th>UF7</th>\n",
       "      <th>UF8D</th>\n",
       "      <th>UF8M</th>\n",
       "      <th>...</th>\n",
       "      <th>CAGE_11</th>\n",
       "      <th>CAGED</th>\n",
       "      <th>melevel</th>\n",
       "      <th>religion</th>\n",
       "      <th>zone</th>\n",
       "      <th>chweight</th>\n",
       "      <th>wscore</th>\n",
       "      <th>windex5</th>\n",
       "      <th>PSU</th>\n",
       "      <th>stratum</th>\n",
       "    </tr>\n",
       "  </thead>\n",
       "  <tbody>\n",
       "    <tr>\n",
       "      <th>0</th>\n",
       "      <td>1</td>\n",
       "      <td>4</td>\n",
       "      <td>6</td>\n",
       "      <td>1</td>\n",
       "      <td>4</td>\n",
       "      <td>6</td>\n",
       "      <td>2</td>\n",
       "      <td>15</td>\n",
       "      <td>21</td>\n",
       "      <td>2</td>\n",
       "      <td>...</td>\n",
       "      <td>5.0</td>\n",
       "      <td>1656.0</td>\n",
       "      <td>3</td>\n",
       "      <td>1</td>\n",
       "      <td>4</td>\n",
       "      <td>1.262202</td>\n",
       "      <td>1.653178</td>\n",
       "      <td>5</td>\n",
       "      <td>1</td>\n",
       "      <td>1</td>\n",
       "    </tr>\n",
       "    <tr>\n",
       "      <th>1</th>\n",
       "      <td>1</td>\n",
       "      <td>5</td>\n",
       "      <td>5</td>\n",
       "      <td>1</td>\n",
       "      <td>5</td>\n",
       "      <td>5</td>\n",
       "      <td>2</td>\n",
       "      <td>12</td>\n",
       "      <td>21</td>\n",
       "      <td>2</td>\n",
       "      <td>...</td>\n",
       "      <td>3.0</td>\n",
       "      <td>1031.0</td>\n",
       "      <td>2</td>\n",
       "      <td>1</td>\n",
       "      <td>4</td>\n",
       "      <td>1.262202</td>\n",
       "      <td>1.973658</td>\n",
       "      <td>5</td>\n",
       "      <td>1</td>\n",
       "      <td>1</td>\n",
       "    </tr>\n",
       "    <tr>\n",
       "      <th>2</th>\n",
       "      <td>1</td>\n",
       "      <td>5</td>\n",
       "      <td>6</td>\n",
       "      <td>1</td>\n",
       "      <td>5</td>\n",
       "      <td>6</td>\n",
       "      <td>2</td>\n",
       "      <td>12</td>\n",
       "      <td>21</td>\n",
       "      <td>2</td>\n",
       "      <td>...</td>\n",
       "      <td>4.0</td>\n",
       "      <td>1320.0</td>\n",
       "      <td>2</td>\n",
       "      <td>1</td>\n",
       "      <td>4</td>\n",
       "      <td>1.262202</td>\n",
       "      <td>1.973658</td>\n",
       "      <td>5</td>\n",
       "      <td>1</td>\n",
       "      <td>1</td>\n",
       "    </tr>\n",
       "    <tr>\n",
       "      <th>3</th>\n",
       "      <td>1</td>\n",
       "      <td>6</td>\n",
       "      <td>3</td>\n",
       "      <td>1</td>\n",
       "      <td>6</td>\n",
       "      <td>3</td>\n",
       "      <td>2</td>\n",
       "      <td>11</td>\n",
       "      <td>21</td>\n",
       "      <td>2</td>\n",
       "      <td>...</td>\n",
       "      <td>1.0</td>\n",
       "      <td>164.0</td>\n",
       "      <td>3</td>\n",
       "      <td>1</td>\n",
       "      <td>4</td>\n",
       "      <td>1.262202</td>\n",
       "      <td>1.964425</td>\n",
       "      <td>5</td>\n",
       "      <td>1</td>\n",
       "      <td>1</td>\n",
       "    </tr>\n",
       "    <tr>\n",
       "      <th>4</th>\n",
       "      <td>1</td>\n",
       "      <td>7</td>\n",
       "      <td>4</td>\n",
       "      <td>1</td>\n",
       "      <td>7</td>\n",
       "      <td>4</td>\n",
       "      <td>2</td>\n",
       "      <td>16</td>\n",
       "      <td>21</td>\n",
       "      <td>2</td>\n",
       "      <td>...</td>\n",
       "      <td>4.0</td>\n",
       "      <td>1162.0</td>\n",
       "      <td>3</td>\n",
       "      <td>1</td>\n",
       "      <td>4</td>\n",
       "      <td>1.262202</td>\n",
       "      <td>1.638443</td>\n",
       "      <td>5</td>\n",
       "      <td>1</td>\n",
       "      <td>1</td>\n",
       "    </tr>\n",
       "  </tbody>\n",
       "</table>\n",
       "<p>5 rows × 292 columns</p>\n",
       "</div>"
      ],
      "text/plain": [
       "   HH1  HH2  LN  UF1  UF2  UF4  UF6  UF7  UF8D  UF8M   ...     CAGE_11  \\\n",
       "0    1    4   6    1    4    6    2   15    21     2   ...         5.0   \n",
       "1    1    5   5    1    5    5    2   12    21     2   ...         3.0   \n",
       "2    1    5   6    1    5    6    2   12    21     2   ...         4.0   \n",
       "3    1    6   3    1    6    3    2   11    21     2   ...         1.0   \n",
       "4    1    7   4    1    7    4    2   16    21     2   ...         4.0   \n",
       "\n",
       "    CAGED  melevel  religion  zone  chweight    wscore  windex5  PSU  stratum  \n",
       "0  1656.0        3         1     4  1.262202  1.653178        5    1        1  \n",
       "1  1031.0        2         1     4  1.262202  1.973658        5    1        1  \n",
       "2  1320.0        2         1     4  1.262202  1.973658        5    1        1  \n",
       "3   164.0        3         1     4  1.262202  1.964425        5    1        1  \n",
       "4  1162.0        3         1     4  1.262202  1.638443        5    1        1  \n",
       "\n",
       "[5 rows x 292 columns]"
      ]
     },
     "execution_count": 5,
     "metadata": {},
     "output_type": "execute_result"
    }
   ],
   "source": [
    "columnNumbers = [x for x in range(ch_df.shape[1])]  # list of columns' integer indices\n",
    "\n",
    "columnNumbers.remove(0) #removing column integer index 0\n",
    "ch_df = ch_df.iloc[:, columnNumbers] #return all columns except 0th column\n",
    "ch_df.head()"
   ]
  },
  {
   "cell_type": "code",
   "execution_count": 6,
   "metadata": {
    "collapsed": true
   },
   "outputs": [],
   "source": [
    "wm_df = pd.read_csv('wm.csv', low_memory = False)"
   ]
  },
  {
   "cell_type": "code",
   "execution_count": 7,
   "metadata": {},
   "outputs": [
    {
     "data": {
      "text/plain": [
       "{dtype('int64'): Index(['Unnamed: 0', 'HH1', 'HH2', 'LN', 'WM1', 'WM2', 'WM4', 'WM5', 'WM6D',\n",
       "        'WM6M', 'WM6Y', 'WM7', 'WM8', 'WM9', 'HH6', 'HH7', 'WDOI', 'religion',\n",
       "        'zone', 'windex5', 'PSU', 'stratum'],\n",
       "       dtype='object'),\n",
       " dtype('float64'): Index(['WM10H', 'WM10M', 'WM11H', 'WM11M', 'WB1M', 'WB1Y', 'WB2', 'WB3', 'WB4',\n",
       "        'WB5',\n",
       "        ...\n",
       "        'WAGEM', 'WDOBFC', 'WDOBLC', 'MSTATUS', 'CEB', 'CSURV', 'CDEAD',\n",
       "        'welevel', 'wmweight', 'wscore'],\n",
       "       dtype='object', length=165),\n",
       " dtype('O'): Index(['CM13', 'MN2A', 'MN2B', 'MN2C', 'MN2F', 'MN2G', 'MN2X', 'MN14A',\n",
       "        'MN14B', 'MN14C', 'MN14D', 'MN14E', 'MN14H', 'MN14X', 'MN14Z', 'MN17A',\n",
       "        'MN17B', 'MN17C', 'MN17F', 'MN17G', 'MN17H', 'MN17X', 'MN17Y', 'MN27A',\n",
       "        'MN27B', 'MN27C', 'MN27D', 'MN27E', 'MN27F', 'MN27G', 'MN27H', 'MN27I',\n",
       "        'MN27X', 'IS2A', 'IS2B', 'IS2C', 'IS2D', 'IS2E', 'IS2F', 'IS2G', 'IS2X',\n",
       "        'IS2Y', 'IS2Z', 'CP3A', 'CP3B', 'CP3C', 'CP3D', 'CP3E', 'CP3F', 'CP3G',\n",
       "        'CP3H', 'CP3I', 'CP3J', 'CP3K', 'CP3L', 'CP3M', 'CP3X', 'UN11A',\n",
       "        'UN11B', 'UN11C', 'UN11D', 'UN11E', 'UN11F', 'UN11G', 'UN11H', 'UN11I',\n",
       "        'UN11X', 'UN11Z'],\n",
       "       dtype='object')}"
      ]
     },
     "execution_count": 7,
     "metadata": {},
     "output_type": "execute_result"
    }
   ],
   "source": [
    "wm_df.iloc[:,[53,81,102,103,105,121,128,129,146,149]] = wm_df.iloc[:,[53,81,102,103,105,121,128,129,146,149]].astype(object)\n",
    "g = wm_df.columns.to_series().groupby(wm_df.dtypes).groups\n",
    "g"
   ]
  },
  {
   "cell_type": "code",
   "execution_count": 8,
   "metadata": {},
   "outputs": [
    {
     "data": {
      "text/html": [
       "<div>\n",
       "<style>\n",
       "    .dataframe thead tr:only-child th {\n",
       "        text-align: right;\n",
       "    }\n",
       "\n",
       "    .dataframe thead th {\n",
       "        text-align: left;\n",
       "    }\n",
       "\n",
       "    .dataframe tbody tr th {\n",
       "        vertical-align: top;\n",
       "    }\n",
       "</style>\n",
       "<table border=\"1\" class=\"dataframe\">\n",
       "  <thead>\n",
       "    <tr style=\"text-align: right;\">\n",
       "      <th></th>\n",
       "      <th>HH1</th>\n",
       "      <th>HH2</th>\n",
       "      <th>LN</th>\n",
       "      <th>WM1</th>\n",
       "      <th>WM2</th>\n",
       "      <th>WM4</th>\n",
       "      <th>WM5</th>\n",
       "      <th>WM6D</th>\n",
       "      <th>WM6M</th>\n",
       "      <th>WM6Y</th>\n",
       "      <th>...</th>\n",
       "      <th>CSURV</th>\n",
       "      <th>CDEAD</th>\n",
       "      <th>welevel</th>\n",
       "      <th>religion</th>\n",
       "      <th>zone</th>\n",
       "      <th>wmweight</th>\n",
       "      <th>wscore</th>\n",
       "      <th>windex5</th>\n",
       "      <th>PSU</th>\n",
       "      <th>stratum</th>\n",
       "    </tr>\n",
       "  </thead>\n",
       "  <tbody>\n",
       "    <tr>\n",
       "      <th>0</th>\n",
       "      <td>1</td>\n",
       "      <td>1</td>\n",
       "      <td>3</td>\n",
       "      <td>1</td>\n",
       "      <td>1</td>\n",
       "      <td>3</td>\n",
       "      <td>16</td>\n",
       "      <td>4</td>\n",
       "      <td>3</td>\n",
       "      <td>2011</td>\n",
       "      <td>...</td>\n",
       "      <td>0.0</td>\n",
       "      <td>0.0</td>\n",
       "      <td>3.0</td>\n",
       "      <td>1</td>\n",
       "      <td>4</td>\n",
       "      <td>1.199659</td>\n",
       "      <td>1.580774</td>\n",
       "      <td>5</td>\n",
       "      <td>1</td>\n",
       "      <td>1</td>\n",
       "    </tr>\n",
       "    <tr>\n",
       "      <th>1</th>\n",
       "      <td>1</td>\n",
       "      <td>2</td>\n",
       "      <td>2</td>\n",
       "      <td>1</td>\n",
       "      <td>2</td>\n",
       "      <td>2</td>\n",
       "      <td>7</td>\n",
       "      <td>4</td>\n",
       "      <td>3</td>\n",
       "      <td>2011</td>\n",
       "      <td>...</td>\n",
       "      <td>0.0</td>\n",
       "      <td>0.0</td>\n",
       "      <td>3.0</td>\n",
       "      <td>1</td>\n",
       "      <td>4</td>\n",
       "      <td>1.199659</td>\n",
       "      <td>1.355768</td>\n",
       "      <td>5</td>\n",
       "      <td>1</td>\n",
       "      <td>1</td>\n",
       "    </tr>\n",
       "    <tr>\n",
       "      <th>2</th>\n",
       "      <td>1</td>\n",
       "      <td>3</td>\n",
       "      <td>2</td>\n",
       "      <td>1</td>\n",
       "      <td>3</td>\n",
       "      <td>2</td>\n",
       "      <td>7</td>\n",
       "      <td>21</td>\n",
       "      <td>2</td>\n",
       "      <td>2011</td>\n",
       "      <td>...</td>\n",
       "      <td>0.0</td>\n",
       "      <td>0.0</td>\n",
       "      <td>3.0</td>\n",
       "      <td>1</td>\n",
       "      <td>4</td>\n",
       "      <td>1.199659</td>\n",
       "      <td>1.351060</td>\n",
       "      <td>5</td>\n",
       "      <td>1</td>\n",
       "      <td>1</td>\n",
       "    </tr>\n",
       "    <tr>\n",
       "      <th>3</th>\n",
       "      <td>1</td>\n",
       "      <td>4</td>\n",
       "      <td>2</td>\n",
       "      <td>1</td>\n",
       "      <td>4</td>\n",
       "      <td>2</td>\n",
       "      <td>16</td>\n",
       "      <td>21</td>\n",
       "      <td>2</td>\n",
       "      <td>2011</td>\n",
       "      <td>...</td>\n",
       "      <td>4.0</td>\n",
       "      <td>0.0</td>\n",
       "      <td>3.0</td>\n",
       "      <td>1</td>\n",
       "      <td>4</td>\n",
       "      <td>1.199659</td>\n",
       "      <td>1.653178</td>\n",
       "      <td>5</td>\n",
       "      <td>1</td>\n",
       "      <td>1</td>\n",
       "    </tr>\n",
       "    <tr>\n",
       "      <th>4</th>\n",
       "      <td>1</td>\n",
       "      <td>6</td>\n",
       "      <td>2</td>\n",
       "      <td>1</td>\n",
       "      <td>6</td>\n",
       "      <td>2</td>\n",
       "      <td>11</td>\n",
       "      <td>21</td>\n",
       "      <td>2</td>\n",
       "      <td>2011</td>\n",
       "      <td>...</td>\n",
       "      <td>1.0</td>\n",
       "      <td>1.0</td>\n",
       "      <td>3.0</td>\n",
       "      <td>1</td>\n",
       "      <td>4</td>\n",
       "      <td>1.199659</td>\n",
       "      <td>1.964425</td>\n",
       "      <td>5</td>\n",
       "      <td>1</td>\n",
       "      <td>1</td>\n",
       "    </tr>\n",
       "  </tbody>\n",
       "</table>\n",
       "<p>5 rows × 254 columns</p>\n",
       "</div>"
      ],
      "text/plain": [
       "   HH1  HH2  LN  WM1  WM2  WM4  WM5  WM6D  WM6M  WM6Y   ...     CSURV  CDEAD  \\\n",
       "0    1    1   3    1    1    3   16     4     3  2011   ...       0.0    0.0   \n",
       "1    1    2   2    1    2    2    7     4     3  2011   ...       0.0    0.0   \n",
       "2    1    3   2    1    3    2    7    21     2  2011   ...       0.0    0.0   \n",
       "3    1    4   2    1    4    2   16    21     2  2011   ...       4.0    0.0   \n",
       "4    1    6   2    1    6    2   11    21     2  2011   ...       1.0    1.0   \n",
       "\n",
       "   welevel  religion  zone  wmweight    wscore  windex5  PSU  stratum  \n",
       "0      3.0         1     4  1.199659  1.580774        5    1        1  \n",
       "1      3.0         1     4  1.199659  1.355768        5    1        1  \n",
       "2      3.0         1     4  1.199659  1.351060        5    1        1  \n",
       "3      3.0         1     4  1.199659  1.653178        5    1        1  \n",
       "4      3.0         1     4  1.199659  1.964425        5    1        1  \n",
       "\n",
       "[5 rows x 254 columns]"
      ]
     },
     "execution_count": 8,
     "metadata": {},
     "output_type": "execute_result"
    }
   ],
   "source": [
    "columnNumbers = [x for x in range(wm_df.shape[1])]  # list of columns' integer indices\n",
    "\n",
    "columnNumbers.remove(0) #removing column integer index 0\n",
    "wm_df = wm_df.iloc[:, columnNumbers] #return all columns except 0th column\n",
    "wm_df.head()"
   ]
  },
  {
   "cell_type": "code",
   "execution_count": 9,
   "metadata": {
    "collapsed": true
   },
   "outputs": [],
   "source": [
    "ch_wm_df = ch_df.merge(wm_df, on = ['HH1','HH2'],suffixes = ('', '_y'))"
   ]
  },
  {
   "cell_type": "code",
   "execution_count": 10,
   "metadata": {
    "collapsed": true
   },
   "outputs": [],
   "source": [
    "ch_wm_df = ch_wm_df[ch_wm_df.columns.drop(list(ch_wm_df.filter(regex='_y')))]"
   ]
  },
  {
   "cell_type": "code",
   "execution_count": 11,
   "metadata": {},
   "outputs": [
    {
     "data": {
      "text/html": [
       "<div>\n",
       "<style>\n",
       "    .dataframe thead tr:only-child th {\n",
       "        text-align: right;\n",
       "    }\n",
       "\n",
       "    .dataframe thead th {\n",
       "        text-align: left;\n",
       "    }\n",
       "\n",
       "    .dataframe tbody tr th {\n",
       "        vertical-align: top;\n",
       "    }\n",
       "</style>\n",
       "<table border=\"1\" class=\"dataframe\">\n",
       "  <thead>\n",
       "    <tr style=\"text-align: right;\">\n",
       "      <th></th>\n",
       "      <th>HH1</th>\n",
       "      <th>HH2</th>\n",
       "      <th>LN</th>\n",
       "      <th>UF1</th>\n",
       "      <th>UF2</th>\n",
       "      <th>UF4</th>\n",
       "      <th>UF6</th>\n",
       "      <th>UF7</th>\n",
       "      <th>UF8D</th>\n",
       "      <th>UF8M</th>\n",
       "      <th>...</th>\n",
       "      <th>WDOM</th>\n",
       "      <th>WAGEM</th>\n",
       "      <th>WDOBFC</th>\n",
       "      <th>WDOBLC</th>\n",
       "      <th>MSTATUS</th>\n",
       "      <th>CEB</th>\n",
       "      <th>CSURV</th>\n",
       "      <th>CDEAD</th>\n",
       "      <th>welevel</th>\n",
       "      <th>wmweight</th>\n",
       "    </tr>\n",
       "  </thead>\n",
       "  <tbody>\n",
       "    <tr>\n",
       "      <th>0</th>\n",
       "      <td>1</td>\n",
       "      <td>4</td>\n",
       "      <td>6</td>\n",
       "      <td>1</td>\n",
       "      <td>4</td>\n",
       "      <td>6</td>\n",
       "      <td>2</td>\n",
       "      <td>15</td>\n",
       "      <td>21</td>\n",
       "      <td>2</td>\n",
       "      <td>...</td>\n",
       "      <td>1204.0</td>\n",
       "      <td>27.0</td>\n",
       "      <td>1222.0</td>\n",
       "      <td>1280.0</td>\n",
       "      <td>1.0</td>\n",
       "      <td>4.0</td>\n",
       "      <td>4.0</td>\n",
       "      <td>0.0</td>\n",
       "      <td>3.0</td>\n",
       "      <td>1.199659</td>\n",
       "    </tr>\n",
       "    <tr>\n",
       "      <th>1</th>\n",
       "      <td>1</td>\n",
       "      <td>6</td>\n",
       "      <td>3</td>\n",
       "      <td>1</td>\n",
       "      <td>6</td>\n",
       "      <td>3</td>\n",
       "      <td>2</td>\n",
       "      <td>11</td>\n",
       "      <td>21</td>\n",
       "      <td>2</td>\n",
       "      <td>...</td>\n",
       "      <td>1307.0</td>\n",
       "      <td>29.0</td>\n",
       "      <td>1329.0</td>\n",
       "      <td>1329.0</td>\n",
       "      <td>1.0</td>\n",
       "      <td>2.0</td>\n",
       "      <td>1.0</td>\n",
       "      <td>1.0</td>\n",
       "      <td>3.0</td>\n",
       "      <td>1.199659</td>\n",
       "    </tr>\n",
       "    <tr>\n",
       "      <th>2</th>\n",
       "      <td>1</td>\n",
       "      <td>7</td>\n",
       "      <td>4</td>\n",
       "      <td>1</td>\n",
       "      <td>7</td>\n",
       "      <td>4</td>\n",
       "      <td>2</td>\n",
       "      <td>16</td>\n",
       "      <td>21</td>\n",
       "      <td>2</td>\n",
       "      <td>...</td>\n",
       "      <td>1201.0</td>\n",
       "      <td>22.0</td>\n",
       "      <td>1236.0</td>\n",
       "      <td>1320.0</td>\n",
       "      <td>1.0</td>\n",
       "      <td>3.0</td>\n",
       "      <td>3.0</td>\n",
       "      <td>0.0</td>\n",
       "      <td>3.0</td>\n",
       "      <td>1.199659</td>\n",
       "    </tr>\n",
       "    <tr>\n",
       "      <th>3</th>\n",
       "      <td>1</td>\n",
       "      <td>7</td>\n",
       "      <td>5</td>\n",
       "      <td>1</td>\n",
       "      <td>7</td>\n",
       "      <td>5</td>\n",
       "      <td>2</td>\n",
       "      <td>16</td>\n",
       "      <td>21</td>\n",
       "      <td>2</td>\n",
       "      <td>...</td>\n",
       "      <td>1201.0</td>\n",
       "      <td>22.0</td>\n",
       "      <td>1236.0</td>\n",
       "      <td>1320.0</td>\n",
       "      <td>1.0</td>\n",
       "      <td>3.0</td>\n",
       "      <td>3.0</td>\n",
       "      <td>0.0</td>\n",
       "      <td>3.0</td>\n",
       "      <td>1.199659</td>\n",
       "    </tr>\n",
       "    <tr>\n",
       "      <th>4</th>\n",
       "      <td>1</td>\n",
       "      <td>8</td>\n",
       "      <td>5</td>\n",
       "      <td>1</td>\n",
       "      <td>8</td>\n",
       "      <td>5</td>\n",
       "      <td>2</td>\n",
       "      <td>15</td>\n",
       "      <td>21</td>\n",
       "      <td>4</td>\n",
       "      <td>...</td>\n",
       "      <td>1220.0</td>\n",
       "      <td>26.0</td>\n",
       "      <td>1229.0</td>\n",
       "      <td>1289.0</td>\n",
       "      <td>1.0</td>\n",
       "      <td>3.0</td>\n",
       "      <td>3.0</td>\n",
       "      <td>0.0</td>\n",
       "      <td>3.0</td>\n",
       "      <td>1.199659</td>\n",
       "    </tr>\n",
       "  </tbody>\n",
       "</table>\n",
       "<p>5 rows × 523 columns</p>\n",
       "</div>"
      ],
      "text/plain": [
       "   HH1  HH2  LN  UF1  UF2  UF4  UF6  UF7  UF8D  UF8M    ...       WDOM  WAGEM  \\\n",
       "0    1    4   6    1    4    6    2   15    21     2    ...     1204.0   27.0   \n",
       "1    1    6   3    1    6    3    2   11    21     2    ...     1307.0   29.0   \n",
       "2    1    7   4    1    7    4    2   16    21     2    ...     1201.0   22.0   \n",
       "3    1    7   5    1    7    5    2   16    21     2    ...     1201.0   22.0   \n",
       "4    1    8   5    1    8    5    2   15    21     4    ...     1220.0   26.0   \n",
       "\n",
       "   WDOBFC  WDOBLC  MSTATUS  CEB  CSURV  CDEAD  welevel  wmweight  \n",
       "0  1222.0  1280.0      1.0  4.0    4.0    0.0      3.0  1.199659  \n",
       "1  1329.0  1329.0      1.0  2.0    1.0    1.0      3.0  1.199659  \n",
       "2  1236.0  1320.0      1.0  3.0    3.0    0.0      3.0  1.199659  \n",
       "3  1236.0  1320.0      1.0  3.0    3.0    0.0      3.0  1.199659  \n",
       "4  1229.0  1289.0      1.0  3.0    3.0    0.0      3.0  1.199659  \n",
       "\n",
       "[5 rows x 523 columns]"
      ]
     },
     "execution_count": 11,
     "metadata": {},
     "output_type": "execute_result"
    }
   ],
   "source": [
    "ch_wm_df.head()"
   ]
  },
  {
   "cell_type": "code",
   "execution_count": 12,
   "metadata": {
    "collapsed": true
   },
   "outputs": [],
   "source": [
    "hh_df = pd.read_csv('hh.csv', low_memory = False)"
   ]
  },
  {
   "cell_type": "code",
   "execution_count": 13,
   "metadata": {},
   "outputs": [
    {
     "data": {
      "text/plain": [
       "{dtype('int64'): Index(['Unnamed: 0', 'HH1', 'HH2', 'HH3', 'HH4', 'HH5D', 'HH5M', 'HH5Y', 'HH6',\n",
       "        'HH7', 'HH9', 'HH16', 'HH17', 'zone', 'windex5', 'PSU', 'stratum'],\n",
       "       dtype='object'),\n",
       " dtype('float64'): Index(['HH10', 'HH11', 'HH12', 'HH13', 'HH14', 'HH15', 'HH18H', 'HH18M',\n",
       "        'HH19H', 'HH19M', 'WS1', 'WS2', 'WS3', 'WS4', 'WS4AA', 'WS4AB', 'WS4B',\n",
       "        'WS5', 'WS6', 'WS8', 'WS9', 'WS10', 'WS11', 'HC1A', 'HC1B', 'HC1C',\n",
       "        'HC2', 'HC3', 'HC4', 'HC5', 'HC6', 'HC7', 'HC8A', 'HC8B', 'HC8C',\n",
       "        'HC8D', 'HC8E', 'HC8F', 'HC8G', 'HC8H', 'HC8I', 'HC8J', 'HC8K', 'HC8L',\n",
       "        'HC8M', 'HC8N', 'HC8O', 'HC9A', 'HC9B', 'HC9C', 'HC9D', 'HC9E', 'HC9F',\n",
       "        'HC9G', 'HC10', 'HC11', 'HC12', 'HC13', 'HC14A', 'HC14B', 'HC14C',\n",
       "        'HC14D', 'HC14E', 'HC14F', 'HC14G', 'HC14H', 'HC14I', 'HC15', 'TN1',\n",
       "        'TN2', 'CD6', 'CD8', 'CD9', 'CD_FLAG', 'CD11', 'CD12', 'CD13', 'CD14',\n",
       "        'CD15', 'CD16', 'CD17', 'CD18', 'CD19', 'CD20', 'CD21', 'CD22', 'HW1',\n",
       "        'HW2', 'HW4', 'SI1', 'HHSEX', 'religion', 'helevel', 'hhweight',\n",
       "        'wscore'],\n",
       "       dtype='object'),\n",
       " dtype('O'): Index(['WS7A', 'WS7B', 'WS7C', 'WS7D', 'WS7E', 'WS7F', 'WS7G', 'WS7H', 'WS7X',\n",
       "        'WS7Z', 'HW3A', 'HW3B', 'HW3C', 'HW3D', 'HW3Y', 'HW5A', 'HW5B', 'HW5C',\n",
       "        'HW5D', 'HW5Y'],\n",
       "       dtype='object')}"
      ]
     },
     "execution_count": 13,
     "metadata": {},
     "output_type": "execute_result"
    }
   ],
   "source": [
    "hh_df.iloc[:,[36,41]] = hh_df.iloc[:,[36,41]].astype(object)\n",
    "g = hh_df.columns.to_series().groupby(hh_df.dtypes).groups\n",
    "g"
   ]
  },
  {
   "cell_type": "code",
   "execution_count": 14,
   "metadata": {},
   "outputs": [
    {
     "data": {
      "text/html": [
       "<div>\n",
       "<style>\n",
       "    .dataframe thead tr:only-child th {\n",
       "        text-align: right;\n",
       "    }\n",
       "\n",
       "    .dataframe thead th {\n",
       "        text-align: left;\n",
       "    }\n",
       "\n",
       "    .dataframe tbody tr th {\n",
       "        vertical-align: top;\n",
       "    }\n",
       "</style>\n",
       "<table border=\"1\" class=\"dataframe\">\n",
       "  <thead>\n",
       "    <tr style=\"text-align: right;\">\n",
       "      <th></th>\n",
       "      <th>HH1</th>\n",
       "      <th>HH2</th>\n",
       "      <th>HH3</th>\n",
       "      <th>HH4</th>\n",
       "      <th>HH5D</th>\n",
       "      <th>HH5M</th>\n",
       "      <th>HH5Y</th>\n",
       "      <th>HH6</th>\n",
       "      <th>HH7</th>\n",
       "      <th>HH9</th>\n",
       "      <th>...</th>\n",
       "      <th>SI1</th>\n",
       "      <th>HHSEX</th>\n",
       "      <th>religion</th>\n",
       "      <th>zone</th>\n",
       "      <th>helevel</th>\n",
       "      <th>hhweight</th>\n",
       "      <th>wscore</th>\n",
       "      <th>windex5</th>\n",
       "      <th>PSU</th>\n",
       "      <th>stratum</th>\n",
       "    </tr>\n",
       "  </thead>\n",
       "  <tbody>\n",
       "    <tr>\n",
       "      <th>0</th>\n",
       "      <td>1</td>\n",
       "      <td>1</td>\n",
       "      <td>16</td>\n",
       "      <td>2</td>\n",
       "      <td>4</td>\n",
       "      <td>3</td>\n",
       "      <td>2011</td>\n",
       "      <td>1</td>\n",
       "      <td>1</td>\n",
       "      <td>1</td>\n",
       "      <td>...</td>\n",
       "      <td>3.0</td>\n",
       "      <td>1.0</td>\n",
       "      <td>1.0</td>\n",
       "      <td>4</td>\n",
       "      <td>3.0</td>\n",
       "      <td>1.250765</td>\n",
       "      <td>1.580774</td>\n",
       "      <td>5</td>\n",
       "      <td>1</td>\n",
       "      <td>1</td>\n",
       "    </tr>\n",
       "    <tr>\n",
       "      <th>1</th>\n",
       "      <td>1</td>\n",
       "      <td>2</td>\n",
       "      <td>7</td>\n",
       "      <td>2</td>\n",
       "      <td>4</td>\n",
       "      <td>3</td>\n",
       "      <td>2011</td>\n",
       "      <td>1</td>\n",
       "      <td>1</td>\n",
       "      <td>1</td>\n",
       "      <td>...</td>\n",
       "      <td>3.0</td>\n",
       "      <td>2.0</td>\n",
       "      <td>1.0</td>\n",
       "      <td>4</td>\n",
       "      <td>1.0</td>\n",
       "      <td>1.250765</td>\n",
       "      <td>1.355768</td>\n",
       "      <td>5</td>\n",
       "      <td>1</td>\n",
       "      <td>1</td>\n",
       "    </tr>\n",
       "    <tr>\n",
       "      <th>2</th>\n",
       "      <td>1</td>\n",
       "      <td>3</td>\n",
       "      <td>7</td>\n",
       "      <td>2</td>\n",
       "      <td>21</td>\n",
       "      <td>2</td>\n",
       "      <td>2011</td>\n",
       "      <td>1</td>\n",
       "      <td>1</td>\n",
       "      <td>1</td>\n",
       "      <td>...</td>\n",
       "      <td>3.0</td>\n",
       "      <td>2.0</td>\n",
       "      <td>1.0</td>\n",
       "      <td>4</td>\n",
       "      <td>2.0</td>\n",
       "      <td>1.250765</td>\n",
       "      <td>1.351060</td>\n",
       "      <td>5</td>\n",
       "      <td>1</td>\n",
       "      <td>1</td>\n",
       "    </tr>\n",
       "    <tr>\n",
       "      <th>3</th>\n",
       "      <td>1</td>\n",
       "      <td>4</td>\n",
       "      <td>15</td>\n",
       "      <td>2</td>\n",
       "      <td>21</td>\n",
       "      <td>2</td>\n",
       "      <td>2011</td>\n",
       "      <td>1</td>\n",
       "      <td>1</td>\n",
       "      <td>1</td>\n",
       "      <td>...</td>\n",
       "      <td>3.0</td>\n",
       "      <td>1.0</td>\n",
       "      <td>1.0</td>\n",
       "      <td>4</td>\n",
       "      <td>3.0</td>\n",
       "      <td>1.250765</td>\n",
       "      <td>1.653178</td>\n",
       "      <td>5</td>\n",
       "      <td>1</td>\n",
       "      <td>1</td>\n",
       "    </tr>\n",
       "    <tr>\n",
       "      <th>4</th>\n",
       "      <td>1</td>\n",
       "      <td>5</td>\n",
       "      <td>12</td>\n",
       "      <td>2</td>\n",
       "      <td>21</td>\n",
       "      <td>2</td>\n",
       "      <td>2011</td>\n",
       "      <td>1</td>\n",
       "      <td>1</td>\n",
       "      <td>1</td>\n",
       "      <td>...</td>\n",
       "      <td>3.0</td>\n",
       "      <td>1.0</td>\n",
       "      <td>1.0</td>\n",
       "      <td>4</td>\n",
       "      <td>2.0</td>\n",
       "      <td>1.250765</td>\n",
       "      <td>1.973658</td>\n",
       "      <td>5</td>\n",
       "      <td>1</td>\n",
       "      <td>1</td>\n",
       "    </tr>\n",
       "  </tbody>\n",
       "</table>\n",
       "<p>5 rows × 131 columns</p>\n",
       "</div>"
      ],
      "text/plain": [
       "   HH1  HH2  HH3  HH4  HH5D  HH5M  HH5Y  HH6  HH7  HH9   ...     SI1  HHSEX  \\\n",
       "0    1    1   16    2     4     3  2011    1    1    1   ...     3.0    1.0   \n",
       "1    1    2    7    2     4     3  2011    1    1    1   ...     3.0    2.0   \n",
       "2    1    3    7    2    21     2  2011    1    1    1   ...     3.0    2.0   \n",
       "3    1    4   15    2    21     2  2011    1    1    1   ...     3.0    1.0   \n",
       "4    1    5   12    2    21     2  2011    1    1    1   ...     3.0    1.0   \n",
       "\n",
       "   religion  zone  helevel  hhweight    wscore  windex5  PSU  stratum  \n",
       "0       1.0     4      3.0  1.250765  1.580774        5    1        1  \n",
       "1       1.0     4      1.0  1.250765  1.355768        5    1        1  \n",
       "2       1.0     4      2.0  1.250765  1.351060        5    1        1  \n",
       "3       1.0     4      3.0  1.250765  1.653178        5    1        1  \n",
       "4       1.0     4      2.0  1.250765  1.973658        5    1        1  \n",
       "\n",
       "[5 rows x 131 columns]"
      ]
     },
     "execution_count": 14,
     "metadata": {},
     "output_type": "execute_result"
    }
   ],
   "source": [
    "columnNumbers = [x for x in range(hh_df.shape[1])]  # list of columns' integer indices\n",
    "\n",
    "columnNumbers.remove(0) #removing column integer index 0\n",
    "hh_df = hh_df.iloc[:, columnNumbers] #return all columns except 0th column\n",
    "hh_df.head()"
   ]
  },
  {
   "cell_type": "code",
   "execution_count": 15,
   "metadata": {
    "collapsed": true
   },
   "outputs": [],
   "source": [
    "df = ch_wm_df.merge(hh_df, on = ['HH1','HH2'],suffixes = ('', '_y'))"
   ]
  },
  {
   "cell_type": "code",
   "execution_count": 16,
   "metadata": {
    "collapsed": true
   },
   "outputs": [],
   "source": [
    "df = df[df.columns.drop(list(df.filter(regex='_y')))]"
   ]
  },
  {
   "cell_type": "code",
   "execution_count": 17,
   "metadata": {},
   "outputs": [
    {
     "data": {
      "text/html": [
       "<div>\n",
       "<style>\n",
       "    .dataframe thead tr:only-child th {\n",
       "        text-align: right;\n",
       "    }\n",
       "\n",
       "    .dataframe thead th {\n",
       "        text-align: left;\n",
       "    }\n",
       "\n",
       "    .dataframe tbody tr th {\n",
       "        vertical-align: top;\n",
       "    }\n",
       "</style>\n",
       "<table border=\"1\" class=\"dataframe\">\n",
       "  <thead>\n",
       "    <tr style=\"text-align: right;\">\n",
       "      <th></th>\n",
       "      <th>HH1</th>\n",
       "      <th>HH2</th>\n",
       "      <th>LN</th>\n",
       "      <th>UF1</th>\n",
       "      <th>UF2</th>\n",
       "      <th>UF4</th>\n",
       "      <th>UF6</th>\n",
       "      <th>UF7</th>\n",
       "      <th>UF8D</th>\n",
       "      <th>UF8M</th>\n",
       "      <th>...</th>\n",
       "      <th>HW4</th>\n",
       "      <th>HW5A</th>\n",
       "      <th>HW5B</th>\n",
       "      <th>HW5C</th>\n",
       "      <th>HW5D</th>\n",
       "      <th>HW5Y</th>\n",
       "      <th>SI1</th>\n",
       "      <th>HHSEX</th>\n",
       "      <th>helevel</th>\n",
       "      <th>hhweight</th>\n",
       "    </tr>\n",
       "  </thead>\n",
       "  <tbody>\n",
       "    <tr>\n",
       "      <th>0</th>\n",
       "      <td>1</td>\n",
       "      <td>4</td>\n",
       "      <td>6</td>\n",
       "      <td>1</td>\n",
       "      <td>4</td>\n",
       "      <td>6</td>\n",
       "      <td>2</td>\n",
       "      <td>15</td>\n",
       "      <td>21</td>\n",
       "      <td>2</td>\n",
       "      <td>...</td>\n",
       "      <td>2.0</td>\n",
       "      <td>NaN</td>\n",
       "      <td>NaN</td>\n",
       "      <td>NaN</td>\n",
       "      <td>NaN</td>\n",
       "      <td>NaN</td>\n",
       "      <td>3.0</td>\n",
       "      <td>1.0</td>\n",
       "      <td>3.0</td>\n",
       "      <td>1.250765</td>\n",
       "    </tr>\n",
       "    <tr>\n",
       "      <th>1</th>\n",
       "      <td>1</td>\n",
       "      <td>6</td>\n",
       "      <td>3</td>\n",
       "      <td>1</td>\n",
       "      <td>6</td>\n",
       "      <td>3</td>\n",
       "      <td>2</td>\n",
       "      <td>11</td>\n",
       "      <td>21</td>\n",
       "      <td>2</td>\n",
       "      <td>...</td>\n",
       "      <td>1.0</td>\n",
       "      <td>NaN</td>\n",
       "      <td>B</td>\n",
       "      <td>NaN</td>\n",
       "      <td>NaN</td>\n",
       "      <td>NaN</td>\n",
       "      <td>3.0</td>\n",
       "      <td>1.0</td>\n",
       "      <td>3.0</td>\n",
       "      <td>1.250765</td>\n",
       "    </tr>\n",
       "    <tr>\n",
       "      <th>2</th>\n",
       "      <td>1</td>\n",
       "      <td>7</td>\n",
       "      <td>4</td>\n",
       "      <td>1</td>\n",
       "      <td>7</td>\n",
       "      <td>4</td>\n",
       "      <td>2</td>\n",
       "      <td>16</td>\n",
       "      <td>21</td>\n",
       "      <td>2</td>\n",
       "      <td>...</td>\n",
       "      <td>2.0</td>\n",
       "      <td>NaN</td>\n",
       "      <td>NaN</td>\n",
       "      <td>NaN</td>\n",
       "      <td>NaN</td>\n",
       "      <td>NaN</td>\n",
       "      <td>3.0</td>\n",
       "      <td>1.0</td>\n",
       "      <td>3.0</td>\n",
       "      <td>1.250765</td>\n",
       "    </tr>\n",
       "    <tr>\n",
       "      <th>3</th>\n",
       "      <td>1</td>\n",
       "      <td>7</td>\n",
       "      <td>5</td>\n",
       "      <td>1</td>\n",
       "      <td>7</td>\n",
       "      <td>5</td>\n",
       "      <td>2</td>\n",
       "      <td>16</td>\n",
       "      <td>21</td>\n",
       "      <td>2</td>\n",
       "      <td>...</td>\n",
       "      <td>2.0</td>\n",
       "      <td>NaN</td>\n",
       "      <td>NaN</td>\n",
       "      <td>NaN</td>\n",
       "      <td>NaN</td>\n",
       "      <td>NaN</td>\n",
       "      <td>3.0</td>\n",
       "      <td>1.0</td>\n",
       "      <td>3.0</td>\n",
       "      <td>1.250765</td>\n",
       "    </tr>\n",
       "    <tr>\n",
       "      <th>4</th>\n",
       "      <td>1</td>\n",
       "      <td>8</td>\n",
       "      <td>5</td>\n",
       "      <td>1</td>\n",
       "      <td>8</td>\n",
       "      <td>5</td>\n",
       "      <td>2</td>\n",
       "      <td>15</td>\n",
       "      <td>21</td>\n",
       "      <td>4</td>\n",
       "      <td>...</td>\n",
       "      <td>2.0</td>\n",
       "      <td>NaN</td>\n",
       "      <td>NaN</td>\n",
       "      <td>NaN</td>\n",
       "      <td>NaN</td>\n",
       "      <td>NaN</td>\n",
       "      <td>3.0</td>\n",
       "      <td>1.0</td>\n",
       "      <td>2.0</td>\n",
       "      <td>1.250765</td>\n",
       "    </tr>\n",
       "  </tbody>\n",
       "</table>\n",
       "<p>5 rows × 644 columns</p>\n",
       "</div>"
      ],
      "text/plain": [
       "   HH1  HH2  LN  UF1  UF2  UF4  UF6  UF7  UF8D  UF8M    ...     HW4  HW5A  \\\n",
       "0    1    4   6    1    4    6    2   15    21     2    ...     2.0   NaN   \n",
       "1    1    6   3    1    6    3    2   11    21     2    ...     1.0   NaN   \n",
       "2    1    7   4    1    7    4    2   16    21     2    ...     2.0   NaN   \n",
       "3    1    7   5    1    7    5    2   16    21     2    ...     2.0   NaN   \n",
       "4    1    8   5    1    8    5    2   15    21     4    ...     2.0   NaN   \n",
       "\n",
       "   HW5B  HW5C  HW5D  HW5Y  SI1  HHSEX  helevel  hhweight  \n",
       "0   NaN   NaN   NaN   NaN  3.0    1.0      3.0  1.250765  \n",
       "1     B   NaN   NaN   NaN  3.0    1.0      3.0  1.250765  \n",
       "2   NaN   NaN   NaN   NaN  3.0    1.0      3.0  1.250765  \n",
       "3   NaN   NaN   NaN   NaN  3.0    1.0      3.0  1.250765  \n",
       "4   NaN   NaN   NaN   NaN  3.0    1.0      2.0  1.250765  \n",
       "\n",
       "[5 rows x 644 columns]"
      ]
     },
     "execution_count": 17,
     "metadata": {},
     "output_type": "execute_result"
    }
   ],
   "source": [
    "df.head()"
   ]
  },
  {
   "cell_type": "markdown",
   "metadata": {},
   "source": [
    "Remove ID columns"
   ]
  },
  {
   "cell_type": "code",
   "execution_count": 18,
   "metadata": {
    "collapsed": true
   },
   "outputs": [],
   "source": [
    "df = df.loc[:, ~df.columns.str.startswith('UF')]\n",
    "df = df.loc[:, ~df.columns.str.startswith('HH')]\n",
    "df = df.loc[:, ~df.columns.str.startswith('LN')]\n",
    "df.drop('AN1', axis=1, inplace=True)"
   ]
  },
  {
   "cell_type": "code",
   "execution_count": 19,
   "metadata": {},
   "outputs": [
    {
     "data": {
      "text/plain": [
       "array([ 1.,  2.,  3., nan,  9.])"
      ]
     },
     "execution_count": 19,
     "metadata": {},
     "output_type": "execute_result"
    }
   ],
   "source": [
    "df['IM1'].unique()"
   ]
  },
  {
   "cell_type": "code",
   "execution_count": 20,
   "metadata": {
    "collapsed": true
   },
   "outputs": [],
   "source": [
    "#Set the target to column IM1 - Has the card and the card is seen\n",
    "#Seperate the target column from the df.\n",
    "\n",
    "df['has_card'] = np.where(df['IM1'] == 1, 1,0)"
   ]
  },
  {
   "cell_type": "code",
   "execution_count": 21,
   "metadata": {
    "collapsed": true
   },
   "outputs": [],
   "source": [
    "df = df.loc[:, ~df.columns.str.startswith('IM')]"
   ]
  },
  {
   "cell_type": "code",
   "execution_count": 22,
   "metadata": {
    "collapsed": true
   },
   "outputs": [],
   "source": [
    "df = df.fillna(0)"
   ]
  },
  {
   "cell_type": "code",
   "execution_count": 23,
   "metadata": {},
   "outputs": [
    {
     "data": {
      "text/plain": [
       "array([1, 0], dtype=int64)"
      ]
     },
     "execution_count": 23,
     "metadata": {},
     "output_type": "execute_result"
    }
   ],
   "source": [
    "target = df['has_card']\n",
    "target.unique()"
   ]
  },
  {
   "cell_type": "code",
   "execution_count": 24,
   "metadata": {},
   "outputs": [],
   "source": [
    "#Creating a binary variable since by coding Yes to 1 and any other response as 0.\n",
    "\n",
    "y=['has_card']\n",
    "df_vars =df.columns.values.tolist()\n",
    "X=[i for i in df_vars]"
   ]
  },
  {
   "cell_type": "code",
   "execution_count": 25,
   "metadata": {},
   "outputs": [],
   "source": [
    "X_train, X_test, y_train, y_test = train_test_split(df[X],df[y].values.ravel(), test_size=0.3, random_state=0)"
   ]
  },
  {
   "cell_type": "markdown",
   "metadata": {},
   "source": [
    "# Handling data imbalance by upsampling the minority class in Training data"
   ]
  },
  {
   "cell_type": "code",
   "execution_count": 26,
   "metadata": {},
   "outputs": [
    {
     "name": "stdout",
     "output_type": "stream",
     "text": [
      "22592\n",
      "5387\n"
     ]
    }
   ],
   "source": [
    "df_majority = X_train[X_train.has_card == 0]\n",
    "df_minority = X_train[X_train.has_card == 1]\n",
    "\n",
    "print(len(df_majority))\n",
    "print(len(df_minority))\n",
    "\n",
    "min_class_len = len(df_minority)"
   ]
  },
  {
   "cell_type": "code",
   "execution_count": 27,
   "metadata": {},
   "outputs": [
    {
     "data": {
      "text/plain": [
       "1    5387\n",
       "0    5387\n",
       "Name: has_card, dtype: int64"
      ]
     },
     "execution_count": 27,
     "metadata": {},
     "output_type": "execute_result"
    }
   ],
   "source": [
    "# Downsample majority class\n",
    "df_majority_downsampled = resample(df_majority, \n",
    "                                 replace= True,     # sample with replacement\n",
    "                                 n_samples=min_class_len,    # to match majority class\n",
    "                                 random_state=123) # reproducible results\n",
    " \n",
    "# Combine majority class with downsampled minority class\n",
    "df_downsampled = pd.concat([df_minority, df_majority_downsampled])\n",
    " \n",
    "# Display new class counts\n",
    "df_downsampled.has_card.value_counts()"
   ]
  },
  {
   "cell_type": "code",
   "execution_count": 28,
   "metadata": {},
   "outputs": [
    {
     "data": {
      "text/plain": [
       "10774"
      ]
     },
     "execution_count": 28,
     "metadata": {},
     "output_type": "execute_result"
    }
   ],
   "source": [
    "X_train = df_downsampled\n",
    "len(X_train)"
   ]
  },
  {
   "cell_type": "code",
   "execution_count": 29,
   "metadata": {},
   "outputs": [],
   "source": [
    "y_train = df.iloc[X_train.index.tolist(),:]\n",
    "y_train = y_train['has_card']"
   ]
  },
  {
   "cell_type": "code",
   "execution_count": 30,
   "metadata": {},
   "outputs": [],
   "source": [
    "X_train = X_train[X_train.columns.drop(list(X_train.filter(regex='has_card')))]"
   ]
  },
  {
   "cell_type": "code",
   "execution_count": 31,
   "metadata": {},
   "outputs": [
    {
     "data": {
      "text/html": [
       "<div>\n",
       "<style>\n",
       "    .dataframe thead tr:only-child th {\n",
       "        text-align: right;\n",
       "    }\n",
       "\n",
       "    .dataframe thead th {\n",
       "        text-align: left;\n",
       "    }\n",
       "\n",
       "    .dataframe tbody tr th {\n",
       "        vertical-align: top;\n",
       "    }\n",
       "</style>\n",
       "<table border=\"1\" class=\"dataframe\">\n",
       "  <thead>\n",
       "    <tr style=\"text-align: right;\">\n",
       "      <th></th>\n",
       "      <th>AG1D</th>\n",
       "      <th>AG1M</th>\n",
       "      <th>AG1Y</th>\n",
       "      <th>AG2</th>\n",
       "      <th>BR1</th>\n",
       "      <th>BR2</th>\n",
       "      <th>BR3</th>\n",
       "      <th>BR3A</th>\n",
       "      <th>BR4</th>\n",
       "      <th>EC1</th>\n",
       "      <th>...</th>\n",
       "      <th>HW5A_0</th>\n",
       "      <th>HW5A_A</th>\n",
       "      <th>HW5B_0</th>\n",
       "      <th>HW5B_B</th>\n",
       "      <th>HW5C_0</th>\n",
       "      <th>HW5C_C</th>\n",
       "      <th>HW5D_0</th>\n",
       "      <th>HW5D_D</th>\n",
       "      <th>HW5Y_0</th>\n",
       "      <th>HW5Y_Y</th>\n",
       "    </tr>\n",
       "  </thead>\n",
       "  <tbody>\n",
       "    <tr>\n",
       "      <th>23867</th>\n",
       "      <td>15.0</td>\n",
       "      <td>5.0</td>\n",
       "      <td>2009.0</td>\n",
       "      <td>1.0</td>\n",
       "      <td>2.0</td>\n",
       "      <td>0.0</td>\n",
       "      <td>0.0</td>\n",
       "      <td>3.0</td>\n",
       "      <td>0.0</td>\n",
       "      <td>0.0</td>\n",
       "      <td>...</td>\n",
       "      <td>0</td>\n",
       "      <td>1</td>\n",
       "      <td>0</td>\n",
       "      <td>1</td>\n",
       "      <td>1</td>\n",
       "      <td>0</td>\n",
       "      <td>1</td>\n",
       "      <td>0</td>\n",
       "      <td>1</td>\n",
       "      <td>0</td>\n",
       "    </tr>\n",
       "    <tr>\n",
       "      <th>10218</th>\n",
       "      <td>16.0</td>\n",
       "      <td>12.0</td>\n",
       "      <td>2009.0</td>\n",
       "      <td>1.0</td>\n",
       "      <td>2.0</td>\n",
       "      <td>0.0</td>\n",
       "      <td>0.0</td>\n",
       "      <td>3.0</td>\n",
       "      <td>0.0</td>\n",
       "      <td>0.0</td>\n",
       "      <td>...</td>\n",
       "      <td>1</td>\n",
       "      <td>0</td>\n",
       "      <td>1</td>\n",
       "      <td>0</td>\n",
       "      <td>1</td>\n",
       "      <td>0</td>\n",
       "      <td>1</td>\n",
       "      <td>0</td>\n",
       "      <td>1</td>\n",
       "      <td>0</td>\n",
       "    </tr>\n",
       "    <tr>\n",
       "      <th>11774</th>\n",
       "      <td>14.0</td>\n",
       "      <td>8.0</td>\n",
       "      <td>2010.0</td>\n",
       "      <td>0.0</td>\n",
       "      <td>3.0</td>\n",
       "      <td>2.0</td>\n",
       "      <td>2.0</td>\n",
       "      <td>0.0</td>\n",
       "      <td>3.0</td>\n",
       "      <td>0.0</td>\n",
       "      <td>...</td>\n",
       "      <td>0</td>\n",
       "      <td>1</td>\n",
       "      <td>0</td>\n",
       "      <td>1</td>\n",
       "      <td>1</td>\n",
       "      <td>0</td>\n",
       "      <td>1</td>\n",
       "      <td>0</td>\n",
       "      <td>1</td>\n",
       "      <td>0</td>\n",
       "    </tr>\n",
       "    <tr>\n",
       "      <th>249</th>\n",
       "      <td>16.0</td>\n",
       "      <td>7.0</td>\n",
       "      <td>2010.0</td>\n",
       "      <td>0.0</td>\n",
       "      <td>3.0</td>\n",
       "      <td>2.0</td>\n",
       "      <td>1.0</td>\n",
       "      <td>0.0</td>\n",
       "      <td>6.0</td>\n",
       "      <td>0.0</td>\n",
       "      <td>...</td>\n",
       "      <td>1</td>\n",
       "      <td>0</td>\n",
       "      <td>1</td>\n",
       "      <td>0</td>\n",
       "      <td>1</td>\n",
       "      <td>0</td>\n",
       "      <td>1</td>\n",
       "      <td>0</td>\n",
       "      <td>1</td>\n",
       "      <td>0</td>\n",
       "    </tr>\n",
       "    <tr>\n",
       "      <th>39342</th>\n",
       "      <td>5.0</td>\n",
       "      <td>5.0</td>\n",
       "      <td>2009.0</td>\n",
       "      <td>1.0</td>\n",
       "      <td>3.0</td>\n",
       "      <td>2.0</td>\n",
       "      <td>2.0</td>\n",
       "      <td>0.0</td>\n",
       "      <td>4.0</td>\n",
       "      <td>0.0</td>\n",
       "      <td>...</td>\n",
       "      <td>1</td>\n",
       "      <td>0</td>\n",
       "      <td>1</td>\n",
       "      <td>0</td>\n",
       "      <td>1</td>\n",
       "      <td>0</td>\n",
       "      <td>1</td>\n",
       "      <td>0</td>\n",
       "      <td>1</td>\n",
       "      <td>0</td>\n",
       "    </tr>\n",
       "  </tbody>\n",
       "</table>\n",
       "<p>5 rows × 841 columns</p>\n",
       "</div>"
      ],
      "text/plain": [
       "       AG1D  AG1M    AG1Y  AG2  BR1  BR2  BR3  BR3A  BR4  EC1   ...    HW5A_0  \\\n",
       "23867  15.0   5.0  2009.0  1.0  2.0  0.0  0.0   3.0  0.0  0.0   ...         0   \n",
       "10218  16.0  12.0  2009.0  1.0  2.0  0.0  0.0   3.0  0.0  0.0   ...         1   \n",
       "11774  14.0   8.0  2010.0  0.0  3.0  2.0  2.0   0.0  3.0  0.0   ...         0   \n",
       "249    16.0   7.0  2010.0  0.0  3.0  2.0  1.0   0.0  6.0  0.0   ...         1   \n",
       "39342   5.0   5.0  2009.0  1.0  3.0  2.0  2.0   0.0  4.0  0.0   ...         1   \n",
       "\n",
       "       HW5A_A  HW5B_0  HW5B_B  HW5C_0  HW5C_C  HW5D_0  HW5D_D  HW5Y_0  HW5Y_Y  \n",
       "23867       1       0       1       1       0       1       0       1       0  \n",
       "10218       0       1       0       1       0       1       0       1       0  \n",
       "11774       1       0       1       1       0       1       0       1       0  \n",
       "249         0       1       0       1       0       1       0       1       0  \n",
       "39342       0       1       0       1       0       1       0       1       0  \n",
       "\n",
       "[5 rows x 841 columns]"
      ]
     },
     "execution_count": 31,
     "metadata": {},
     "output_type": "execute_result"
    }
   ],
   "source": [
    "#One hot encoding of categorical values using get_dummies function\n",
    "\n",
    "X_train = pd.get_dummies(X_train)\n",
    "X_train.head()"
   ]
  },
  {
   "cell_type": "markdown",
   "metadata": {},
   "source": [
    "1\tYes\t    - 6021   \n",
    "2\tNo\t    - 1279  \n",
    "8\tDK\t    - 102\t  \n",
    "9\tMissing - 3"
   ]
  },
  {
   "cell_type": "markdown",
   "metadata": {},
   "source": [
    "# Logistic Regression Classifier"
   ]
  },
  {
   "cell_type": "code",
   "execution_count": 32,
   "metadata": {},
   "outputs": [
    {
     "data": {
      "text/plain": [
       "LogisticRegression(C=1.0, class_weight=None, dual=False, fit_intercept=True,\n",
       "          intercept_scaling=1, max_iter=100, multi_class='ovr', n_jobs=1,\n",
       "          penalty='l2', random_state=None, solver='liblinear', tol=0.0001,\n",
       "          verbose=0, warm_start=False)"
      ]
     },
     "execution_count": 32,
     "metadata": {},
     "output_type": "execute_result"
    }
   ],
   "source": [
    "#Training the logistic regression model\n",
    "logreg = LogisticRegression()\n",
    "logreg.fit(X_train, y_train)"
   ]
  },
  {
   "cell_type": "code",
   "execution_count": 33,
   "metadata": {
    "collapsed": true
   },
   "outputs": [],
   "source": [
    "feature_importance = abs(logreg.coef_[0])\n",
    "sorted_idx = np.argsort(feature_importance)\n",
    "pos = np.arange(sorted_idx.shape[0]) + .5"
   ]
  },
  {
   "cell_type": "code",
   "execution_count": 34,
   "metadata": {
    "collapsed": true
   },
   "outputs": [],
   "source": [
    "feature_imp_data = list(zip(X_train, feature_importance))\n",
    "feature_imp_data.sort(key=lambda x: x[1], reverse=True) \n",
    "\n",
    "# save the names and their respective scores separately\n",
    "# reverse the tuples to go from most frequent to least frequent \n",
    "people = list(zip(*feature_imp_data))[0]\n",
    "score = list(zip(*feature_imp_data))[1]"
   ]
  },
  {
   "cell_type": "code",
   "execution_count": 35,
   "metadata": {
    "collapsed": true
   },
   "outputs": [],
   "source": [
    "people = people[0:30]\n",
    "score = score[0:30]\n",
    "x_pos = np.arange(len(people)) "
   ]
  },
  {
   "cell_type": "code",
   "execution_count": 36,
   "metadata": {},
   "outputs": [
    {
     "data": {
      "image/png": "[encoded data removed]",
      "text/plain": [
       "<matplotlib.figure.Figure at 0x2040960a7b8>"
      ]
     },
     "metadata": {},
     "output_type": "display_data"
    }
   ],
   "source": [
    "# calculate slope and intercept for the linear trend line\n",
    "slope, intercept = np.polyfit(x_pos, score, 1)\n",
    "trendline = intercept + (slope * x_pos)\n",
    "plt.figure(figsize=(25,5))\n",
    "plt.bar(x_pos, score,align='center')\n",
    "plt.xticks(x_pos, people) \n",
    "plt.ylabel('Feature Importance')\n",
    "plt.suptitle('Logistic Regression Feature Importance For Predicting If The Caregiver Has Card', fontsize=20)\n",
    "plt.tick_params(axis='both', which='major', labelsize=15)\n",
    "plt.tick_params(axis='both', which='minor', labelsize=15)\n",
    "plt.xticks(rotation=90)\n",
    "plt.show()"
   ]
  },
  {
   "cell_type": "code",
   "execution_count": 37,
   "metadata": {},
   "outputs": [
    {
     "name": "stdout",
     "output_type": "stream",
     "text": [
      "Accuracy of logistic regression classifier on test set: 0.72\n"
     ]
    }
   ],
   "source": [
    "X_test = pd.get_dummies(X_test)\n",
    "y_pred = logreg.predict(X_test)\n",
    "print('Accuracy of logistic regression classifier on test set: {:.2f}'.format(logreg.score(X_test, y_test)))"
   ]
  },
  {
   "cell_type": "code",
   "execution_count": 38,
   "metadata": {},
   "outputs": [
    {
     "name": "stdout",
     "output_type": "stream",
     "text": [
      "             precision    recall  f1-score   support\n",
      "\n",
      "          0       0.94      0.69      0.80      9697\n",
      "          1       0.39      0.83      0.53      2295\n",
      "\n",
      "avg / total       0.84      0.72      0.75     11992\n",
      "\n"
     ]
    }
   ],
   "source": [
    "#Overall classification report\n",
    "\n",
    "print(classification_report(y_test, y_pred))"
   ]
  },
  {
   "cell_type": "markdown",
   "metadata": {},
   "source": [
    "# Random Forest Classifier"
   ]
  },
  {
   "cell_type": "markdown",
   "metadata": {},
   "source": [
    "Random Forests is an ensemble model which uses a large number of strong decision trees through bagging.\n",
    "Each decision tree is built on a subset of features and a subset of rows from the data.\n",
    "The model combines all of them in order to smooth out their predictions"
   ]
  },
  {
   "cell_type": "code",
   "execution_count": 39,
   "metadata": {},
   "outputs": [
    {
     "data": {
      "text/plain": [
       "RandomForestClassifier(bootstrap=True, class_weight=None, criterion='gini',\n",
       "            max_depth=None, max_features='auto', max_leaf_nodes=None,\n",
       "            min_impurity_decrease=0.0, min_impurity_split=None,\n",
       "            min_samples_leaf=1, min_samples_split=2,\n",
       "            min_weight_fraction_leaf=0.0, n_estimators=10, n_jobs=1,\n",
       "            oob_score=False, random_state=None, verbose=0,\n",
       "            warm_start=False)"
      ]
     },
     "execution_count": 39,
     "metadata": {},
     "output_type": "execute_result"
    }
   ],
   "source": [
    "# Create a random forest Classifier. By convention, clf means 'Classifier'\n",
    "rfc = RandomForestClassifier()\n",
    "\n",
    "# Train the Classifier to take the training features and learn how they relate\n",
    "# to the training y \n",
    "rfc.fit(X_train, y_train)"
   ]
  },
  {
   "cell_type": "code",
   "execution_count": 40,
   "metadata": {},
   "outputs": [
    {
     "name": "stdout",
     "output_type": "stream",
     "text": [
      "Accuracy of random forest classifier on test set: 0.71\n"
     ]
    }
   ],
   "source": [
    "y_pred = rfc.predict(X_test)\n",
    "print('Accuracy of random forest classifier on test set: {:.2f}'.format(rfc.score(X_test, y_test)))"
   ]
  },
  {
   "cell_type": "code",
   "execution_count": 41,
   "metadata": {},
   "outputs": [
    {
     "name": "stdout",
     "output_type": "stream",
     "text": [
      "             precision    recall  f1-score   support\n",
      "\n",
      "          0       0.90      0.72      0.80      9697\n",
      "          1       0.36      0.67      0.47      2295\n",
      "\n",
      "avg / total       0.80      0.71      0.74     11992\n",
      "\n"
     ]
    }
   ],
   "source": [
    "#Overall classification report\n",
    "\n",
    "from sklearn.metrics import classification_report\n",
    "print(classification_report(y_test, y_pred))"
   ]
  },
  {
   "cell_type": "markdown",
   "metadata": {},
   "source": [
    "Let's validate the results of Random Forests Model with kfold cross validation"
   ]
  },
  {
   "cell_type": "code",
   "execution_count": 42,
   "metadata": {},
   "outputs": [
    {
     "name": "stdout",
     "output_type": "stream",
     "text": [
      "10-fold cross validation average accuracy: 0.757\n"
     ]
    }
   ],
   "source": [
    "kfold = model_selection.KFold(n_splits=10, random_state=7)\n",
    "scoring = 'accuracy'\n",
    "results = model_selection.cross_val_score(rfc, X_train, y_train, cv=kfold, scoring=scoring)\n",
    "print(\"10-fold cross validation average accuracy: %.3f\" % (results.mean()))"
   ]
  },
  {
   "cell_type": "code",
   "execution_count": 43,
   "metadata": {
    "collapsed": true
   },
   "outputs": [],
   "source": [
    "feature_imp_data = list(zip(X_train, rfc.feature_importances_))"
   ]
  },
  {
   "cell_type": "code",
   "execution_count": 44,
   "metadata": {
    "collapsed": true
   },
   "outputs": [],
   "source": [
    "feature_imp_data.sort(key=lambda x: x[1], reverse=True) \n",
    "\n",
    "# save the names and their respective scores separately\n",
    "# reverse the tuples to go from most frequent to least frequent \n",
    "people = list(zip(*feature_imp_data))[0]\n",
    "score = list(zip(*feature_imp_data))[1]"
   ]
  },
  {
   "cell_type": "code",
   "execution_count": 45,
   "metadata": {
    "collapsed": true
   },
   "outputs": [],
   "source": [
    "people = people[0:30]\n",
    "score = score[0:30]\n",
    "x_pos = np.arange(len(people)) "
   ]
  },
  {
   "cell_type": "code",
   "execution_count": 46,
   "metadata": {
    "scrolled": true
   },
   "outputs": [
    {
     "data": {
      "image/png": "[encoded data removed]",
      "text/plain": [
       "<matplotlib.figure.Figure at 0x204137182e8>"
      ]
     },
     "metadata": {},
     "output_type": "display_data"
    }
   ],
   "source": [
    "# calculate slope and intercept for the linear trend line\n",
    "slope, intercept = np.polyfit(x_pos, score, 1)\n",
    "trendline = intercept + (slope * x_pos)\n",
    "plt.figure(figsize=(25,5))\n",
    "plt.bar(x_pos, score,align='center')\n",
    "plt.xticks(x_pos, people) \n",
    "plt.ylabel('Feature Importance')\n",
    "plt.suptitle('Random Forests Feature Importance For Predicting If The Caregiver Has Card', fontsize=20)\n",
    "plt.tick_params(axis='both', which='major', labelsize=15)\n",
    "plt.tick_params(axis='both', which='minor', labelsize=15)\n",
    "plt.xticks(rotation=90)\n",
    "plt.show()"
   ]
  },
  {
   "cell_type": "code",
   "execution_count": 47,
   "metadata": {},
   "outputs": [
    {
     "data": {
      "image/png": "[encoded data removed]",
      "text/plain": [
       "<matplotlib.figure.Figure at 0x2041372acc0>"
      ]
     },
     "metadata": {},
     "output_type": "display_data"
    }
   ],
   "source": [
    "# calculate the fpr and tpr for all thresholds of the classification\n",
    "probs = rfc.predict_proba(X_test)\n",
    "preds = probs[:,1]\n",
    "fpr, tpr, threshold = metrics.roc_curve(y_test, preds)\n",
    "roc_auc = metrics.auc(fpr, tpr)\n",
    "\n",
    "# method I: plt\n",
    "import matplotlib.pyplot as plt\n",
    "plt.figure(figsize=(10,5))\n",
    "plt.title('Receiver Operating Characteristic for Random Forests')\n",
    "plt.plot(fpr, tpr, 'b', label = 'AUC = %0.2f' % roc_auc)\n",
    "plt.legend(loc = 'lower right')\n",
    "plt.plot([0, 1], [0, 1],'r--')\n",
    "plt.xlim([0, 1])\n",
    "plt.ylim([0, 1])\n",
    "plt.ylabel('True Positive Rate')\n",
    "plt.xlabel('False Positive Rate')\n",
    "plt.show()"
   ]
  },
  {
   "cell_type": "markdown",
   "metadata": {},
   "source": [
    "# Gradient Boosting Decision Tree Classifier"
   ]
  },
  {
   "cell_type": "markdown",
   "metadata": {},
   "source": [
    "Gradient Boosting Decision Trees is an ensemble model which uses a sequence of weak constrained decision trees through boosting.\n",
    "Each tree is allowed a maximum depth and hence tuned and each tree tries to correct the predictions of the trees before it."
   ]
  },
  {
   "cell_type": "code",
   "execution_count": 48,
   "metadata": {
    "collapsed": true
   },
   "outputs": [],
   "source": [
    "gbd = GradientBoostingClassifier()\n",
    "gbd = gbd.fit(X_train, y_train)"
   ]
  },
  {
   "cell_type": "code",
   "execution_count": 49,
   "metadata": {},
   "outputs": [
    {
     "name": "stdout",
     "output_type": "stream",
     "text": [
      "Accuracy of gradient boosting decision tree classifier on test set: 0.83\n"
     ]
    }
   ],
   "source": [
    "y_pred = gbd.predict(X_test)\n",
    "print('Accuracy of gradient boosting decision tree classifier on test set: {:.2f}'.format(gbd.score(X_test, y_test)))"
   ]
  },
  {
   "cell_type": "code",
   "execution_count": 50,
   "metadata": {},
   "outputs": [
    {
     "name": "stdout",
     "output_type": "stream",
     "text": [
      "10-fold cross validation average accuracy: 0.747\n"
     ]
    }
   ],
   "source": [
    "kfold = model_selection.KFold(n_splits=10, random_state=7)\n",
    "scoring = 'accuracy'\n",
    "results = model_selection.cross_val_score(gbd, X_train, y_train, cv=kfold, scoring=scoring)\n",
    "print(\"10-fold cross validation average accuracy: %.3f\" % (results.mean()))"
   ]
  },
  {
   "cell_type": "code",
   "execution_count": 51,
   "metadata": {
    "collapsed": true
   },
   "outputs": [],
   "source": [
    "feature_imp_data = list(zip(X_train, gbd.feature_importances_))"
   ]
  },
  {
   "cell_type": "code",
   "execution_count": 52,
   "metadata": {
    "collapsed": true
   },
   "outputs": [],
   "source": [
    "feature_imp_data.sort(key=lambda x: x[1], reverse=True) \n",
    "\n",
    "# save the names and their respective scores separately\n",
    "# reverse the tuples to go from most frequent to least frequent \n",
    "people = list(zip(*feature_imp_data))[0]\n",
    "score = list(zip(*feature_imp_data))[1]"
   ]
  },
  {
   "cell_type": "code",
   "execution_count": 53,
   "metadata": {
    "collapsed": true
   },
   "outputs": [],
   "source": [
    "people = people[0:30]\n",
    "score = score[0:30]\n",
    "x_pos = np.arange(len(people)) "
   ]
  },
  {
   "cell_type": "code",
   "execution_count": 54,
   "metadata": {},
   "outputs": [
    {
     "name": "stdout",
     "output_type": "stream",
     "text": [
      "             precision    recall  f1-score   support\n",
      "\n",
      "          0       0.91      0.87      0.89      9697\n",
      "          1       0.54      0.65      0.59      2295\n",
      "\n",
      "avg / total       0.84      0.83      0.83     11992\n",
      "\n"
     ]
    }
   ],
   "source": [
    "#Overall classification report\n",
    "\n",
    "from sklearn.metrics import classification_report\n",
    "print(classification_report(y_test, y_pred))"
   ]
  },
  {
   "cell_type": "code",
   "execution_count": 55,
   "metadata": {},
   "outputs": [
    {
     "data": {
      "image/png": "[encoded data removed]",
      "text/plain": [
       "<matplotlib.figure.Figure at 0x20413710390>"
      ]
     },
     "metadata": {},
     "output_type": "display_data"
    }
   ],
   "source": [
    "# calculate slope and intercept for the linear trend line\n",
    "slope, intercept = np.polyfit(x_pos, score, 1)\n",
    "trendline = intercept + (slope * x_pos)\n",
    "plt.figure(figsize=(25,5))\n",
    "plt.bar(x_pos, score,align='center')\n",
    "plt.xticks(x_pos, people) \n",
    "plt.ylabel('Feature Importance')\n",
    "plt.suptitle('Gradient Boosting Decision Trees Feature Importance For Predicting If The Caregiver Has Card', fontsize=20)\n",
    "plt.tick_params(axis='both', which='major', labelsize=15)\n",
    "plt.tick_params(axis='both', which='minor', labelsize=15)\n",
    "plt.xticks(rotation=90)\n",
    "plt.show()"
   ]
  },
  {
   "cell_type": "code",
   "execution_count": 56,
   "metadata": {},
   "outputs": [
    {
     "data": {
      "image/png": "[encoded data removed]",
      "text/plain": [
       "<matplotlib.figure.Figure at 0x2041332de10>"
      ]
     },
     "metadata": {},
     "output_type": "display_data"
    }
   ],
   "source": [
    "# calculate the fpr and tpr for all thresholds of the classification\n",
    "probs = gbd.predict_proba(X_test)\n",
    "preds = probs[:,1]\n",
    "fpr, tpr, threshold = metrics.roc_curve(y_test, preds)\n",
    "roc_auc = metrics.auc(fpr, tpr)\n",
    "\n",
    "# method I: plt\n",
    "import matplotlib.pyplot as plt\n",
    "plt.figure(figsize=(10,5))\n",
    "plt.title('Receiver Operating Characteristic for Gradient Boosting Decision Trees')\n",
    "plt.plot(fpr, tpr, 'b', label = 'AUC = %0.2f' % roc_auc)\n",
    "plt.legend(loc = 'lower right')\n",
    "plt.plot([0, 1], [0, 1],'r--')\n",
    "plt.xlim([0, 1])\n",
    "plt.ylim([0, 1])\n",
    "plt.ylabel('True Positive Rate')\n",
    "plt.xlabel('False Positive Rate')\n",
    "plt.show()"
   ]
  }
 ],
 "metadata": {
  "kernelspec": {
   "display_name": "Python 3",
   "language": "python",
   "name": "python3"
  },
  "language_info": {
   "codemirror_mode": {
    "name": "ipython",
    "version": 3
   },
   "file_extension": ".py",
   "mimetype": "text/x-python",
   "name": "python",
   "nbconvert_exporter": "python",
   "pygments_lexer": "ipython3",
   "version": "3.6.3"
  }
 },
 "nbformat": 4,
 "nbformat_minor": 2
}
